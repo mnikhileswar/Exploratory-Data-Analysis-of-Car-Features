{
 "cells": [
  {
   "cell_type": "code",
   "execution_count": 1,
   "metadata": {
    "_cell_guid": "b1076dfc-b9ad-4769-8c92-a6c4dae69d19",
    "_uuid": "8f2839f25d086af736a60e9eeb907d3b93b6e0e5",
    "execution": {
     "iopub.execute_input": "2020-08-22T07:04:20.861396Z",
     "iopub.status.busy": "2020-08-22T07:04:20.860571Z",
     "iopub.status.idle": "2020-08-22T07:04:20.868867Z",
     "shell.execute_reply": "2020-08-22T07:04:20.868024Z"
    },
    "papermill": {
     "duration": 0.042897,
     "end_time": "2020-08-22T07:04:20.869013",
     "exception": false,
     "start_time": "2020-08-22T07:04:20.826116",
     "status": "completed"
    },
    "tags": []
   },
   "outputs": [
    {
     "name": "stdout",
     "output_type": "stream",
     "text": [
      "/kaggle/input/cardata/data.csv\n"
     ]
    }
   ],
   "source": [
    "# This Python 3 environment comes with many helpful analytics libraries installed\n",
    "# It is defined by the kaggle/python Docker image: https://github.com/kaggle/docker-python\n",
    "# For example, here's several helpful packages to load\n",
    "\n",
    "\n",
    "import os\n",
    "for dirname, _, filenames in os.walk('/kaggle/input'):\n",
    "    for filename in filenames:\n",
    "        print(os.path.join(dirname, filename))\n",
    "\n",
    "# You can write up to 5GB to the current directory (/kaggle/working/) that gets preserved as output when you create a version using \"Save & Run All\" \n",
    "# You can also write temporary files to /kaggle/temp/, but they won't be saved outside of the current session"
   ]
  },
  {
   "cell_type": "markdown",
   "execution_count": null,
   "metadata": {
    "papermill": {
     "duration": 0.025311,
     "end_time": "2020-08-22T07:04:20.921296",
     "exception": false,
     "start_time": "2020-08-22T07:04:20.895985",
     "status": "completed"
    },
    "tags": []
   },
   "source": [
    "#  OBJECTIVE OF THE PROJECT : The objective of the project is to do data pre-processing and exploratory data analysis of the dataset\n",
    " "
   ]
  },
  {
   "cell_type": "markdown",
   "execution_count": null,
   "metadata": {
    "papermill": {
     "duration": 0.025802,
     "end_time": "2020-08-22T07:04:20.972888",
     "exception": false,
     "start_time": "2020-08-22T07:04:20.947086",
     "status": "completed"
    },
    "tags": []
   },
   "source": [
    ">  TASK TO DO  : As a data scientist, the majority of your time will be spent on data pre-processing i.e. making sure you have the right data in the right format. Once this is done, you get a sense of your dataset through applying some descriptive statistics and then, you move on to the exploration stage wherein you plot various graphs and mine the hiddeninsights. In this project, you as a data scientist are expected to perform Exploratory data analysis on how the different features of a car and its price are related. The data comes from the Kaggle dataset \"Car Features and MSRP\". It describes almost 12,000 carmodels, sold in the USA between 1990 and 2017, with the market price (new or used) and some features.\n",
    "> \n",
    "> \n",
    "\n"
   ]
  },
  {
   "cell_type": "markdown",
   "execution_count": null,
   "metadata": {
    "papermill": {
     "duration": 0.025749,
     "end_time": "2020-08-22T07:04:21.024343",
     "exception": false,
     "start_time": "2020-08-22T07:04:20.998594",
     "status": "completed"
    },
    "tags": []
   },
   "source": [
    "# > STEPS TO BE DONE \n",
    "\n",
    "1.\tImport the dataset and the necessary libraries, check datatype, statistical summary, shape, null values etc.\n",
    "2.\tAre there any columns in the dataset which you think are of less relevance. If so, give your reasoning and drop them.\n",
    "3.\tRename the columns \"Engine HP\": \"HP\", \"Engine Cylinders\": \"Cylinders\", \"Transmission Type\": \"Transmission\", \"Driven_Wheels\": \"Drive Mode\",\"highway MPG\": \"MPG-H\", \"city mpg\": \"MPG-C\", \"MSRP\": \"Price\"\n",
    "4.\tCheck for any duplicates in the data, check for null values and missing data and remove them.\n",
    "5.\tPlot graphs of various columns to check for outliers and remove those data points from the dataset.\n",
    "6.\tWhat car brands are the most represented in the dataset and find the average price among the top car brands.\n",
    "7.\tPlot the correlation matrix and document your insights.\n",
    "8.\tPerform EDA and plot different graphs and document your findings (Try to see how other variables affect the price of the car)\n",
    "9.\t(Extra Credits)Split the dataset into 80 and 20 ratio and build a machine learning model with Price as the target variable\n",
    "10.\t(Extra Credits)Try different algorithms and check their performance over metrics like R square, RMSE, MAE etc and document your findings\n"
   ]
  },
  {
   "cell_type": "markdown",
   "execution_count": null,
   "metadata": {
    "papermill": {
     "duration": 0.025577,
     "end_time": "2020-08-22T07:04:21.075734",
     "exception": false,
     "start_time": "2020-08-22T07:04:21.050157",
     "status": "completed"
    },
    "tags": []
   },
   "source": [
    "\n",
    "# Data Description\n",
    "Make : Car Make\n",
    "Model : Car Model\n",
    "Year : Car Year (Marketing)\n",
    "Engine Fuel Type : Engine Fuel Type\n",
    "Engine HP Engine : HorsePower (HP)\n",
    "Engine Cylinders : Engine Cylinders\n",
    "Transmission Type : Transmission Type\n",
    "Driven_Wheels : Driven Wheels\n",
    "Number of Doors : Number of Doors\n",
    "Market Category : Market Category\n",
    "Vehicle Size : Size of Vehicle\n",
    "Vehicle Style : Type of Vehicle\n",
    "highway MPG : Highway MPG\n",
    "city mpg : City MPG\n",
    "Popularity : Popularity (Twitter)\n",
    "MSRP Manufacturer : Suggested Retail Price"
   ]
  },
  {
   "cell_type": "markdown",
   "execution_count": null,
   "metadata": {
    "papermill": {
     "duration": 0.026484,
     "end_time": "2020-08-22T07:04:21.128658",
     "exception": false,
     "start_time": "2020-08-22T07:04:21.102174",
     "status": "completed"
    },
    "tags": []
   },
   "source": [
    "> What is Exploratory Data Analysis (EDA)?\n",
    "Exploratory Data Analysis (EDA) is used on the one hand to answer questions, test business assumptions, generate hypotheses for further analysis. On the other hand, you can also use it to prepare the data for modeling. The thing that these two probably have in common is a good knowledge of your data to either get the answers that you need or to develop an intuition for interpreting the results of future modeling.\n",
    "\n",
    "**There are a lot of ways to reach these goals: you can get a basic description of the data, visualize it, identify patterns in it, identify challenges of using the data, etc.\n",
    "\n",
    "> *One of the things that you’ll often see when you’re reading about EDA is Data profiling. Data profiling is concerned with summarizing your dataset through descriptive statistics. You want to use a variety of measurements to better understand your dataset. The goal of data profiling is to have a solid understanding of your data so you can afterwards start querying and visualizing your data in various ways. However, this doesn’t mean that you don’t have to iterate: exactly because data profiling is concerned with summarizing your dataset, it is frequently used to assess the data quality. Depending on the result of the data profiling, you might decide to correct, discard or handle your data differently.***"
   ]
  },
  {
   "cell_type": "markdown",
   "execution_count": null,
   "metadata": {
    "papermill": {
     "duration": 0.0259,
     "end_time": "2020-08-22T07:04:21.180337",
     "exception": false,
     "start_time": "2020-08-22T07:04:21.154437",
     "status": "completed"
    },
    "tags": []
   },
   "source": [
    "> T********he basics of Exploratory Data Analysis (EDA) in Python with Pandas, Matplotlib and NumPy, such as sampling, feature engineering, correlation, etc.\n",
    "As you will know by now, the Python data manipulation library Pandas is used for data manipulation; For those who are just starting out, this might imply that this package can only be handy when preprocessing data, but much less is true: Pandas is also great to explore your data and to store it after you’re done preprocessing the data."
   ]
  },
  {
   "cell_type": "markdown",
   "execution_count": null,
   "metadata": {
    "papermill": {
     "duration": 0.025427,
     "end_time": "2020-08-22T07:04:21.231421",
     "exception": false,
     "start_time": "2020-08-22T07:04:21.205994",
     "status": "completed"
    },
    "tags": []
   },
   "source": [
    "* ![](http://)![](http://)*  It ****will actually introduce you to some ways to explore your data efficiently with all the above packages so that you can start modeling your data:"
   ]
  },
  {
   "cell_type": "code",
   "execution_count": 2,
   "metadata": {
    "_cell_guid": "79c7e3d0-c299-4dcb-8224-4455121ee9b0",
    "_uuid": "d629ff2d2480ee46fbb7e2d37f6b5fab8052498a",
    "execution": {
     "iopub.execute_input": "2020-08-22T07:04:21.293565Z",
     "iopub.status.busy": "2020-08-22T07:04:21.292686Z",
     "iopub.status.idle": "2020-08-22T07:04:22.611741Z",
     "shell.execute_reply": "2020-08-22T07:04:22.610854Z"
    },
    "papermill": {
     "duration": 1.354864,
     "end_time": "2020-08-22T07:04:22.611889",
     "exception": false,
     "start_time": "2020-08-22T07:04:21.257025",
     "status": "completed"
    },
    "tags": []
   },
   "outputs": [],
   "source": [
    "import numpy as np #\n",
    "import pandas as pd\n",
    "import seaborn as sns #visualisation\n",
    "import matplotlib.pyplot as plt \n",
    "%matplotlib inline\n",
    "sns.set(color_codes=True)\n",
    "from sklearn import datasets , linear_model\n",
    "from sklearn.model_selection import train_test_split\n",
    "from sklearn.linear_model import LinearRegression\n",
    "lr=LinearRegression(normalize=True)\n",
    "from sklearn.metrics import accuracy_score"
   ]
  },
  {
   "cell_type": "markdown",
   "execution_count": null,
   "metadata": {
    "papermill": {
     "duration": 0.025596,
     "end_time": "2020-08-22T07:04:22.664163",
     "exception": false,
     "start_time": "2020-08-22T07:04:22.638567",
     "status": "completed"
    },
    "tags": []
   },
   "source": [
    "**Importing The Data\n",
    "> To sta****rt exploring your data, you’ll need to start by actually loading in your data. You’ll probably know this already, but thanks to the Pandas library, this becomes an easy task: you import the package as pd, following the convention, and you use the read_csv() function, to which you pass the URL in which the data can be found and a header argument. This last argument is one that you can use to make sure that your data is read in correctly: the first row of your data won’t be interpreted as the column names of your DataFrame.******************"
   ]
  },
  {
   "cell_type": "code",
   "execution_count": 3,
   "metadata": {
    "execution": {
     "iopub.execute_input": "2020-08-22T07:04:22.724735Z",
     "iopub.status.busy": "2020-08-22T07:04:22.723961Z",
     "iopub.status.idle": "2020-08-22T07:04:22.785624Z",
     "shell.execute_reply": "2020-08-22T07:04:22.784823Z"
    },
    "papermill": {
     "duration": 0.095602,
     "end_time": "2020-08-22T07:04:22.785763",
     "exception": false,
     "start_time": "2020-08-22T07:04:22.690161",
     "status": "completed"
    },
    "tags": []
   },
   "outputs": [],
   "source": [
    "df=pd.read_csv('/kaggle/input/cardata/data.csv')"
   ]
  },
  {
   "cell_type": "markdown",
   "execution_count": null,
   "metadata": {
    "papermill": {
     "duration": 0.025696,
     "end_time": "2020-08-22T07:04:22.838454",
     "exception": false,
     "start_time": "2020-08-22T07:04:22.812758",
     "status": "completed"
    },
    "tags": []
   },
   "source": [
    "**Now that you have got a general idea about your data set, it’s also a good idea to take a closer look at the data itself. With the help of the head() and tail() functions of the Pandas library, you can easily check out the first and last lines of your DataFrame, respectively.******"
   ]
  },
  {
   "cell_type": "markdown",
   "execution_count": null,
   "metadata": {
    "papermill": {
     "duration": 0.026096,
     "end_time": "2020-08-22T07:04:22.890543",
     "exception": false,
     "start_time": "2020-08-22T07:04:22.864447",
     "status": "completed"
    },
    "tags": []
   },
   "source": [
    "# STARTING MY PROJECT FROM START TO END FROM HERE "
   ]
  },
  {
   "cell_type": "markdown",
   "execution_count": null,
   "metadata": {
    "papermill": {
     "duration": 0.025575,
     "end_time": "2020-08-22T07:04:22.942065",
     "exception": false,
     "start_time": "2020-08-22T07:04:22.916490",
     "status": "completed"
    },
    "tags": []
   },
   "source": [
    "You’ll see that the* *result of the head() and tail() functions doesn’t quite say much when you’re not familiar with this kind of data.\n",
    "\n",
    "You might just see a bunch of rows and columns with numerical values in them. Consider reading up on the data set description if you haven’t done so already, which will give you relevant information on how the data was collected an****d also states the number of attributes and rows, which can be handy to check whether you have imported the data correctly.\n",
    "\n",
    "# DISPLAYING FIRST 10 ROWS"
   ]
  },
  {
   "cell_type": "code",
   "execution_count": 4,
   "metadata": {
    "execution": {
     "iopub.execute_input": "2020-08-22T07:04:23.020095Z",
     "iopub.status.busy": "2020-08-22T07:04:23.019241Z",
     "iopub.status.idle": "2020-08-22T07:04:23.038162Z",
     "shell.execute_reply": "2020-08-22T07:04:23.037543Z"
    },
    "papermill": {
     "duration": 0.070268,
     "end_time": "2020-08-22T07:04:23.038297",
     "exception": false,
     "start_time": "2020-08-22T07:04:22.968029",
     "status": "completed"
    },
    "tags": []
   },
   "outputs": [
    {
     "data": {
      "text/html": [
       "<div>\n",
       "<style scoped>\n",
       "    .dataframe tbody tr th:only-of-type {\n",
       "        vertical-align: middle;\n",
       "    }\n",
       "\n",
       "    .dataframe tbody tr th {\n",
       "        vertical-align: top;\n",
       "    }\n",
       "\n",
       "    .dataframe thead th {\n",
       "        text-align: right;\n",
       "    }\n",
       "</style>\n",
       "<table border=\"1\" class=\"dataframe\">\n",
       "  <thead>\n",
       "    <tr style=\"text-align: right;\">\n",
       "      <th></th>\n",
       "      <th>Make</th>\n",
       "      <th>Model</th>\n",
       "      <th>Year</th>\n",
       "      <th>Engine Fuel Type</th>\n",
       "      <th>Engine HP</th>\n",
       "      <th>Engine Cylinders</th>\n",
       "      <th>Transmission Type</th>\n",
       "      <th>Driven_Wheels</th>\n",
       "      <th>Number of Doors</th>\n",
       "      <th>Market Category</th>\n",
       "      <th>Vehicle Size</th>\n",
       "      <th>Vehicle Style</th>\n",
       "      <th>highway MPG</th>\n",
       "      <th>city mpg</th>\n",
       "      <th>Popularity</th>\n",
       "      <th>MSRP</th>\n",
       "    </tr>\n",
       "  </thead>\n",
       "  <tbody>\n",
       "    <tr>\n",
       "      <th>0</th>\n",
       "      <td>BMW</td>\n",
       "      <td>1 Series M</td>\n",
       "      <td>2011</td>\n",
       "      <td>premium unleaded (required)</td>\n",
       "      <td>335.0</td>\n",
       "      <td>6.0</td>\n",
       "      <td>MANUAL</td>\n",
       "      <td>rear wheel drive</td>\n",
       "      <td>2.0</td>\n",
       "      <td>Factory Tuner,Luxury,High-Performance</td>\n",
       "      <td>Compact</td>\n",
       "      <td>Coupe</td>\n",
       "      <td>26</td>\n",
       "      <td>19</td>\n",
       "      <td>3916</td>\n",
       "      <td>46135</td>\n",
       "    </tr>\n",
       "    <tr>\n",
       "      <th>1</th>\n",
       "      <td>BMW</td>\n",
       "      <td>1 Series</td>\n",
       "      <td>2011</td>\n",
       "      <td>premium unleaded (required)</td>\n",
       "      <td>300.0</td>\n",
       "      <td>6.0</td>\n",
       "      <td>MANUAL</td>\n",
       "      <td>rear wheel drive</td>\n",
       "      <td>2.0</td>\n",
       "      <td>Luxury,Performance</td>\n",
       "      <td>Compact</td>\n",
       "      <td>Convertible</td>\n",
       "      <td>28</td>\n",
       "      <td>19</td>\n",
       "      <td>3916</td>\n",
       "      <td>40650</td>\n",
       "    </tr>\n",
       "    <tr>\n",
       "      <th>2</th>\n",
       "      <td>BMW</td>\n",
       "      <td>1 Series</td>\n",
       "      <td>2011</td>\n",
       "      <td>premium unleaded (required)</td>\n",
       "      <td>300.0</td>\n",
       "      <td>6.0</td>\n",
       "      <td>MANUAL</td>\n",
       "      <td>rear wheel drive</td>\n",
       "      <td>2.0</td>\n",
       "      <td>Luxury,High-Performance</td>\n",
       "      <td>Compact</td>\n",
       "      <td>Coupe</td>\n",
       "      <td>28</td>\n",
       "      <td>20</td>\n",
       "      <td>3916</td>\n",
       "      <td>36350</td>\n",
       "    </tr>\n",
       "    <tr>\n",
       "      <th>3</th>\n",
       "      <td>BMW</td>\n",
       "      <td>1 Series</td>\n",
       "      <td>2011</td>\n",
       "      <td>premium unleaded (required)</td>\n",
       "      <td>230.0</td>\n",
       "      <td>6.0</td>\n",
       "      <td>MANUAL</td>\n",
       "      <td>rear wheel drive</td>\n",
       "      <td>2.0</td>\n",
       "      <td>Luxury,Performance</td>\n",
       "      <td>Compact</td>\n",
       "      <td>Coupe</td>\n",
       "      <td>28</td>\n",
       "      <td>18</td>\n",
       "      <td>3916</td>\n",
       "      <td>29450</td>\n",
       "    </tr>\n",
       "    <tr>\n",
       "      <th>4</th>\n",
       "      <td>BMW</td>\n",
       "      <td>1 Series</td>\n",
       "      <td>2011</td>\n",
       "      <td>premium unleaded (required)</td>\n",
       "      <td>230.0</td>\n",
       "      <td>6.0</td>\n",
       "      <td>MANUAL</td>\n",
       "      <td>rear wheel drive</td>\n",
       "      <td>2.0</td>\n",
       "      <td>Luxury</td>\n",
       "      <td>Compact</td>\n",
       "      <td>Convertible</td>\n",
       "      <td>28</td>\n",
       "      <td>18</td>\n",
       "      <td>3916</td>\n",
       "      <td>34500</td>\n",
       "    </tr>\n",
       "    <tr>\n",
       "      <th>5</th>\n",
       "      <td>BMW</td>\n",
       "      <td>1 Series</td>\n",
       "      <td>2012</td>\n",
       "      <td>premium unleaded (required)</td>\n",
       "      <td>230.0</td>\n",
       "      <td>6.0</td>\n",
       "      <td>MANUAL</td>\n",
       "      <td>rear wheel drive</td>\n",
       "      <td>2.0</td>\n",
       "      <td>Luxury,Performance</td>\n",
       "      <td>Compact</td>\n",
       "      <td>Coupe</td>\n",
       "      <td>28</td>\n",
       "      <td>18</td>\n",
       "      <td>3916</td>\n",
       "      <td>31200</td>\n",
       "    </tr>\n",
       "    <tr>\n",
       "      <th>6</th>\n",
       "      <td>BMW</td>\n",
       "      <td>1 Series</td>\n",
       "      <td>2012</td>\n",
       "      <td>premium unleaded (required)</td>\n",
       "      <td>300.0</td>\n",
       "      <td>6.0</td>\n",
       "      <td>MANUAL</td>\n",
       "      <td>rear wheel drive</td>\n",
       "      <td>2.0</td>\n",
       "      <td>Luxury,Performance</td>\n",
       "      <td>Compact</td>\n",
       "      <td>Convertible</td>\n",
       "      <td>26</td>\n",
       "      <td>17</td>\n",
       "      <td>3916</td>\n",
       "      <td>44100</td>\n",
       "    </tr>\n",
       "    <tr>\n",
       "      <th>7</th>\n",
       "      <td>BMW</td>\n",
       "      <td>1 Series</td>\n",
       "      <td>2012</td>\n",
       "      <td>premium unleaded (required)</td>\n",
       "      <td>300.0</td>\n",
       "      <td>6.0</td>\n",
       "      <td>MANUAL</td>\n",
       "      <td>rear wheel drive</td>\n",
       "      <td>2.0</td>\n",
       "      <td>Luxury,High-Performance</td>\n",
       "      <td>Compact</td>\n",
       "      <td>Coupe</td>\n",
       "      <td>28</td>\n",
       "      <td>20</td>\n",
       "      <td>3916</td>\n",
       "      <td>39300</td>\n",
       "    </tr>\n",
       "    <tr>\n",
       "      <th>8</th>\n",
       "      <td>BMW</td>\n",
       "      <td>1 Series</td>\n",
       "      <td>2012</td>\n",
       "      <td>premium unleaded (required)</td>\n",
       "      <td>230.0</td>\n",
       "      <td>6.0</td>\n",
       "      <td>MANUAL</td>\n",
       "      <td>rear wheel drive</td>\n",
       "      <td>2.0</td>\n",
       "      <td>Luxury</td>\n",
       "      <td>Compact</td>\n",
       "      <td>Convertible</td>\n",
       "      <td>28</td>\n",
       "      <td>18</td>\n",
       "      <td>3916</td>\n",
       "      <td>36900</td>\n",
       "    </tr>\n",
       "    <tr>\n",
       "      <th>9</th>\n",
       "      <td>BMW</td>\n",
       "      <td>1 Series</td>\n",
       "      <td>2013</td>\n",
       "      <td>premium unleaded (required)</td>\n",
       "      <td>230.0</td>\n",
       "      <td>6.0</td>\n",
       "      <td>MANUAL</td>\n",
       "      <td>rear wheel drive</td>\n",
       "      <td>2.0</td>\n",
       "      <td>Luxury</td>\n",
       "      <td>Compact</td>\n",
       "      <td>Convertible</td>\n",
       "      <td>27</td>\n",
       "      <td>18</td>\n",
       "      <td>3916</td>\n",
       "      <td>37200</td>\n",
       "    </tr>\n",
       "  </tbody>\n",
       "</table>\n",
       "</div>"
      ],
      "text/plain": [
       "  Make       Model  Year             Engine Fuel Type  Engine HP  \\\n",
       "0  BMW  1 Series M  2011  premium unleaded (required)      335.0   \n",
       "1  BMW    1 Series  2011  premium unleaded (required)      300.0   \n",
       "2  BMW    1 Series  2011  premium unleaded (required)      300.0   \n",
       "3  BMW    1 Series  2011  premium unleaded (required)      230.0   \n",
       "4  BMW    1 Series  2011  premium unleaded (required)      230.0   \n",
       "5  BMW    1 Series  2012  premium unleaded (required)      230.0   \n",
       "6  BMW    1 Series  2012  premium unleaded (required)      300.0   \n",
       "7  BMW    1 Series  2012  premium unleaded (required)      300.0   \n",
       "8  BMW    1 Series  2012  premium unleaded (required)      230.0   \n",
       "9  BMW    1 Series  2013  premium unleaded (required)      230.0   \n",
       "\n",
       "   Engine Cylinders Transmission Type     Driven_Wheels  Number of Doors  \\\n",
       "0               6.0            MANUAL  rear wheel drive              2.0   \n",
       "1               6.0            MANUAL  rear wheel drive              2.0   \n",
       "2               6.0            MANUAL  rear wheel drive              2.0   \n",
       "3               6.0            MANUAL  rear wheel drive              2.0   \n",
       "4               6.0            MANUAL  rear wheel drive              2.0   \n",
       "5               6.0            MANUAL  rear wheel drive              2.0   \n",
       "6               6.0            MANUAL  rear wheel drive              2.0   \n",
       "7               6.0            MANUAL  rear wheel drive              2.0   \n",
       "8               6.0            MANUAL  rear wheel drive              2.0   \n",
       "9               6.0            MANUAL  rear wheel drive              2.0   \n",
       "\n",
       "                         Market Category Vehicle Size Vehicle Style  \\\n",
       "0  Factory Tuner,Luxury,High-Performance      Compact         Coupe   \n",
       "1                     Luxury,Performance      Compact   Convertible   \n",
       "2                Luxury,High-Performance      Compact         Coupe   \n",
       "3                     Luxury,Performance      Compact         Coupe   \n",
       "4                                 Luxury      Compact   Convertible   \n",
       "5                     Luxury,Performance      Compact         Coupe   \n",
       "6                     Luxury,Performance      Compact   Convertible   \n",
       "7                Luxury,High-Performance      Compact         Coupe   \n",
       "8                                 Luxury      Compact   Convertible   \n",
       "9                                 Luxury      Compact   Convertible   \n",
       "\n",
       "   highway MPG  city mpg  Popularity   MSRP  \n",
       "0           26        19        3916  46135  \n",
       "1           28        19        3916  40650  \n",
       "2           28        20        3916  36350  \n",
       "3           28        18        3916  29450  \n",
       "4           28        18        3916  34500  \n",
       "5           28        18        3916  31200  \n",
       "6           26        17        3916  44100  \n",
       "7           28        20        3916  39300  \n",
       "8           28        18        3916  36900  \n",
       "9           27        18        3916  37200  "
      ]
     },
     "execution_count": 4,
     "metadata": {},
     "output_type": "execute_result"
    }
   ],
   "source": [
    "df.head(10) #starting 10 rows of the dataset"
   ]
  },
  {
   "cell_type": "markdown",
   "execution_count": null,
   "metadata": {
    "papermill": {
     "duration": 0.026525,
     "end_time": "2020-08-22T07:04:23.091394",
     "exception": false,
     "start_time": "2020-08-22T07:04:23.064869",
     "status": "completed"
    },
    "tags": []
   },
   "source": [
    "# DISPLAY LAST 10 ROWS"
   ]
  },
  {
   "cell_type": "code",
   "execution_count": 5,
   "metadata": {
    "execution": {
     "iopub.execute_input": "2020-08-22T07:04:23.173215Z",
     "iopub.status.busy": "2020-08-22T07:04:23.172201Z",
     "iopub.status.idle": "2020-08-22T07:04:23.177516Z",
     "shell.execute_reply": "2020-08-22T07:04:23.176796Z"
    },
    "papermill": {
     "duration": 0.05943,
     "end_time": "2020-08-22T07:04:23.177649",
     "exception": false,
     "start_time": "2020-08-22T07:04:23.118219",
     "status": "completed"
    },
    "tags": []
   },
   "outputs": [
    {
     "data": {
      "text/html": [
       "<div>\n",
       "<style scoped>\n",
       "    .dataframe tbody tr th:only-of-type {\n",
       "        vertical-align: middle;\n",
       "    }\n",
       "\n",
       "    .dataframe tbody tr th {\n",
       "        vertical-align: top;\n",
       "    }\n",
       "\n",
       "    .dataframe thead th {\n",
       "        text-align: right;\n",
       "    }\n",
       "</style>\n",
       "<table border=\"1\" class=\"dataframe\">\n",
       "  <thead>\n",
       "    <tr style=\"text-align: right;\">\n",
       "      <th></th>\n",
       "      <th>Make</th>\n",
       "      <th>Model</th>\n",
       "      <th>Year</th>\n",
       "      <th>Engine Fuel Type</th>\n",
       "      <th>Engine HP</th>\n",
       "      <th>Engine Cylinders</th>\n",
       "      <th>Transmission Type</th>\n",
       "      <th>Driven_Wheels</th>\n",
       "      <th>Number of Doors</th>\n",
       "      <th>Market Category</th>\n",
       "      <th>Vehicle Size</th>\n",
       "      <th>Vehicle Style</th>\n",
       "      <th>highway MPG</th>\n",
       "      <th>city mpg</th>\n",
       "      <th>Popularity</th>\n",
       "      <th>MSRP</th>\n",
       "    </tr>\n",
       "  </thead>\n",
       "  <tbody>\n",
       "    <tr>\n",
       "      <th>11904</th>\n",
       "      <td>BMW</td>\n",
       "      <td>Z8</td>\n",
       "      <td>2002</td>\n",
       "      <td>premium unleaded (required)</td>\n",
       "      <td>394.0</td>\n",
       "      <td>8.0</td>\n",
       "      <td>MANUAL</td>\n",
       "      <td>rear wheel drive</td>\n",
       "      <td>2.0</td>\n",
       "      <td>Exotic,Luxury,High-Performance</td>\n",
       "      <td>Compact</td>\n",
       "      <td>Convertible</td>\n",
       "      <td>19</td>\n",
       "      <td>12</td>\n",
       "      <td>3916</td>\n",
       "      <td>130000</td>\n",
       "    </tr>\n",
       "    <tr>\n",
       "      <th>11905</th>\n",
       "      <td>BMW</td>\n",
       "      <td>Z8</td>\n",
       "      <td>2003</td>\n",
       "      <td>premium unleaded (required)</td>\n",
       "      <td>394.0</td>\n",
       "      <td>8.0</td>\n",
       "      <td>MANUAL</td>\n",
       "      <td>rear wheel drive</td>\n",
       "      <td>2.0</td>\n",
       "      <td>Exotic,Luxury,High-Performance</td>\n",
       "      <td>Compact</td>\n",
       "      <td>Convertible</td>\n",
       "      <td>19</td>\n",
       "      <td>12</td>\n",
       "      <td>3916</td>\n",
       "      <td>131500</td>\n",
       "    </tr>\n",
       "    <tr>\n",
       "      <th>11906</th>\n",
       "      <td>Acura</td>\n",
       "      <td>ZDX</td>\n",
       "      <td>2011</td>\n",
       "      <td>premium unleaded (required)</td>\n",
       "      <td>300.0</td>\n",
       "      <td>6.0</td>\n",
       "      <td>AUTOMATIC</td>\n",
       "      <td>all wheel drive</td>\n",
       "      <td>4.0</td>\n",
       "      <td>Crossover,Hatchback,Luxury</td>\n",
       "      <td>Midsize</td>\n",
       "      <td>4dr Hatchback</td>\n",
       "      <td>23</td>\n",
       "      <td>16</td>\n",
       "      <td>204</td>\n",
       "      <td>46020</td>\n",
       "    </tr>\n",
       "    <tr>\n",
       "      <th>11907</th>\n",
       "      <td>Acura</td>\n",
       "      <td>ZDX</td>\n",
       "      <td>2011</td>\n",
       "      <td>premium unleaded (required)</td>\n",
       "      <td>300.0</td>\n",
       "      <td>6.0</td>\n",
       "      <td>AUTOMATIC</td>\n",
       "      <td>all wheel drive</td>\n",
       "      <td>4.0</td>\n",
       "      <td>Crossover,Hatchback,Luxury</td>\n",
       "      <td>Midsize</td>\n",
       "      <td>4dr Hatchback</td>\n",
       "      <td>23</td>\n",
       "      <td>16</td>\n",
       "      <td>204</td>\n",
       "      <td>56570</td>\n",
       "    </tr>\n",
       "    <tr>\n",
       "      <th>11908</th>\n",
       "      <td>Acura</td>\n",
       "      <td>ZDX</td>\n",
       "      <td>2011</td>\n",
       "      <td>premium unleaded (required)</td>\n",
       "      <td>300.0</td>\n",
       "      <td>6.0</td>\n",
       "      <td>AUTOMATIC</td>\n",
       "      <td>all wheel drive</td>\n",
       "      <td>4.0</td>\n",
       "      <td>Crossover,Hatchback,Luxury</td>\n",
       "      <td>Midsize</td>\n",
       "      <td>4dr Hatchback</td>\n",
       "      <td>23</td>\n",
       "      <td>16</td>\n",
       "      <td>204</td>\n",
       "      <td>50520</td>\n",
       "    </tr>\n",
       "    <tr>\n",
       "      <th>11909</th>\n",
       "      <td>Acura</td>\n",
       "      <td>ZDX</td>\n",
       "      <td>2012</td>\n",
       "      <td>premium unleaded (required)</td>\n",
       "      <td>300.0</td>\n",
       "      <td>6.0</td>\n",
       "      <td>AUTOMATIC</td>\n",
       "      <td>all wheel drive</td>\n",
       "      <td>4.0</td>\n",
       "      <td>Crossover,Hatchback,Luxury</td>\n",
       "      <td>Midsize</td>\n",
       "      <td>4dr Hatchback</td>\n",
       "      <td>23</td>\n",
       "      <td>16</td>\n",
       "      <td>204</td>\n",
       "      <td>46120</td>\n",
       "    </tr>\n",
       "    <tr>\n",
       "      <th>11910</th>\n",
       "      <td>Acura</td>\n",
       "      <td>ZDX</td>\n",
       "      <td>2012</td>\n",
       "      <td>premium unleaded (required)</td>\n",
       "      <td>300.0</td>\n",
       "      <td>6.0</td>\n",
       "      <td>AUTOMATIC</td>\n",
       "      <td>all wheel drive</td>\n",
       "      <td>4.0</td>\n",
       "      <td>Crossover,Hatchback,Luxury</td>\n",
       "      <td>Midsize</td>\n",
       "      <td>4dr Hatchback</td>\n",
       "      <td>23</td>\n",
       "      <td>16</td>\n",
       "      <td>204</td>\n",
       "      <td>56670</td>\n",
       "    </tr>\n",
       "    <tr>\n",
       "      <th>11911</th>\n",
       "      <td>Acura</td>\n",
       "      <td>ZDX</td>\n",
       "      <td>2012</td>\n",
       "      <td>premium unleaded (required)</td>\n",
       "      <td>300.0</td>\n",
       "      <td>6.0</td>\n",
       "      <td>AUTOMATIC</td>\n",
       "      <td>all wheel drive</td>\n",
       "      <td>4.0</td>\n",
       "      <td>Crossover,Hatchback,Luxury</td>\n",
       "      <td>Midsize</td>\n",
       "      <td>4dr Hatchback</td>\n",
       "      <td>23</td>\n",
       "      <td>16</td>\n",
       "      <td>204</td>\n",
       "      <td>50620</td>\n",
       "    </tr>\n",
       "    <tr>\n",
       "      <th>11912</th>\n",
       "      <td>Acura</td>\n",
       "      <td>ZDX</td>\n",
       "      <td>2013</td>\n",
       "      <td>premium unleaded (recommended)</td>\n",
       "      <td>300.0</td>\n",
       "      <td>6.0</td>\n",
       "      <td>AUTOMATIC</td>\n",
       "      <td>all wheel drive</td>\n",
       "      <td>4.0</td>\n",
       "      <td>Crossover,Hatchback,Luxury</td>\n",
       "      <td>Midsize</td>\n",
       "      <td>4dr Hatchback</td>\n",
       "      <td>23</td>\n",
       "      <td>16</td>\n",
       "      <td>204</td>\n",
       "      <td>50920</td>\n",
       "    </tr>\n",
       "    <tr>\n",
       "      <th>11913</th>\n",
       "      <td>Lincoln</td>\n",
       "      <td>Zephyr</td>\n",
       "      <td>2006</td>\n",
       "      <td>regular unleaded</td>\n",
       "      <td>221.0</td>\n",
       "      <td>6.0</td>\n",
       "      <td>AUTOMATIC</td>\n",
       "      <td>front wheel drive</td>\n",
       "      <td>4.0</td>\n",
       "      <td>Luxury</td>\n",
       "      <td>Midsize</td>\n",
       "      <td>Sedan</td>\n",
       "      <td>26</td>\n",
       "      <td>17</td>\n",
       "      <td>61</td>\n",
       "      <td>28995</td>\n",
       "    </tr>\n",
       "  </tbody>\n",
       "</table>\n",
       "</div>"
      ],
      "text/plain": [
       "          Make   Model  Year                Engine Fuel Type  Engine HP  \\\n",
       "11904      BMW      Z8  2002     premium unleaded (required)      394.0   \n",
       "11905      BMW      Z8  2003     premium unleaded (required)      394.0   \n",
       "11906    Acura     ZDX  2011     premium unleaded (required)      300.0   \n",
       "11907    Acura     ZDX  2011     premium unleaded (required)      300.0   \n",
       "11908    Acura     ZDX  2011     premium unleaded (required)      300.0   \n",
       "11909    Acura     ZDX  2012     premium unleaded (required)      300.0   \n",
       "11910    Acura     ZDX  2012     premium unleaded (required)      300.0   \n",
       "11911    Acura     ZDX  2012     premium unleaded (required)      300.0   \n",
       "11912    Acura     ZDX  2013  premium unleaded (recommended)      300.0   \n",
       "11913  Lincoln  Zephyr  2006                regular unleaded      221.0   \n",
       "\n",
       "       Engine Cylinders Transmission Type      Driven_Wheels  Number of Doors  \\\n",
       "11904               8.0            MANUAL   rear wheel drive              2.0   \n",
       "11905               8.0            MANUAL   rear wheel drive              2.0   \n",
       "11906               6.0         AUTOMATIC    all wheel drive              4.0   \n",
       "11907               6.0         AUTOMATIC    all wheel drive              4.0   \n",
       "11908               6.0         AUTOMATIC    all wheel drive              4.0   \n",
       "11909               6.0         AUTOMATIC    all wheel drive              4.0   \n",
       "11910               6.0         AUTOMATIC    all wheel drive              4.0   \n",
       "11911               6.0         AUTOMATIC    all wheel drive              4.0   \n",
       "11912               6.0         AUTOMATIC    all wheel drive              4.0   \n",
       "11913               6.0         AUTOMATIC  front wheel drive              4.0   \n",
       "\n",
       "                      Market Category Vehicle Size  Vehicle Style  \\\n",
       "11904  Exotic,Luxury,High-Performance      Compact    Convertible   \n",
       "11905  Exotic,Luxury,High-Performance      Compact    Convertible   \n",
       "11906      Crossover,Hatchback,Luxury      Midsize  4dr Hatchback   \n",
       "11907      Crossover,Hatchback,Luxury      Midsize  4dr Hatchback   \n",
       "11908      Crossover,Hatchback,Luxury      Midsize  4dr Hatchback   \n",
       "11909      Crossover,Hatchback,Luxury      Midsize  4dr Hatchback   \n",
       "11910      Crossover,Hatchback,Luxury      Midsize  4dr Hatchback   \n",
       "11911      Crossover,Hatchback,Luxury      Midsize  4dr Hatchback   \n",
       "11912      Crossover,Hatchback,Luxury      Midsize  4dr Hatchback   \n",
       "11913                          Luxury      Midsize          Sedan   \n",
       "\n",
       "       highway MPG  city mpg  Popularity    MSRP  \n",
       "11904           19        12        3916  130000  \n",
       "11905           19        12        3916  131500  \n",
       "11906           23        16         204   46020  \n",
       "11907           23        16         204   56570  \n",
       "11908           23        16         204   50520  \n",
       "11909           23        16         204   46120  \n",
       "11910           23        16         204   56670  \n",
       "11911           23        16         204   50620  \n",
       "11912           23        16         204   50920  \n",
       "11913           26        17          61   28995  "
      ]
     },
     "execution_count": 5,
     "metadata": {},
     "output_type": "execute_result"
    }
   ],
   "source": [
    "df.tail(10) #displaying last 10 rows of the data"
   ]
  },
  {
   "cell_type": "markdown",
   "execution_count": null,
   "metadata": {
    "papermill": {
     "duration": 0.027065,
     "end_time": "2020-08-22T07:04:23.232520",
     "exception": false,
     "start_time": "2020-08-22T07:04:23.205455",
     "status": "completed"
    },
    "tags": []
   },
   "source": [
    "# STep 1 checking the DATATYPE"
   ]
  },
  {
   "cell_type": "code",
   "execution_count": 6,
   "metadata": {
    "execution": {
     "iopub.execute_input": "2020-08-22T07:04:23.304868Z",
     "iopub.status.busy": "2020-08-22T07:04:23.303979Z",
     "iopub.status.idle": "2020-08-22T07:04:23.323799Z",
     "shell.execute_reply": "2020-08-22T07:04:23.323087Z"
    },
    "papermill": {
     "duration": 0.06396,
     "end_time": "2020-08-22T07:04:23.323994",
     "exception": false,
     "start_time": "2020-08-22T07:04:23.260034",
     "status": "completed"
    },
    "tags": []
   },
   "outputs": [
    {
     "name": "stdout",
     "output_type": "stream",
     "text": [
      "<class 'pandas.core.frame.DataFrame'>\n",
      "RangeIndex: 11914 entries, 0 to 11913\n",
      "Data columns (total 16 columns):\n",
      " #   Column             Non-Null Count  Dtype  \n",
      "---  ------             --------------  -----  \n",
      " 0   Make               11914 non-null  object \n",
      " 1   Model              11914 non-null  object \n",
      " 2   Year               11914 non-null  int64  \n",
      " 3   Engine Fuel Type   11911 non-null  object \n",
      " 4   Engine HP          11845 non-null  float64\n",
      " 5   Engine Cylinders   11884 non-null  float64\n",
      " 6   Transmission Type  11914 non-null  object \n",
      " 7   Driven_Wheels      11914 non-null  object \n",
      " 8   Number of Doors    11908 non-null  float64\n",
      " 9   Market Category    8172 non-null   object \n",
      " 10  Vehicle Size       11914 non-null  object \n",
      " 11  Vehicle Style      11914 non-null  object \n",
      " 12  highway MPG        11914 non-null  int64  \n",
      " 13  city mpg           11914 non-null  int64  \n",
      " 14  Popularity         11914 non-null  int64  \n",
      " 15  MSRP               11914 non-null  int64  \n",
      "dtypes: float64(3), int64(5), object(8)\n",
      "memory usage: 1.5+ MB\n"
     ]
    }
   ],
   "source": [
    "df.info() #getting the summary of the dataframe "
   ]
  },
  {
   "cell_type": "markdown",
   "execution_count": null,
   "metadata": {
    "papermill": {
     "duration": 0.027245,
     "end_time": "2020-08-22T07:04:23.378964",
     "exception": false,
     "start_time": "2020-08-22T07:04:23.351719",
     "status": "completed"
    },
    "tags": []
   },
   "source": [
    "# #Displaying the shape of dataframe"
   ]
  },
  {
   "cell_type": "code",
   "execution_count": 7,
   "metadata": {
    "execution": {
     "iopub.execute_input": "2020-08-22T07:04:23.440076Z",
     "iopub.status.busy": "2020-08-22T07:04:23.439235Z",
     "iopub.status.idle": "2020-08-22T07:04:23.444195Z",
     "shell.execute_reply": "2020-08-22T07:04:23.443398Z"
    },
    "papermill": {
     "duration": 0.037908,
     "end_time": "2020-08-22T07:04:23.444336",
     "exception": false,
     "start_time": "2020-08-22T07:04:23.406428",
     "status": "completed"
    },
    "tags": []
   },
   "outputs": [
    {
     "data": {
      "text/plain": [
       "(11914, 16)"
      ]
     },
     "execution_count": 7,
     "metadata": {},
     "output_type": "execute_result"
    }
   ],
   "source": [
    "df.shape #for  summary of the data frame"
   ]
  },
  {
   "cell_type": "markdown",
   "execution_count": null,
   "metadata": {
    "papermill": {
     "duration": 0.027294,
     "end_time": "2020-08-22T07:04:23.499485",
     "exception": false,
     "start_time": "2020-08-22T07:04:23.472191",
     "status": "completed"
    },
    "tags": []
   },
   "source": [
    "# #SHOWING THE STATISTICAL MEASURE OF ALL DATA FRAME"
   ]
  },
  {
   "cell_type": "code",
   "execution_count": 8,
   "metadata": {
    "execution": {
     "iopub.execute_input": "2020-08-22T07:04:23.565737Z",
     "iopub.status.busy": "2020-08-22T07:04:23.564784Z",
     "iopub.status.idle": "2020-08-22T07:04:23.684580Z",
     "shell.execute_reply": "2020-08-22T07:04:23.683729Z"
    },
    "papermill": {
     "duration": 0.157323,
     "end_time": "2020-08-22T07:04:23.684721",
     "exception": false,
     "start_time": "2020-08-22T07:04:23.527398",
     "status": "completed"
    },
    "tags": []
   },
   "outputs": [
    {
     "data": {
      "text/html": [
       "<div>\n",
       "<style scoped>\n",
       "    .dataframe tbody tr th:only-of-type {\n",
       "        vertical-align: middle;\n",
       "    }\n",
       "\n",
       "    .dataframe tbody tr th {\n",
       "        vertical-align: top;\n",
       "    }\n",
       "\n",
       "    .dataframe thead th {\n",
       "        text-align: right;\n",
       "    }\n",
       "</style>\n",
       "<table border=\"1\" class=\"dataframe\">\n",
       "  <thead>\n",
       "    <tr style=\"text-align: right;\">\n",
       "      <th></th>\n",
       "      <th>Make</th>\n",
       "      <th>Model</th>\n",
       "      <th>Year</th>\n",
       "      <th>Engine Fuel Type</th>\n",
       "      <th>Engine HP</th>\n",
       "      <th>Engine Cylinders</th>\n",
       "      <th>Transmission Type</th>\n",
       "      <th>Driven_Wheels</th>\n",
       "      <th>Number of Doors</th>\n",
       "      <th>Market Category</th>\n",
       "      <th>Vehicle Size</th>\n",
       "      <th>Vehicle Style</th>\n",
       "      <th>highway MPG</th>\n",
       "      <th>city mpg</th>\n",
       "      <th>Popularity</th>\n",
       "      <th>MSRP</th>\n",
       "    </tr>\n",
       "  </thead>\n",
       "  <tbody>\n",
       "    <tr>\n",
       "      <th>count</th>\n",
       "      <td>11914</td>\n",
       "      <td>11914</td>\n",
       "      <td>11914.000000</td>\n",
       "      <td>11911</td>\n",
       "      <td>11845.00000</td>\n",
       "      <td>11884.000000</td>\n",
       "      <td>11914</td>\n",
       "      <td>11914</td>\n",
       "      <td>11908.000000</td>\n",
       "      <td>8172</td>\n",
       "      <td>11914</td>\n",
       "      <td>11914</td>\n",
       "      <td>11914.000000</td>\n",
       "      <td>11914.000000</td>\n",
       "      <td>11914.000000</td>\n",
       "      <td>1.191400e+04</td>\n",
       "    </tr>\n",
       "    <tr>\n",
       "      <th>unique</th>\n",
       "      <td>48</td>\n",
       "      <td>915</td>\n",
       "      <td>NaN</td>\n",
       "      <td>10</td>\n",
       "      <td>NaN</td>\n",
       "      <td>NaN</td>\n",
       "      <td>5</td>\n",
       "      <td>4</td>\n",
       "      <td>NaN</td>\n",
       "      <td>71</td>\n",
       "      <td>3</td>\n",
       "      <td>16</td>\n",
       "      <td>NaN</td>\n",
       "      <td>NaN</td>\n",
       "      <td>NaN</td>\n",
       "      <td>NaN</td>\n",
       "    </tr>\n",
       "    <tr>\n",
       "      <th>top</th>\n",
       "      <td>Chevrolet</td>\n",
       "      <td>Silverado 1500</td>\n",
       "      <td>NaN</td>\n",
       "      <td>regular unleaded</td>\n",
       "      <td>NaN</td>\n",
       "      <td>NaN</td>\n",
       "      <td>AUTOMATIC</td>\n",
       "      <td>front wheel drive</td>\n",
       "      <td>NaN</td>\n",
       "      <td>Crossover</td>\n",
       "      <td>Compact</td>\n",
       "      <td>Sedan</td>\n",
       "      <td>NaN</td>\n",
       "      <td>NaN</td>\n",
       "      <td>NaN</td>\n",
       "      <td>NaN</td>\n",
       "    </tr>\n",
       "    <tr>\n",
       "      <th>freq</th>\n",
       "      <td>1123</td>\n",
       "      <td>156</td>\n",
       "      <td>NaN</td>\n",
       "      <td>7172</td>\n",
       "      <td>NaN</td>\n",
       "      <td>NaN</td>\n",
       "      <td>8266</td>\n",
       "      <td>4787</td>\n",
       "      <td>NaN</td>\n",
       "      <td>1110</td>\n",
       "      <td>4764</td>\n",
       "      <td>3048</td>\n",
       "      <td>NaN</td>\n",
       "      <td>NaN</td>\n",
       "      <td>NaN</td>\n",
       "      <td>NaN</td>\n",
       "    </tr>\n",
       "    <tr>\n",
       "      <th>mean</th>\n",
       "      <td>NaN</td>\n",
       "      <td>NaN</td>\n",
       "      <td>2010.384338</td>\n",
       "      <td>NaN</td>\n",
       "      <td>249.38607</td>\n",
       "      <td>5.628829</td>\n",
       "      <td>NaN</td>\n",
       "      <td>NaN</td>\n",
       "      <td>3.436093</td>\n",
       "      <td>NaN</td>\n",
       "      <td>NaN</td>\n",
       "      <td>NaN</td>\n",
       "      <td>26.637485</td>\n",
       "      <td>19.733255</td>\n",
       "      <td>1554.911197</td>\n",
       "      <td>4.059474e+04</td>\n",
       "    </tr>\n",
       "    <tr>\n",
       "      <th>std</th>\n",
       "      <td>NaN</td>\n",
       "      <td>NaN</td>\n",
       "      <td>7.579740</td>\n",
       "      <td>NaN</td>\n",
       "      <td>109.19187</td>\n",
       "      <td>1.780559</td>\n",
       "      <td>NaN</td>\n",
       "      <td>NaN</td>\n",
       "      <td>0.881315</td>\n",
       "      <td>NaN</td>\n",
       "      <td>NaN</td>\n",
       "      <td>NaN</td>\n",
       "      <td>8.863001</td>\n",
       "      <td>8.987798</td>\n",
       "      <td>1441.855347</td>\n",
       "      <td>6.010910e+04</td>\n",
       "    </tr>\n",
       "    <tr>\n",
       "      <th>min</th>\n",
       "      <td>NaN</td>\n",
       "      <td>NaN</td>\n",
       "      <td>1990.000000</td>\n",
       "      <td>NaN</td>\n",
       "      <td>55.00000</td>\n",
       "      <td>0.000000</td>\n",
       "      <td>NaN</td>\n",
       "      <td>NaN</td>\n",
       "      <td>2.000000</td>\n",
       "      <td>NaN</td>\n",
       "      <td>NaN</td>\n",
       "      <td>NaN</td>\n",
       "      <td>12.000000</td>\n",
       "      <td>7.000000</td>\n",
       "      <td>2.000000</td>\n",
       "      <td>2.000000e+03</td>\n",
       "    </tr>\n",
       "    <tr>\n",
       "      <th>25%</th>\n",
       "      <td>NaN</td>\n",
       "      <td>NaN</td>\n",
       "      <td>2007.000000</td>\n",
       "      <td>NaN</td>\n",
       "      <td>170.00000</td>\n",
       "      <td>4.000000</td>\n",
       "      <td>NaN</td>\n",
       "      <td>NaN</td>\n",
       "      <td>2.000000</td>\n",
       "      <td>NaN</td>\n",
       "      <td>NaN</td>\n",
       "      <td>NaN</td>\n",
       "      <td>22.000000</td>\n",
       "      <td>16.000000</td>\n",
       "      <td>549.000000</td>\n",
       "      <td>2.100000e+04</td>\n",
       "    </tr>\n",
       "    <tr>\n",
       "      <th>50%</th>\n",
       "      <td>NaN</td>\n",
       "      <td>NaN</td>\n",
       "      <td>2015.000000</td>\n",
       "      <td>NaN</td>\n",
       "      <td>227.00000</td>\n",
       "      <td>6.000000</td>\n",
       "      <td>NaN</td>\n",
       "      <td>NaN</td>\n",
       "      <td>4.000000</td>\n",
       "      <td>NaN</td>\n",
       "      <td>NaN</td>\n",
       "      <td>NaN</td>\n",
       "      <td>26.000000</td>\n",
       "      <td>18.000000</td>\n",
       "      <td>1385.000000</td>\n",
       "      <td>2.999500e+04</td>\n",
       "    </tr>\n",
       "    <tr>\n",
       "      <th>75%</th>\n",
       "      <td>NaN</td>\n",
       "      <td>NaN</td>\n",
       "      <td>2016.000000</td>\n",
       "      <td>NaN</td>\n",
       "      <td>300.00000</td>\n",
       "      <td>6.000000</td>\n",
       "      <td>NaN</td>\n",
       "      <td>NaN</td>\n",
       "      <td>4.000000</td>\n",
       "      <td>NaN</td>\n",
       "      <td>NaN</td>\n",
       "      <td>NaN</td>\n",
       "      <td>30.000000</td>\n",
       "      <td>22.000000</td>\n",
       "      <td>2009.000000</td>\n",
       "      <td>4.223125e+04</td>\n",
       "    </tr>\n",
       "    <tr>\n",
       "      <th>max</th>\n",
       "      <td>NaN</td>\n",
       "      <td>NaN</td>\n",
       "      <td>2017.000000</td>\n",
       "      <td>NaN</td>\n",
       "      <td>1001.00000</td>\n",
       "      <td>16.000000</td>\n",
       "      <td>NaN</td>\n",
       "      <td>NaN</td>\n",
       "      <td>4.000000</td>\n",
       "      <td>NaN</td>\n",
       "      <td>NaN</td>\n",
       "      <td>NaN</td>\n",
       "      <td>354.000000</td>\n",
       "      <td>137.000000</td>\n",
       "      <td>5657.000000</td>\n",
       "      <td>2.065902e+06</td>\n",
       "    </tr>\n",
       "  </tbody>\n",
       "</table>\n",
       "</div>"
      ],
      "text/plain": [
       "             Make           Model          Year  Engine Fuel Type  \\\n",
       "count       11914           11914  11914.000000             11911   \n",
       "unique         48             915           NaN                10   \n",
       "top     Chevrolet  Silverado 1500           NaN  regular unleaded   \n",
       "freq         1123             156           NaN              7172   \n",
       "mean          NaN             NaN   2010.384338               NaN   \n",
       "std           NaN             NaN      7.579740               NaN   \n",
       "min           NaN             NaN   1990.000000               NaN   \n",
       "25%           NaN             NaN   2007.000000               NaN   \n",
       "50%           NaN             NaN   2015.000000               NaN   \n",
       "75%           NaN             NaN   2016.000000               NaN   \n",
       "max           NaN             NaN   2017.000000               NaN   \n",
       "\n",
       "          Engine HP  Engine Cylinders Transmission Type      Driven_Wheels  \\\n",
       "count   11845.00000      11884.000000             11914              11914   \n",
       "unique          NaN               NaN                 5                  4   \n",
       "top             NaN               NaN         AUTOMATIC  front wheel drive   \n",
       "freq            NaN               NaN              8266               4787   \n",
       "mean      249.38607          5.628829               NaN                NaN   \n",
       "std       109.19187          1.780559               NaN                NaN   \n",
       "min        55.00000          0.000000               NaN                NaN   \n",
       "25%       170.00000          4.000000               NaN                NaN   \n",
       "50%       227.00000          6.000000               NaN                NaN   \n",
       "75%       300.00000          6.000000               NaN                NaN   \n",
       "max      1001.00000         16.000000               NaN                NaN   \n",
       "\n",
       "        Number of Doors Market Category Vehicle Size Vehicle Style  \\\n",
       "count      11908.000000            8172        11914         11914   \n",
       "unique              NaN              71            3            16   \n",
       "top                 NaN       Crossover      Compact         Sedan   \n",
       "freq                NaN            1110         4764          3048   \n",
       "mean           3.436093             NaN          NaN           NaN   \n",
       "std            0.881315             NaN          NaN           NaN   \n",
       "min            2.000000             NaN          NaN           NaN   \n",
       "25%            2.000000             NaN          NaN           NaN   \n",
       "50%            4.000000             NaN          NaN           NaN   \n",
       "75%            4.000000             NaN          NaN           NaN   \n",
       "max            4.000000             NaN          NaN           NaN   \n",
       "\n",
       "         highway MPG      city mpg    Popularity          MSRP  \n",
       "count   11914.000000  11914.000000  11914.000000  1.191400e+04  \n",
       "unique           NaN           NaN           NaN           NaN  \n",
       "top              NaN           NaN           NaN           NaN  \n",
       "freq             NaN           NaN           NaN           NaN  \n",
       "mean       26.637485     19.733255   1554.911197  4.059474e+04  \n",
       "std         8.863001      8.987798   1441.855347  6.010910e+04  \n",
       "min        12.000000      7.000000      2.000000  2.000000e+03  \n",
       "25%        22.000000     16.000000    549.000000  2.100000e+04  \n",
       "50%        26.000000     18.000000   1385.000000  2.999500e+04  \n",
       "75%        30.000000     22.000000   2009.000000  4.223125e+04  \n",
       "max       354.000000    137.000000   5657.000000  2.065902e+06  "
      ]
     },
     "execution_count": 8,
     "metadata": {},
     "output_type": "execute_result"
    }
   ],
   "source": [
    "df.describe(include='all')"
   ]
  },
  {
   "cell_type": "markdown",
   "execution_count": null,
   "metadata": {
    "papermill": {
     "duration": 0.027539,
     "end_time": "2020-08-22T07:04:23.740417",
     "exception": false,
     "start_time": "2020-08-22T07:04:23.712878",
     "status": "completed"
    },
    "tags": []
   },
   "source": [
    "# CHECKING FOR NULL VALUES"
   ]
  },
  {
   "cell_type": "code",
   "execution_count": 9,
   "metadata": {
    "execution": {
     "iopub.execute_input": "2020-08-22T07:04:23.814159Z",
     "iopub.status.busy": "2020-08-22T07:04:23.813025Z",
     "iopub.status.idle": "2020-08-22T07:04:23.821238Z",
     "shell.execute_reply": "2020-08-22T07:04:23.820520Z"
    },
    "papermill": {
     "duration": 0.052858,
     "end_time": "2020-08-22T07:04:23.821378",
     "exception": false,
     "start_time": "2020-08-22T07:04:23.768520",
     "status": "completed"
    },
    "tags": []
   },
   "outputs": [
    {
     "data": {
      "text/plain": [
       "Make                    0\n",
       "Model                   0\n",
       "Year                    0\n",
       "Engine Fuel Type        3\n",
       "Engine HP              69\n",
       "Engine Cylinders       30\n",
       "Transmission Type       0\n",
       "Driven_Wheels           0\n",
       "Number of Doors         6\n",
       "Market Category      3742\n",
       "Vehicle Size            0\n",
       "Vehicle Style           0\n",
       "highway MPG             0\n",
       "city mpg                0\n",
       "Popularity              0\n",
       "MSRP                    0\n",
       "dtype: int64"
      ]
     },
     "execution_count": 9,
     "metadata": {},
     "output_type": "execute_result"
    }
   ],
   "source": [
    "df.isnull().sum() #checking if there are some null values"
   ]
  },
  {
   "cell_type": "markdown",
   "execution_count": null,
   "metadata": {
    "papermill": {
     "duration": 0.0283,
     "end_time": "2020-08-22T07:04:23.878474",
     "exception": false,
     "start_time": "2020-08-22T07:04:23.850174",
     "status": "completed"
    },
    "tags": []
   },
   "source": [
    "# STEP 2 DROPPING LESS RELEVANCE COLOMN IN THE DATASET"
   ]
  },
  {
   "cell_type": "markdown",
   "execution_count": null,
   "metadata": {
    "papermill": {
     "duration": 0.028631,
     "end_time": "2020-08-22T07:04:23.936520",
     "exception": false,
     "start_time": "2020-08-22T07:04:23.907889",
     "status": "completed"
    },
    "tags": []
   },
   "source": [
    "**WHY RELEVANC**E ?******  as it doesnot get affect the whole data set if it is not there in the data frame ... it just affect the nulll values or like duplicate values if it gets present in the datset . TIt also contains max amout of null values therefore acc to me it should be drop down"
   ]
  },
  {
   "cell_type": "code",
   "execution_count": 10,
   "metadata": {
    "execution": {
     "iopub.execute_input": "2020-08-22T07:04:24.020393Z",
     "iopub.status.busy": "2020-08-22T07:04:24.019417Z",
     "iopub.status.idle": "2020-08-22T07:04:24.024075Z",
     "shell.execute_reply": "2020-08-22T07:04:24.023246Z"
    },
    "papermill": {
     "duration": 0.058979,
     "end_time": "2020-08-22T07:04:24.024211",
     "exception": false,
     "start_time": "2020-08-22T07:04:23.965232",
     "status": "completed"
    },
    "tags": []
   },
   "outputs": [
    {
     "data": {
      "text/html": [
       "<div>\n",
       "<style scoped>\n",
       "    .dataframe tbody tr th:only-of-type {\n",
       "        vertical-align: middle;\n",
       "    }\n",
       "\n",
       "    .dataframe tbody tr th {\n",
       "        vertical-align: top;\n",
       "    }\n",
       "\n",
       "    .dataframe thead th {\n",
       "        text-align: right;\n",
       "    }\n",
       "</style>\n",
       "<table border=\"1\" class=\"dataframe\">\n",
       "  <thead>\n",
       "    <tr style=\"text-align: right;\">\n",
       "      <th></th>\n",
       "      <th>Make</th>\n",
       "      <th>Model</th>\n",
       "      <th>Year</th>\n",
       "      <th>Engine HP</th>\n",
       "      <th>Engine Cylinders</th>\n",
       "      <th>Transmission Type</th>\n",
       "      <th>Driven_Wheels</th>\n",
       "      <th>Vehicle Size</th>\n",
       "      <th>Vehicle Style</th>\n",
       "      <th>highway MPG</th>\n",
       "      <th>city mpg</th>\n",
       "      <th>Popularity</th>\n",
       "      <th>MSRP</th>\n",
       "    </tr>\n",
       "  </thead>\n",
       "  <tbody>\n",
       "    <tr>\n",
       "      <th>0</th>\n",
       "      <td>BMW</td>\n",
       "      <td>1 Series M</td>\n",
       "      <td>2011</td>\n",
       "      <td>335.0</td>\n",
       "      <td>6.0</td>\n",
       "      <td>MANUAL</td>\n",
       "      <td>rear wheel drive</td>\n",
       "      <td>Compact</td>\n",
       "      <td>Coupe</td>\n",
       "      <td>26</td>\n",
       "      <td>19</td>\n",
       "      <td>3916</td>\n",
       "      <td>46135</td>\n",
       "    </tr>\n",
       "    <tr>\n",
       "      <th>1</th>\n",
       "      <td>BMW</td>\n",
       "      <td>1 Series</td>\n",
       "      <td>2011</td>\n",
       "      <td>300.0</td>\n",
       "      <td>6.0</td>\n",
       "      <td>MANUAL</td>\n",
       "      <td>rear wheel drive</td>\n",
       "      <td>Compact</td>\n",
       "      <td>Convertible</td>\n",
       "      <td>28</td>\n",
       "      <td>19</td>\n",
       "      <td>3916</td>\n",
       "      <td>40650</td>\n",
       "    </tr>\n",
       "    <tr>\n",
       "      <th>2</th>\n",
       "      <td>BMW</td>\n",
       "      <td>1 Series</td>\n",
       "      <td>2011</td>\n",
       "      <td>300.0</td>\n",
       "      <td>6.0</td>\n",
       "      <td>MANUAL</td>\n",
       "      <td>rear wheel drive</td>\n",
       "      <td>Compact</td>\n",
       "      <td>Coupe</td>\n",
       "      <td>28</td>\n",
       "      <td>20</td>\n",
       "      <td>3916</td>\n",
       "      <td>36350</td>\n",
       "    </tr>\n",
       "    <tr>\n",
       "      <th>3</th>\n",
       "      <td>BMW</td>\n",
       "      <td>1 Series</td>\n",
       "      <td>2011</td>\n",
       "      <td>230.0</td>\n",
       "      <td>6.0</td>\n",
       "      <td>MANUAL</td>\n",
       "      <td>rear wheel drive</td>\n",
       "      <td>Compact</td>\n",
       "      <td>Coupe</td>\n",
       "      <td>28</td>\n",
       "      <td>18</td>\n",
       "      <td>3916</td>\n",
       "      <td>29450</td>\n",
       "    </tr>\n",
       "    <tr>\n",
       "      <th>4</th>\n",
       "      <td>BMW</td>\n",
       "      <td>1 Series</td>\n",
       "      <td>2011</td>\n",
       "      <td>230.0</td>\n",
       "      <td>6.0</td>\n",
       "      <td>MANUAL</td>\n",
       "      <td>rear wheel drive</td>\n",
       "      <td>Compact</td>\n",
       "      <td>Convertible</td>\n",
       "      <td>28</td>\n",
       "      <td>18</td>\n",
       "      <td>3916</td>\n",
       "      <td>34500</td>\n",
       "    </tr>\n",
       "  </tbody>\n",
       "</table>\n",
       "</div>"
      ],
      "text/plain": [
       "  Make       Model  Year  Engine HP  Engine Cylinders Transmission Type  \\\n",
       "0  BMW  1 Series M  2011      335.0               6.0            MANUAL   \n",
       "1  BMW    1 Series  2011      300.0               6.0            MANUAL   \n",
       "2  BMW    1 Series  2011      300.0               6.0            MANUAL   \n",
       "3  BMW    1 Series  2011      230.0               6.0            MANUAL   \n",
       "4  BMW    1 Series  2011      230.0               6.0            MANUAL   \n",
       "\n",
       "      Driven_Wheels Vehicle Size Vehicle Style  highway MPG  city mpg  \\\n",
       "0  rear wheel drive      Compact         Coupe           26        19   \n",
       "1  rear wheel drive      Compact   Convertible           28        19   \n",
       "2  rear wheel drive      Compact         Coupe           28        20   \n",
       "3  rear wheel drive      Compact         Coupe           28        18   \n",
       "4  rear wheel drive      Compact   Convertible           28        18   \n",
       "\n",
       "   Popularity   MSRP  \n",
       "0        3916  46135  \n",
       "1        3916  40650  \n",
       "2        3916  36350  \n",
       "3        3916  29450  \n",
       "4        3916  34500  "
      ]
     },
     "execution_count": 10,
     "metadata": {},
     "output_type": "execute_result"
    }
   ],
   "source": [
    "df = df.drop(['Engine Fuel Type', 'Number of Doors','Market Category'], axis=1) #these are the colomn to be drop which meant to no use to me .\n",
    "df.head(5)"
   ]
  },
  {
   "cell_type": "markdown",
   "execution_count": null,
   "metadata": {
    "papermill": {
     "duration": 0.028614,
     "end_time": "2020-08-22T07:04:24.081792",
     "exception": false,
     "start_time": "2020-08-22T07:04:24.053178",
     "status": "completed"
    },
    "tags": []
   },
   "source": [
    "# STEP 3 RENAMING THE COLOMN AS MENTION "
   ]
  },
  {
   "cell_type": "code",
   "execution_count": 11,
   "metadata": {
    "execution": {
     "iopub.execute_input": "2020-08-22T07:04:24.146887Z",
     "iopub.status.busy": "2020-08-22T07:04:24.146031Z",
     "iopub.status.idle": "2020-08-22T07:04:24.167037Z",
     "shell.execute_reply": "2020-08-22T07:04:24.166211Z"
    },
    "papermill": {
     "duration": 0.056484,
     "end_time": "2020-08-22T07:04:24.167175",
     "exception": false,
     "start_time": "2020-08-22T07:04:24.110691",
     "status": "completed"
    },
    "tags": []
   },
   "outputs": [
    {
     "data": {
      "text/html": [
       "<div>\n",
       "<style scoped>\n",
       "    .dataframe tbody tr th:only-of-type {\n",
       "        vertical-align: middle;\n",
       "    }\n",
       "\n",
       "    .dataframe tbody tr th {\n",
       "        vertical-align: top;\n",
       "    }\n",
       "\n",
       "    .dataframe thead th {\n",
       "        text-align: right;\n",
       "    }\n",
       "</style>\n",
       "<table border=\"1\" class=\"dataframe\">\n",
       "  <thead>\n",
       "    <tr style=\"text-align: right;\">\n",
       "      <th></th>\n",
       "      <th>Make</th>\n",
       "      <th>Model</th>\n",
       "      <th>Year</th>\n",
       "      <th>HP</th>\n",
       "      <th>Cylinders</th>\n",
       "      <th>Transmission</th>\n",
       "      <th>Drive Mode</th>\n",
       "      <th>Vehicle Size</th>\n",
       "      <th>Vehicle Style</th>\n",
       "      <th>MPG-H</th>\n",
       "      <th>MPG-C</th>\n",
       "      <th>Popularity</th>\n",
       "      <th>Price</th>\n",
       "    </tr>\n",
       "  </thead>\n",
       "  <tbody>\n",
       "    <tr>\n",
       "      <th>0</th>\n",
       "      <td>BMW</td>\n",
       "      <td>1 Series M</td>\n",
       "      <td>2011</td>\n",
       "      <td>335.0</td>\n",
       "      <td>6.0</td>\n",
       "      <td>MANUAL</td>\n",
       "      <td>rear wheel drive</td>\n",
       "      <td>Compact</td>\n",
       "      <td>Coupe</td>\n",
       "      <td>26</td>\n",
       "      <td>19</td>\n",
       "      <td>3916</td>\n",
       "      <td>46135</td>\n",
       "    </tr>\n",
       "    <tr>\n",
       "      <th>1</th>\n",
       "      <td>BMW</td>\n",
       "      <td>1 Series</td>\n",
       "      <td>2011</td>\n",
       "      <td>300.0</td>\n",
       "      <td>6.0</td>\n",
       "      <td>MANUAL</td>\n",
       "      <td>rear wheel drive</td>\n",
       "      <td>Compact</td>\n",
       "      <td>Convertible</td>\n",
       "      <td>28</td>\n",
       "      <td>19</td>\n",
       "      <td>3916</td>\n",
       "      <td>40650</td>\n",
       "    </tr>\n",
       "    <tr>\n",
       "      <th>2</th>\n",
       "      <td>BMW</td>\n",
       "      <td>1 Series</td>\n",
       "      <td>2011</td>\n",
       "      <td>300.0</td>\n",
       "      <td>6.0</td>\n",
       "      <td>MANUAL</td>\n",
       "      <td>rear wheel drive</td>\n",
       "      <td>Compact</td>\n",
       "      <td>Coupe</td>\n",
       "      <td>28</td>\n",
       "      <td>20</td>\n",
       "      <td>3916</td>\n",
       "      <td>36350</td>\n",
       "    </tr>\n",
       "    <tr>\n",
       "      <th>3</th>\n",
       "      <td>BMW</td>\n",
       "      <td>1 Series</td>\n",
       "      <td>2011</td>\n",
       "      <td>230.0</td>\n",
       "      <td>6.0</td>\n",
       "      <td>MANUAL</td>\n",
       "      <td>rear wheel drive</td>\n",
       "      <td>Compact</td>\n",
       "      <td>Coupe</td>\n",
       "      <td>28</td>\n",
       "      <td>18</td>\n",
       "      <td>3916</td>\n",
       "      <td>29450</td>\n",
       "    </tr>\n",
       "    <tr>\n",
       "      <th>4</th>\n",
       "      <td>BMW</td>\n",
       "      <td>1 Series</td>\n",
       "      <td>2011</td>\n",
       "      <td>230.0</td>\n",
       "      <td>6.0</td>\n",
       "      <td>MANUAL</td>\n",
       "      <td>rear wheel drive</td>\n",
       "      <td>Compact</td>\n",
       "      <td>Convertible</td>\n",
       "      <td>28</td>\n",
       "      <td>18</td>\n",
       "      <td>3916</td>\n",
       "      <td>34500</td>\n",
       "    </tr>\n",
       "  </tbody>\n",
       "</table>\n",
       "</div>"
      ],
      "text/plain": [
       "  Make       Model  Year     HP  Cylinders Transmission        Drive Mode  \\\n",
       "0  BMW  1 Series M  2011  335.0        6.0       MANUAL  rear wheel drive   \n",
       "1  BMW    1 Series  2011  300.0        6.0       MANUAL  rear wheel drive   \n",
       "2  BMW    1 Series  2011  300.0        6.0       MANUAL  rear wheel drive   \n",
       "3  BMW    1 Series  2011  230.0        6.0       MANUAL  rear wheel drive   \n",
       "4  BMW    1 Series  2011  230.0        6.0       MANUAL  rear wheel drive   \n",
       "\n",
       "  Vehicle Size Vehicle Style  MPG-H  MPG-C  Popularity  Price  \n",
       "0      Compact         Coupe     26     19        3916  46135  \n",
       "1      Compact   Convertible     28     19        3916  40650  \n",
       "2      Compact         Coupe     28     20        3916  36350  \n",
       "3      Compact         Coupe     28     18        3916  29450  \n",
       "4      Compact   Convertible     28     18        3916  34500  "
      ]
     },
     "execution_count": 11,
     "metadata": {},
     "output_type": "execute_result"
    }
   ],
   "source": [
    "df = df.rename(columns={\"Engine HP\": \"HP\", \"Engine Cylinders\": \"Cylinders\", \"Transmission Type\": \"Transmission\", \"Driven_Wheels\": \"Drive Mode\",\"highway MPG\": \"MPG-H\", \"city mpg\": \"MPG-C\", \"MSRP\": \"Price\" })\n",
    "df.head(5) #Renaming the coloumn "
   ]
  },
  {
   "cell_type": "markdown",
   "execution_count": null,
   "metadata": {
    "papermill": {
     "duration": 0.028701,
     "end_time": "2020-08-22T07:04:24.225122",
     "exception": false,
     "start_time": "2020-08-22T07:04:24.196421",
     "status": "completed"
    },
    "tags": []
   },
   "source": [
    "# REPRESENTING TOP ROWS AFTER RENAMING"
   ]
  },
  {
   "cell_type": "code",
   "execution_count": 12,
   "metadata": {
    "execution": {
     "iopub.execute_input": "2020-08-22T07:04:24.308815Z",
     "iopub.status.busy": "2020-08-22T07:04:24.307946Z",
     "iopub.status.idle": "2020-08-22T07:04:24.314459Z",
     "shell.execute_reply": "2020-08-22T07:04:24.313599Z"
    },
    "papermill": {
     "duration": 0.060502,
     "end_time": "2020-08-22T07:04:24.314629",
     "exception": false,
     "start_time": "2020-08-22T07:04:24.254127",
     "status": "completed"
    },
    "tags": []
   },
   "outputs": [
    {
     "data": {
      "text/html": [
       "<div>\n",
       "<style scoped>\n",
       "    .dataframe tbody tr th:only-of-type {\n",
       "        vertical-align: middle;\n",
       "    }\n",
       "\n",
       "    .dataframe tbody tr th {\n",
       "        vertical-align: top;\n",
       "    }\n",
       "\n",
       "    .dataframe thead th {\n",
       "        text-align: right;\n",
       "    }\n",
       "</style>\n",
       "<table border=\"1\" class=\"dataframe\">\n",
       "  <thead>\n",
       "    <tr style=\"text-align: right;\">\n",
       "      <th></th>\n",
       "      <th>Make</th>\n",
       "      <th>Model</th>\n",
       "      <th>Year</th>\n",
       "      <th>HP</th>\n",
       "      <th>Cylinders</th>\n",
       "      <th>Transmission</th>\n",
       "      <th>Drive Mode</th>\n",
       "      <th>Vehicle Size</th>\n",
       "      <th>Vehicle Style</th>\n",
       "      <th>MPG-H</th>\n",
       "      <th>MPG-C</th>\n",
       "      <th>Popularity</th>\n",
       "      <th>Price</th>\n",
       "    </tr>\n",
       "  </thead>\n",
       "  <tbody>\n",
       "    <tr>\n",
       "      <th>0</th>\n",
       "      <td>BMW</td>\n",
       "      <td>1 Series M</td>\n",
       "      <td>2011</td>\n",
       "      <td>335.0</td>\n",
       "      <td>6.0</td>\n",
       "      <td>MANUAL</td>\n",
       "      <td>rear wheel drive</td>\n",
       "      <td>Compact</td>\n",
       "      <td>Coupe</td>\n",
       "      <td>26</td>\n",
       "      <td>19</td>\n",
       "      <td>3916</td>\n",
       "      <td>46135</td>\n",
       "    </tr>\n",
       "    <tr>\n",
       "      <th>1</th>\n",
       "      <td>BMW</td>\n",
       "      <td>1 Series</td>\n",
       "      <td>2011</td>\n",
       "      <td>300.0</td>\n",
       "      <td>6.0</td>\n",
       "      <td>MANUAL</td>\n",
       "      <td>rear wheel drive</td>\n",
       "      <td>Compact</td>\n",
       "      <td>Convertible</td>\n",
       "      <td>28</td>\n",
       "      <td>19</td>\n",
       "      <td>3916</td>\n",
       "      <td>40650</td>\n",
       "    </tr>\n",
       "    <tr>\n",
       "      <th>2</th>\n",
       "      <td>BMW</td>\n",
       "      <td>1 Series</td>\n",
       "      <td>2011</td>\n",
       "      <td>300.0</td>\n",
       "      <td>6.0</td>\n",
       "      <td>MANUAL</td>\n",
       "      <td>rear wheel drive</td>\n",
       "      <td>Compact</td>\n",
       "      <td>Coupe</td>\n",
       "      <td>28</td>\n",
       "      <td>20</td>\n",
       "      <td>3916</td>\n",
       "      <td>36350</td>\n",
       "    </tr>\n",
       "    <tr>\n",
       "      <th>3</th>\n",
       "      <td>BMW</td>\n",
       "      <td>1 Series</td>\n",
       "      <td>2011</td>\n",
       "      <td>230.0</td>\n",
       "      <td>6.0</td>\n",
       "      <td>MANUAL</td>\n",
       "      <td>rear wheel drive</td>\n",
       "      <td>Compact</td>\n",
       "      <td>Coupe</td>\n",
       "      <td>28</td>\n",
       "      <td>18</td>\n",
       "      <td>3916</td>\n",
       "      <td>29450</td>\n",
       "    </tr>\n",
       "    <tr>\n",
       "      <th>4</th>\n",
       "      <td>BMW</td>\n",
       "      <td>1 Series</td>\n",
       "      <td>2011</td>\n",
       "      <td>230.0</td>\n",
       "      <td>6.0</td>\n",
       "      <td>MANUAL</td>\n",
       "      <td>rear wheel drive</td>\n",
       "      <td>Compact</td>\n",
       "      <td>Convertible</td>\n",
       "      <td>28</td>\n",
       "      <td>18</td>\n",
       "      <td>3916</td>\n",
       "      <td>34500</td>\n",
       "    </tr>\n",
       "    <tr>\n",
       "      <th>5</th>\n",
       "      <td>BMW</td>\n",
       "      <td>1 Series</td>\n",
       "      <td>2012</td>\n",
       "      <td>230.0</td>\n",
       "      <td>6.0</td>\n",
       "      <td>MANUAL</td>\n",
       "      <td>rear wheel drive</td>\n",
       "      <td>Compact</td>\n",
       "      <td>Coupe</td>\n",
       "      <td>28</td>\n",
       "      <td>18</td>\n",
       "      <td>3916</td>\n",
       "      <td>31200</td>\n",
       "    </tr>\n",
       "    <tr>\n",
       "      <th>6</th>\n",
       "      <td>BMW</td>\n",
       "      <td>1 Series</td>\n",
       "      <td>2012</td>\n",
       "      <td>300.0</td>\n",
       "      <td>6.0</td>\n",
       "      <td>MANUAL</td>\n",
       "      <td>rear wheel drive</td>\n",
       "      <td>Compact</td>\n",
       "      <td>Convertible</td>\n",
       "      <td>26</td>\n",
       "      <td>17</td>\n",
       "      <td>3916</td>\n",
       "      <td>44100</td>\n",
       "    </tr>\n",
       "    <tr>\n",
       "      <th>7</th>\n",
       "      <td>BMW</td>\n",
       "      <td>1 Series</td>\n",
       "      <td>2012</td>\n",
       "      <td>300.0</td>\n",
       "      <td>6.0</td>\n",
       "      <td>MANUAL</td>\n",
       "      <td>rear wheel drive</td>\n",
       "      <td>Compact</td>\n",
       "      <td>Coupe</td>\n",
       "      <td>28</td>\n",
       "      <td>20</td>\n",
       "      <td>3916</td>\n",
       "      <td>39300</td>\n",
       "    </tr>\n",
       "    <tr>\n",
       "      <th>8</th>\n",
       "      <td>BMW</td>\n",
       "      <td>1 Series</td>\n",
       "      <td>2012</td>\n",
       "      <td>230.0</td>\n",
       "      <td>6.0</td>\n",
       "      <td>MANUAL</td>\n",
       "      <td>rear wheel drive</td>\n",
       "      <td>Compact</td>\n",
       "      <td>Convertible</td>\n",
       "      <td>28</td>\n",
       "      <td>18</td>\n",
       "      <td>3916</td>\n",
       "      <td>36900</td>\n",
       "    </tr>\n",
       "    <tr>\n",
       "      <th>9</th>\n",
       "      <td>BMW</td>\n",
       "      <td>1 Series</td>\n",
       "      <td>2013</td>\n",
       "      <td>230.0</td>\n",
       "      <td>6.0</td>\n",
       "      <td>MANUAL</td>\n",
       "      <td>rear wheel drive</td>\n",
       "      <td>Compact</td>\n",
       "      <td>Convertible</td>\n",
       "      <td>27</td>\n",
       "      <td>18</td>\n",
       "      <td>3916</td>\n",
       "      <td>37200</td>\n",
       "    </tr>\n",
       "  </tbody>\n",
       "</table>\n",
       "</div>"
      ],
      "text/plain": [
       "  Make       Model  Year     HP  Cylinders Transmission        Drive Mode  \\\n",
       "0  BMW  1 Series M  2011  335.0        6.0       MANUAL  rear wheel drive   \n",
       "1  BMW    1 Series  2011  300.0        6.0       MANUAL  rear wheel drive   \n",
       "2  BMW    1 Series  2011  300.0        6.0       MANUAL  rear wheel drive   \n",
       "3  BMW    1 Series  2011  230.0        6.0       MANUAL  rear wheel drive   \n",
       "4  BMW    1 Series  2011  230.0        6.0       MANUAL  rear wheel drive   \n",
       "5  BMW    1 Series  2012  230.0        6.0       MANUAL  rear wheel drive   \n",
       "6  BMW    1 Series  2012  300.0        6.0       MANUAL  rear wheel drive   \n",
       "7  BMW    1 Series  2012  300.0        6.0       MANUAL  rear wheel drive   \n",
       "8  BMW    1 Series  2012  230.0        6.0       MANUAL  rear wheel drive   \n",
       "9  BMW    1 Series  2013  230.0        6.0       MANUAL  rear wheel drive   \n",
       "\n",
       "  Vehicle Size Vehicle Style  MPG-H  MPG-C  Popularity  Price  \n",
       "0      Compact         Coupe     26     19        3916  46135  \n",
       "1      Compact   Convertible     28     19        3916  40650  \n",
       "2      Compact         Coupe     28     20        3916  36350  \n",
       "3      Compact         Coupe     28     18        3916  29450  \n",
       "4      Compact   Convertible     28     18        3916  34500  \n",
       "5      Compact         Coupe     28     18        3916  31200  \n",
       "6      Compact   Convertible     26     17        3916  44100  \n",
       "7      Compact         Coupe     28     20        3916  39300  \n",
       "8      Compact   Convertible     28     18        3916  36900  \n",
       "9      Compact   Convertible     27     18        3916  37200  "
      ]
     },
     "execution_count": 12,
     "metadata": {},
     "output_type": "execute_result"
    }
   ],
   "source": [
    "df.head(10) #data after rename"
   ]
  },
  {
   "cell_type": "markdown",
   "execution_count": null,
   "metadata": {
    "papermill": {
     "duration": 0.032868,
     "end_time": "2020-08-22T07:04:24.385874",
     "exception": false,
     "start_time": "2020-08-22T07:04:24.353006",
     "status": "completed"
    },
    "tags": []
   },
   "source": [
    "# STEP 4 CHECKING THE NULL VALUES AFTER RENAMING and droping the coloumn "
   ]
  },
  {
   "cell_type": "code",
   "execution_count": 13,
   "metadata": {
    "execution": {
     "iopub.execute_input": "2020-08-22T07:04:24.527013Z",
     "iopub.status.busy": "2020-08-22T07:04:24.526154Z",
     "iopub.status.idle": "2020-08-22T07:04:24.535352Z",
     "shell.execute_reply": "2020-08-22T07:04:24.534500Z"
    },
    "papermill": {
     "duration": 0.052767,
     "end_time": "2020-08-22T07:04:24.535488",
     "exception": false,
     "start_time": "2020-08-22T07:04:24.482721",
     "status": "completed"
    },
    "tags": []
   },
   "outputs": [
    {
     "data": {
      "text/plain": [
       "Make              0\n",
       "Model             0\n",
       "Year              0\n",
       "HP               69\n",
       "Cylinders        30\n",
       "Transmission      0\n",
       "Drive Mode        0\n",
       "Vehicle Size      0\n",
       "Vehicle Style     0\n",
       "MPG-H             0\n",
       "MPG-C             0\n",
       "Popularity        0\n",
       "Price             0\n",
       "dtype: int64"
      ]
     },
     "execution_count": 13,
     "metadata": {},
     "output_type": "execute_result"
    }
   ],
   "source": [
    "df.isnull().sum() #checking null values after dropping the coloumn  ."
   ]
  },
  {
   "cell_type": "markdown",
   "execution_count": null,
   "metadata": {
    "papermill": {
     "duration": 0.029686,
     "end_time": "2020-08-22T07:04:24.595422",
     "exception": false,
     "start_time": "2020-08-22T07:04:24.565736",
     "status": "completed"
    },
    "tags": []
   },
   "source": [
    "# DISPLAYING THE SHAPE OF DATFRAME AFTER REMOVING"
   ]
  },
  {
   "cell_type": "code",
   "execution_count": 14,
   "metadata": {
    "execution": {
     "iopub.execute_input": "2020-08-22T07:04:24.662509Z",
     "iopub.status.busy": "2020-08-22T07:04:24.661613Z",
     "iopub.status.idle": "2020-08-22T07:04:24.667175Z",
     "shell.execute_reply": "2020-08-22T07:04:24.666486Z"
    },
    "papermill": {
     "duration": 0.041568,
     "end_time": "2020-08-22T07:04:24.667320",
     "exception": false,
     "start_time": "2020-08-22T07:04:24.625752",
     "status": "completed"
    },
    "tags": []
   },
   "outputs": [
    {
     "data": {
      "text/plain": [
       "(11914, 13)"
      ]
     },
     "execution_count": 14,
     "metadata": {},
     "output_type": "execute_result"
    }
   ],
   "source": [
    "df.shape #Total number of rows and columns"
   ]
  },
  {
   "cell_type": "markdown",
   "execution_count": null,
   "metadata": {
    "papermill": {
     "duration": 0.029814,
     "end_time": "2020-08-22T07:04:24.727242",
     "exception": false,
     "start_time": "2020-08-22T07:04:24.697428",
     "status": "completed"
    },
    "tags": []
   },
   "source": [
    "# STEP 4 CHECKING FOR DUPLICATES VALUES IN THE GIVEN DATA FRAME"
   ]
  },
  {
   "cell_type": "code",
   "execution_count": 15,
   "metadata": {
    "execution": {
     "iopub.execute_input": "2020-08-22T07:04:24.794788Z",
     "iopub.status.busy": "2020-08-22T07:04:24.793984Z",
     "iopub.status.idle": "2020-08-22T07:04:24.817721Z",
     "shell.execute_reply": "2020-08-22T07:04:24.817057Z"
    },
    "papermill": {
     "duration": 0.060581,
     "end_time": "2020-08-22T07:04:24.817863",
     "exception": false,
     "start_time": "2020-08-22T07:04:24.757282",
     "status": "completed"
    },
    "tags": []
   },
   "outputs": [
    {
     "name": "stdout",
     "output_type": "stream",
     "text": [
      "number of duplicate rows:  (792, 13)\n"
     ]
    }
   ],
   "source": [
    "duplicate_rows_df = df[df.duplicated()]\n",
    "print(\"number of duplicate rows: \", duplicate_rows_df.shape)"
   ]
  },
  {
   "cell_type": "markdown",
   "execution_count": null,
   "metadata": {
    "papermill": {
     "duration": 0.030627,
     "end_time": "2020-08-22T07:04:24.878894",
     "exception": false,
     "start_time": "2020-08-22T07:04:24.848267",
     "status": "completed"
    },
    "tags": []
   },
   "source": [
    "# STEP 4 DROPPING DUPLICATES VALUES "
   ]
  },
  {
   "cell_type": "code",
   "execution_count": 16,
   "metadata": {
    "execution": {
     "iopub.execute_input": "2020-08-22T07:04:24.947356Z",
     "iopub.status.busy": "2020-08-22T07:04:24.946407Z",
     "iopub.status.idle": "2020-08-22T07:04:24.979252Z",
     "shell.execute_reply": "2020-08-22T07:04:24.978364Z"
    },
    "papermill": {
     "duration": 0.069828,
     "end_time": "2020-08-22T07:04:24.979388",
     "exception": false,
     "start_time": "2020-08-22T07:04:24.909560",
     "status": "completed"
    },
    "tags": []
   },
   "outputs": [
    {
     "data": {
      "text/html": [
       "<div>\n",
       "<style scoped>\n",
       "    .dataframe tbody tr th:only-of-type {\n",
       "        vertical-align: middle;\n",
       "    }\n",
       "\n",
       "    .dataframe tbody tr th {\n",
       "        vertical-align: top;\n",
       "    }\n",
       "\n",
       "    .dataframe thead th {\n",
       "        text-align: right;\n",
       "    }\n",
       "</style>\n",
       "<table border=\"1\" class=\"dataframe\">\n",
       "  <thead>\n",
       "    <tr style=\"text-align: right;\">\n",
       "      <th></th>\n",
       "      <th>Make</th>\n",
       "      <th>Model</th>\n",
       "      <th>Year</th>\n",
       "      <th>HP</th>\n",
       "      <th>Cylinders</th>\n",
       "      <th>Transmission</th>\n",
       "      <th>Drive Mode</th>\n",
       "      <th>Vehicle Size</th>\n",
       "      <th>Vehicle Style</th>\n",
       "      <th>MPG-H</th>\n",
       "      <th>MPG-C</th>\n",
       "      <th>Popularity</th>\n",
       "      <th>Price</th>\n",
       "    </tr>\n",
       "  </thead>\n",
       "  <tbody>\n",
       "    <tr>\n",
       "      <th>0</th>\n",
       "      <td>BMW</td>\n",
       "      <td>1 Series M</td>\n",
       "      <td>2011</td>\n",
       "      <td>335.0</td>\n",
       "      <td>6.0</td>\n",
       "      <td>MANUAL</td>\n",
       "      <td>rear wheel drive</td>\n",
       "      <td>Compact</td>\n",
       "      <td>Coupe</td>\n",
       "      <td>26</td>\n",
       "      <td>19</td>\n",
       "      <td>3916</td>\n",
       "      <td>46135</td>\n",
       "    </tr>\n",
       "    <tr>\n",
       "      <th>1</th>\n",
       "      <td>BMW</td>\n",
       "      <td>1 Series</td>\n",
       "      <td>2011</td>\n",
       "      <td>300.0</td>\n",
       "      <td>6.0</td>\n",
       "      <td>MANUAL</td>\n",
       "      <td>rear wheel drive</td>\n",
       "      <td>Compact</td>\n",
       "      <td>Convertible</td>\n",
       "      <td>28</td>\n",
       "      <td>19</td>\n",
       "      <td>3916</td>\n",
       "      <td>40650</td>\n",
       "    </tr>\n",
       "    <tr>\n",
       "      <th>2</th>\n",
       "      <td>BMW</td>\n",
       "      <td>1 Series</td>\n",
       "      <td>2011</td>\n",
       "      <td>300.0</td>\n",
       "      <td>6.0</td>\n",
       "      <td>MANUAL</td>\n",
       "      <td>rear wheel drive</td>\n",
       "      <td>Compact</td>\n",
       "      <td>Coupe</td>\n",
       "      <td>28</td>\n",
       "      <td>20</td>\n",
       "      <td>3916</td>\n",
       "      <td>36350</td>\n",
       "    </tr>\n",
       "    <tr>\n",
       "      <th>3</th>\n",
       "      <td>BMW</td>\n",
       "      <td>1 Series</td>\n",
       "      <td>2011</td>\n",
       "      <td>230.0</td>\n",
       "      <td>6.0</td>\n",
       "      <td>MANUAL</td>\n",
       "      <td>rear wheel drive</td>\n",
       "      <td>Compact</td>\n",
       "      <td>Coupe</td>\n",
       "      <td>28</td>\n",
       "      <td>18</td>\n",
       "      <td>3916</td>\n",
       "      <td>29450</td>\n",
       "    </tr>\n",
       "    <tr>\n",
       "      <th>4</th>\n",
       "      <td>BMW</td>\n",
       "      <td>1 Series</td>\n",
       "      <td>2011</td>\n",
       "      <td>230.0</td>\n",
       "      <td>6.0</td>\n",
       "      <td>MANUAL</td>\n",
       "      <td>rear wheel drive</td>\n",
       "      <td>Compact</td>\n",
       "      <td>Convertible</td>\n",
       "      <td>28</td>\n",
       "      <td>18</td>\n",
       "      <td>3916</td>\n",
       "      <td>34500</td>\n",
       "    </tr>\n",
       "  </tbody>\n",
       "</table>\n",
       "</div>"
      ],
      "text/plain": [
       "  Make       Model  Year     HP  Cylinders Transmission        Drive Mode  \\\n",
       "0  BMW  1 Series M  2011  335.0        6.0       MANUAL  rear wheel drive   \n",
       "1  BMW    1 Series  2011  300.0        6.0       MANUAL  rear wheel drive   \n",
       "2  BMW    1 Series  2011  300.0        6.0       MANUAL  rear wheel drive   \n",
       "3  BMW    1 Series  2011  230.0        6.0       MANUAL  rear wheel drive   \n",
       "4  BMW    1 Series  2011  230.0        6.0       MANUAL  rear wheel drive   \n",
       "\n",
       "  Vehicle Size Vehicle Style  MPG-H  MPG-C  Popularity  Price  \n",
       "0      Compact         Coupe     26     19        3916  46135  \n",
       "1      Compact   Convertible     28     19        3916  40650  \n",
       "2      Compact         Coupe     28     20        3916  36350  \n",
       "3      Compact         Coupe     28     18        3916  29450  \n",
       "4      Compact   Convertible     28     18        3916  34500  "
      ]
     },
     "execution_count": 16,
     "metadata": {},
     "output_type": "execute_result"
    }
   ],
   "source": [
    "df = df.drop_duplicates()\n",
    "df.head(5)"
   ]
  },
  {
   "cell_type": "markdown",
   "execution_count": null,
   "metadata": {
    "papermill": {
     "duration": 0.031261,
     "end_time": "2020-08-22T07:04:25.042394",
     "exception": false,
     "start_time": "2020-08-22T07:04:25.011133",
     "status": "completed"
    },
    "tags": []
   },
   "source": [
    "# SHAPE OF THE DATA FRAME AFTER DROPPING DUPLICATES VALUES "
   ]
  },
  {
   "cell_type": "code",
   "execution_count": 17,
   "metadata": {
    "execution": {
     "iopub.execute_input": "2020-08-22T07:04:25.111468Z",
     "iopub.status.busy": "2020-08-22T07:04:25.110660Z",
     "iopub.status.idle": "2020-08-22T07:04:25.115682Z",
     "shell.execute_reply": "2020-08-22T07:04:25.114905Z"
    },
    "papermill": {
     "duration": 0.041823,
     "end_time": "2020-08-22T07:04:25.115816",
     "exception": false,
     "start_time": "2020-08-22T07:04:25.073993",
     "status": "completed"
    },
    "tags": []
   },
   "outputs": [
    {
     "data": {
      "text/plain": [
       "(11122, 13)"
      ]
     },
     "execution_count": 17,
     "metadata": {},
     "output_type": "execute_result"
    }
   ],
   "source": [
    "df.shape #Total number of rows and columnsafter dropping the values"
   ]
  },
  {
   "cell_type": "markdown",
   "execution_count": null,
   "metadata": {
    "papermill": {
     "duration": 0.031733,
     "end_time": "2020-08-22T07:04:25.179381",
     "exception": false,
     "start_time": "2020-08-22T07:04:25.147648",
     "status": "completed"
    },
    "tags": []
   },
   "source": [
    "# STEP 4 DROPPING  THE NULL VALUES AND COUNTING THE NUMBER OF ROWS "
   ]
  },
  {
   "cell_type": "code",
   "execution_count": 18,
   "metadata": {
    "execution": {
     "iopub.execute_input": "2020-08-22T07:04:25.256358Z",
     "iopub.status.busy": "2020-08-22T07:04:25.255462Z",
     "iopub.status.idle": "2020-08-22T07:04:25.278127Z",
     "shell.execute_reply": "2020-08-22T07:04:25.277276Z"
    },
    "papermill": {
     "duration": 0.06708,
     "end_time": "2020-08-22T07:04:25.278268",
     "exception": false,
     "start_time": "2020-08-22T07:04:25.211188",
     "status": "completed"
    },
    "tags": []
   },
   "outputs": [
    {
     "data": {
      "text/plain": [
       "Make             11024\n",
       "Model            11024\n",
       "Year             11024\n",
       "HP               11024\n",
       "Cylinders        11024\n",
       "Transmission     11024\n",
       "Drive Mode       11024\n",
       "Vehicle Size     11024\n",
       "Vehicle Style    11024\n",
       "MPG-H            11024\n",
       "MPG-C            11024\n",
       "Popularity       11024\n",
       "Price            11024\n",
       "dtype: int64"
      ]
     },
     "execution_count": 18,
     "metadata": {},
     "output_type": "execute_result"
    }
   ],
   "source": [
    "df = df.dropna()\n",
    "df.count()"
   ]
  },
  {
   "cell_type": "markdown",
   "execution_count": null,
   "metadata": {
    "papermill": {
     "duration": 0.031737,
     "end_time": "2020-08-22T07:04:25.341893",
     "exception": false,
     "start_time": "2020-08-22T07:04:25.310156",
     "status": "completed"
    },
    "tags": []
   },
   "source": [
    "# STEP 5 PLOTTING OF DIFF TYPES OF GRAPHS FOR CHECKING OUTLIERS ."
   ]
  },
  {
   "cell_type": "markdown",
   "execution_count": null,
   "metadata": {
    "papermill": {
     "duration": 0.03122,
     "end_time": "2020-08-22T07:04:25.404995",
     "exception": false,
     "start_time": "2020-08-22T07:04:25.373775",
     "status": "completed"
    },
    "tags": []
   },
   "source": [
    "**Outliers\n",
    "Just like missing values, your data might also contain values that diverge heavily from the big majority of your other data. These data points are called “outliers”. To find them, you can check the distribution of your single variables by means of a *box***** plot or you can make a scatter plot of your data to identify data points that don’t lie in the “expected” area of the plot.\n",
    "\n",
    "The causes for outliers in your data might vary, going from system errors to people interfering with the data through data entry or data processing, but it’s important to consider the effect that they can have on your analysis: they will change the result of statistical tests such as standard deviation, mean or median, they can potentially decrease the normality and impact the results of statistical models, such as regression or ANOVA.\n",
    "\n",
    "To deal with outliers, you can either delete, transform, or impute them: the decision will again depend on the data context. That’s why it’s again important to understand your data and identify the cause for the outliers:\n",
    "\n",
    "If the outlier value is due to data entry or data processing errors, you might consider deleting the value.\n",
    "You can transform the outliers by assigning weights to your observations or use the natural log to reduce the variation that the outlier values in your data set cause.\n",
    "Just like the missing values, you can also use imputation methods to replace the extreme values of your data with median, mean or mode values.\n",
    "\n",
    "You can use the functions that were described in the above section to deal with outliers in your data.**"
   ]
  },
  {
   "cell_type": "markdown",
   "execution_count": null,
   "metadata": {
    "papermill": {
     "duration": 0.031278,
     "end_time": "2020-08-22T07:04:25.468098",
     "exception": false,
     "start_time": "2020-08-22T07:04:25.436820",
     "status": "completed"
    },
    "tags": []
   },
   "source": [
    "# BOX PLOT GRAPHS FOR DIFFERENT CATEGORIEs BEFORE REMOVING OUTLIERS "
   ]
  },
  {
   "cell_type": "code",
   "execution_count": 19,
   "metadata": {
    "execution": {
     "iopub.execute_input": "2020-08-22T07:04:25.538427Z",
     "iopub.status.busy": "2020-08-22T07:04:25.537602Z",
     "iopub.status.idle": "2020-08-22T07:04:25.870124Z",
     "shell.execute_reply": "2020-08-22T07:04:25.869426Z"
    },
    "papermill": {
     "duration": 0.370426,
     "end_time": "2020-08-22T07:04:25.870265",
     "exception": false,
     "start_time": "2020-08-22T07:04:25.499839",
     "status": "completed"
    },
    "tags": []
   },
   "outputs": [
    {
     "data": {
      "text/plain": [
       "<matplotlib.axes._subplots.AxesSubplot at 0x7ff3fa242d90>"
      ]
     },
     "execution_count": 19,
     "metadata": {},
     "output_type": "execute_result"
    },
    {
     "data": {
      "image/png": "[encoded data removed]",
      "text/plain": [
       "<Figure size 432x288 with 1 Axes>"
      ]
     },
     "metadata": {},
     "output_type": "display_data"
    }
   ],
   "source": [
    "sns.boxplot(x=df['Price'])"
   ]
  },
  {
   "cell_type": "code",
   "execution_count": 20,
   "metadata": {
    "execution": {
     "iopub.execute_input": "2020-08-22T07:04:25.949662Z",
     "iopub.status.busy": "2020-08-22T07:04:25.948807Z",
     "iopub.status.idle": "2020-08-22T07:04:26.199182Z",
     "shell.execute_reply": "2020-08-22T07:04:26.198534Z"
    },
    "papermill": {
     "duration": 0.297292,
     "end_time": "2020-08-22T07:04:26.199321",
     "exception": false,
     "start_time": "2020-08-22T07:04:25.902029",
     "status": "completed"
    },
    "tags": []
   },
   "outputs": [
    {
     "data": {
      "text/plain": [
       "<matplotlib.axes._subplots.AxesSubplot at 0x7ff3f8081c10>"
      ]
     },
     "execution_count": 20,
     "metadata": {},
     "output_type": "execute_result"
    },
    {
     "data": {
      "image/png": "[encoded data removed]",
      "text/plain": [
       "<Figure size 432x288 with 1 Axes>"
      ]
     },
     "metadata": {},
     "output_type": "display_data"
    }
   ],
   "source": [
    "sns.boxplot(x=df['HP'])"
   ]
  },
  {
   "cell_type": "code",
   "execution_count": 21,
   "metadata": {
    "execution": {
     "iopub.execute_input": "2020-08-22T07:04:26.280630Z",
     "iopub.status.busy": "2020-08-22T07:04:26.279454Z",
     "iopub.status.idle": "2020-08-22T07:04:26.655983Z",
     "shell.execute_reply": "2020-08-22T07:04:26.655154Z"
    },
    "papermill": {
     "duration": 0.424235,
     "end_time": "2020-08-22T07:04:26.656116",
     "exception": false,
     "start_time": "2020-08-22T07:04:26.231881",
     "status": "completed"
    },
    "tags": []
   },
   "outputs": [
    {
     "data": {
      "text/plain": [
       "<matplotlib.axes._subplots.AxesSubplot at 0x7ff3f3fec4d0>"
      ]
     },
     "execution_count": 21,
     "metadata": {},
     "output_type": "execute_result"
    },
    {
     "data": {
      "image/png": "[encoded data removed]",
      "text/plain": [
       "<Figure size 432x288 with 1 Axes>"
      ]
     },
     "metadata": {},
     "output_type": "display_data"
    }
   ],
   "source": [
    "sns.boxplot(x=df['Cylinders'])"
   ]
  },
  {
   "cell_type": "markdown",
   "execution_count": null,
   "metadata": {
    "papermill": {
     "duration": 0.032518,
     "end_time": "2020-08-22T07:04:26.721298",
     "exception": false,
     "start_time": "2020-08-22T07:04:26.688780",
     "status": "completed"
    },
    "tags": []
   },
   "source": [
    "# STEP 5 REMOVING OUTLIERS USING IQR METHOD "
   ]
  },
  {
   "cell_type": "code",
   "execution_count": 22,
   "metadata": {
    "execution": {
     "iopub.execute_input": "2020-08-22T07:04:26.794538Z",
     "iopub.status.busy": "2020-08-22T07:04:26.793382Z",
     "iopub.status.idle": "2020-08-22T07:04:26.804170Z",
     "shell.execute_reply": "2020-08-22T07:04:26.803453Z"
    },
    "papermill": {
     "duration": 0.050342,
     "end_time": "2020-08-22T07:04:26.804318",
     "exception": false,
     "start_time": "2020-08-22T07:04:26.753976",
     "status": "completed"
    },
    "tags": []
   },
   "outputs": [
    {
     "name": "stdout",
     "output_type": "stream",
     "text": [
      "Year              9.00\n",
      "HP              131.00\n",
      "Cylinders         2.00\n",
      "MPG-H             8.00\n",
      "MPG-C             6.00\n",
      "Popularity     1460.00\n",
      "Price         21426.25\n",
      "dtype: float64\n"
     ]
    }
   ],
   "source": [
    "Q1 = df.quantile(0.25)\n",
    "Q3 = df.quantile(0.75)\n",
    "IQR = Q3 - Q1\n",
    "print(IQR)"
   ]
  },
  {
   "cell_type": "markdown",
   "execution_count": null,
   "metadata": {
    "papermill": {
     "duration": 0.031963,
     "end_time": "2020-08-22T07:04:26.868996",
     "exception": false,
     "start_time": "2020-08-22T07:04:26.837033",
     "status": "completed"
    },
    "tags": []
   },
   "source": [
    "# CHECKING THE SHAPE OF THE DATAFRAME AFTER REMOVING OUTLIERS "
   ]
  },
  {
   "cell_type": "code",
   "execution_count": 23,
   "metadata": {
    "execution": {
     "iopub.execute_input": "2020-08-22T07:04:26.945248Z",
     "iopub.status.busy": "2020-08-22T07:04:26.942851Z",
     "iopub.status.idle": "2020-08-22T07:04:26.993205Z",
     "shell.execute_reply": "2020-08-22T07:04:26.993861Z"
    },
    "papermill": {
     "duration": 0.093033,
     "end_time": "2020-08-22T07:04:26.994033",
     "exception": false,
     "start_time": "2020-08-22T07:04:26.901000",
     "status": "completed"
    },
    "tags": []
   },
   "outputs": [
    {
     "data": {
      "text/plain": [
       "(8546, 13)"
      ]
     },
     "execution_count": 23,
     "metadata": {},
     "output_type": "execute_result"
    }
   ],
   "source": [
    "df = df[~((df < (Q1 - 1.5 * IQR)) |(df > (Q3 + 1.5 * IQR))).any(axis=1)]\n",
    "df.shape"
   ]
  },
  {
   "cell_type": "markdown",
   "execution_count": null,
   "metadata": {
    "papermill": {
     "duration": 0.031603,
     "end_time": "2020-08-22T07:04:27.057966",
     "exception": false,
     "start_time": "2020-08-22T07:04:27.026363",
     "status": "completed"
    },
    "tags": []
   },
   "source": [
    "# Checking whether the outliers are removed are not "
   ]
  },
  {
   "cell_type": "code",
   "execution_count": 24,
   "metadata": {
    "execution": {
     "iopub.execute_input": "2020-08-22T07:04:27.136980Z",
     "iopub.status.busy": "2020-08-22T07:04:27.136116Z",
     "iopub.status.idle": "2020-08-22T07:04:27.402776Z",
     "shell.execute_reply": "2020-08-22T07:04:27.402060Z"
    },
    "papermill": {
     "duration": 0.312937,
     "end_time": "2020-08-22T07:04:27.402908",
     "exception": false,
     "start_time": "2020-08-22T07:04:27.089971",
     "status": "completed"
    },
    "tags": []
   },
   "outputs": [
    {
     "data": {
      "text/plain": [
       "<matplotlib.axes._subplots.AxesSubplot at 0x7ff3f3f467d0>"
      ]
     },
     "execution_count": 24,
     "metadata": {},
     "output_type": "execute_result"
    },
    {
     "data": {
      "image/png": "[encoded data removed]",
      "text/plain": [
       "<Figure size 432x288 with 1 Axes>"
      ]
     },
     "metadata": {},
     "output_type": "display_data"
    }
   ],
   "source": [
    "sns.boxplot(x=df['Price']) #boxplot of price"
   ]
  },
  {
   "cell_type": "code",
   "execution_count": 25,
   "metadata": {
    "execution": {
     "iopub.execute_input": "2020-08-22T07:04:27.482159Z",
     "iopub.status.busy": "2020-08-22T07:04:27.479365Z",
     "iopub.status.idle": "2020-08-22T07:04:27.735760Z",
     "shell.execute_reply": "2020-08-22T07:04:27.735018Z"
    },
    "papermill": {
     "duration": 0.300646,
     "end_time": "2020-08-22T07:04:27.735921",
     "exception": false,
     "start_time": "2020-08-22T07:04:27.435275",
     "status": "completed"
    },
    "tags": []
   },
   "outputs": [
    {
     "data": {
      "text/plain": [
       "<matplotlib.axes._subplots.AxesSubplot at 0x7ff3f3ed5090>"
      ]
     },
     "execution_count": 25,
     "metadata": {},
     "output_type": "execute_result"
    },
    {
     "data": {
      "image/png": "[encoded data removed]",
      "text/plain": [
       "<Figure size 432x288 with 1 Axes>"
      ]
     },
     "metadata": {},
     "output_type": "display_data"
    }
   ],
   "source": [
    "sns.boxplot(x=df['HP']) #boxplot of hp"
   ]
  },
  {
   "cell_type": "code",
   "execution_count": 26,
   "metadata": {
    "execution": {
     "iopub.execute_input": "2020-08-22T07:04:27.814701Z",
     "iopub.status.busy": "2020-08-22T07:04:27.813875Z",
     "iopub.status.idle": "2020-08-22T07:04:28.077762Z",
     "shell.execute_reply": "2020-08-22T07:04:28.076980Z"
    },
    "papermill": {
     "duration": 0.308764,
     "end_time": "2020-08-22T07:04:28.077894",
     "exception": false,
     "start_time": "2020-08-22T07:04:27.769130",
     "status": "completed"
    },
    "tags": []
   },
   "outputs": [
    {
     "data": {
      "text/plain": [
       "<matplotlib.axes._subplots.AxesSubplot at 0x7ff3f3e45a90>"
      ]
     },
     "execution_count": 26,
     "metadata": {},
     "output_type": "execute_result"
    },
    {
     "data": {
      "image/png": "[encoded data removed]",
      "text/plain": [
       "<Figure size 432x288 with 1 Axes>"
      ]
     },
     "metadata": {},
     "output_type": "display_data"
    }
   ],
   "source": [
    "sns.boxplot(x=df['Cylinders']) #boxplot of cylinders"
   ]
  },
  {
   "cell_type": "markdown",
   "execution_count": null,
   "metadata": {
    "papermill": {
     "duration": 0.033188,
     "end_time": "2020-08-22T07:04:28.144408",
     "exception": false,
     "start_time": "2020-08-22T07:04:28.111220",
     "status": "completed"
    },
    "tags": []
   },
   "source": [
    "# STEP 6 CHECKING TOP 15 CAR BRAND MOST REPRESENTED IN DATASET "
   ]
  },
  {
   "cell_type": "code",
   "execution_count": 27,
   "metadata": {
    "execution": {
     "iopub.execute_input": "2020-08-22T07:04:28.234537Z",
     "iopub.status.busy": "2020-08-22T07:04:28.232643Z",
     "iopub.status.idle": "2020-08-22T07:04:28.593686Z",
     "shell.execute_reply": "2020-08-22T07:04:28.592799Z"
    },
    "papermill": {
     "duration": 0.416244,
     "end_time": "2020-08-22T07:04:28.593821",
     "exception": false,
     "start_time": "2020-08-22T07:04:28.177577",
     "status": "completed"
    },
    "tags": []
   },
   "outputs": [
    {
     "data": {
      "image/png": "[encoded data removed]",
      "text/plain": [
       "<Figure size 720x360 with 1 Axes>"
      ]
     },
     "metadata": {},
     "output_type": "display_data"
    }
   ],
   "source": [
    "counts = df['Make'].value_counts()*100/sum(df['Make'].value_counts())\n",
    "popular_labels = counts.index[:15]\n",
    "plt.figure(figsize=(10,5))\n",
    "plt.barh(popular_labels, width=counts[:15])\n",
    "plt.title('Top 15 Car brands')\n",
    "plt.show()"
   ]
  },
  {
   "cell_type": "markdown",
   "execution_count": null,
   "metadata": {
    "papermill": {
     "duration": 0.034022,
     "end_time": "2020-08-22T07:04:28.662561",
     "exception": false,
     "start_time": "2020-08-22T07:04:28.628539",
     "status": "completed"
    },
    "tags": []
   },
   "source": [
    "# STEP 6 FINDING AVERAGE CAR PRICE AMONS THE TOPS CAR BRANDS"
   ]
  },
  {
   "cell_type": "code",
   "execution_count": 28,
   "metadata": {
    "execution": {
     "iopub.execute_input": "2020-08-22T07:04:28.758935Z",
     "iopub.status.busy": "2020-08-22T07:04:28.756529Z",
     "iopub.status.idle": "2020-08-22T07:04:28.767797Z",
     "shell.execute_reply": "2020-08-22T07:04:28.767000Z"
    },
    "papermill": {
     "duration": 0.071136,
     "end_time": "2020-08-22T07:04:28.767939",
     "exception": false,
     "start_time": "2020-08-22T07:04:28.696803",
     "status": "completed"
    },
    "tags": []
   },
   "outputs": [
    {
     "name": "stdout",
     "output_type": "stream",
     "text": [
      "                   Price\n",
      "Make                    \n",
      "Chevrolet   28142.855891\n",
      "Dodge       26076.722353\n",
      "GMC         33261.400853\n",
      "Honda       27381.364611\n",
      "Mazda       20495.820106\n",
      "Nissan      28352.543860\n",
      "Toyota      27769.421793\n",
      "Volkswagen  29032.817476\n"
     ]
    }
   ],
   "source": [
    "prices = df[['Make','Price']].loc[(df['Make'] == 'Chevrolet')|\n",
    "               (df['Make'] == 'Ford')|\n",
    "               (df['Make'] == 'Volkswagen')|\n",
    "               (df['Make'] == 'Toyota')|\n",
    "               (df['Make'] == 'Dodge')|\n",
    "               (df['Make'] == 'Nissan')|\n",
    "               (df['Make'] == 'GMC')|\n",
    "               (df['Make'] == 'Honda')|\n",
    "               (df['Make'] == 'Mazda')].groupby('Make').mean()\n",
    "print(prices)"
   ]
  },
  {
   "cell_type": "markdown",
   "execution_count": null,
   "metadata": {
    "papermill": {
     "duration": 0.033423,
     "end_time": "2020-08-22T07:04:28.835335",
     "exception": false,
     "start_time": "2020-08-22T07:04:28.801912",
     "status": "completed"
    },
    "tags": []
   },
   "source": [
    "# STPE 7 PLOTTING THE CORRELATION MATRIX "
   ]
  },
  {
   "cell_type": "code",
   "execution_count": 29,
   "metadata": {
    "execution": {
     "iopub.execute_input": "2020-08-22T07:04:28.909066Z",
     "iopub.status.busy": "2020-08-22T07:04:28.908069Z",
     "iopub.status.idle": "2020-08-22T07:04:28.927728Z",
     "shell.execute_reply": "2020-08-22T07:04:28.926898Z"
    },
    "papermill": {
     "duration": 0.058759,
     "end_time": "2020-08-22T07:04:28.927860",
     "exception": false,
     "start_time": "2020-08-22T07:04:28.869101",
     "status": "completed"
    },
    "tags": []
   },
   "outputs": [
    {
     "data": {
      "text/html": [
       "<div>\n",
       "<style scoped>\n",
       "    .dataframe tbody tr th:only-of-type {\n",
       "        vertical-align: middle;\n",
       "    }\n",
       "\n",
       "    .dataframe tbody tr th {\n",
       "        vertical-align: top;\n",
       "    }\n",
       "\n",
       "    .dataframe thead th {\n",
       "        text-align: right;\n",
       "    }\n",
       "</style>\n",
       "<table border=\"1\" class=\"dataframe\">\n",
       "  <thead>\n",
       "    <tr style=\"text-align: right;\">\n",
       "      <th></th>\n",
       "      <th>Year</th>\n",
       "      <th>HP</th>\n",
       "      <th>Cylinders</th>\n",
       "      <th>MPG-H</th>\n",
       "      <th>MPG-C</th>\n",
       "      <th>Popularity</th>\n",
       "      <th>Price</th>\n",
       "    </tr>\n",
       "  </thead>\n",
       "  <tbody>\n",
       "    <tr>\n",
       "      <th>Year</th>\n",
       "      <td>1.000000</td>\n",
       "      <td>0.325104</td>\n",
       "      <td>-0.106597</td>\n",
       "      <td>0.373319</td>\n",
       "      <td>0.335236</td>\n",
       "      <td>0.200710</td>\n",
       "      <td>0.591439</td>\n",
       "    </tr>\n",
       "    <tr>\n",
       "      <th>HP</th>\n",
       "      <td>0.325104</td>\n",
       "      <td>1.000000</td>\n",
       "      <td>0.734094</td>\n",
       "      <td>-0.453451</td>\n",
       "      <td>-0.554768</td>\n",
       "      <td>0.095161</td>\n",
       "      <td>0.745852</td>\n",
       "    </tr>\n",
       "    <tr>\n",
       "      <th>Cylinders</th>\n",
       "      <td>-0.106597</td>\n",
       "      <td>0.734094</td>\n",
       "      <td>1.000000</td>\n",
       "      <td>-0.691395</td>\n",
       "      <td>-0.746361</td>\n",
       "      <td>0.013373</td>\n",
       "      <td>0.389049</td>\n",
       "    </tr>\n",
       "    <tr>\n",
       "      <th>MPG-H</th>\n",
       "      <td>0.373319</td>\n",
       "      <td>-0.453451</td>\n",
       "      <td>-0.691395</td>\n",
       "      <td>1.000000</td>\n",
       "      <td>0.936978</td>\n",
       "      <td>0.093002</td>\n",
       "      <td>-0.121262</td>\n",
       "    </tr>\n",
       "    <tr>\n",
       "      <th>MPG-C</th>\n",
       "      <td>0.335236</td>\n",
       "      <td>-0.554768</td>\n",
       "      <td>-0.746361</td>\n",
       "      <td>0.936978</td>\n",
       "      <td>1.000000</td>\n",
       "      <td>0.081110</td>\n",
       "      <td>-0.197330</td>\n",
       "    </tr>\n",
       "    <tr>\n",
       "      <th>Popularity</th>\n",
       "      <td>0.200710</td>\n",
       "      <td>0.095161</td>\n",
       "      <td>0.013373</td>\n",
       "      <td>0.093002</td>\n",
       "      <td>0.081110</td>\n",
       "      <td>1.000000</td>\n",
       "      <td>0.113604</td>\n",
       "    </tr>\n",
       "    <tr>\n",
       "      <th>Price</th>\n",
       "      <td>0.591439</td>\n",
       "      <td>0.745852</td>\n",
       "      <td>0.389049</td>\n",
       "      <td>-0.121262</td>\n",
       "      <td>-0.197330</td>\n",
       "      <td>0.113604</td>\n",
       "      <td>1.000000</td>\n",
       "    </tr>\n",
       "  </tbody>\n",
       "</table>\n",
       "</div>"
      ],
      "text/plain": [
       "                Year        HP  Cylinders     MPG-H     MPG-C  Popularity  \\\n",
       "Year        1.000000  0.325104  -0.106597  0.373319  0.335236    0.200710   \n",
       "HP          0.325104  1.000000   0.734094 -0.453451 -0.554768    0.095161   \n",
       "Cylinders  -0.106597  0.734094   1.000000 -0.691395 -0.746361    0.013373   \n",
       "MPG-H       0.373319 -0.453451  -0.691395  1.000000  0.936978    0.093002   \n",
       "MPG-C       0.335236 -0.554768  -0.746361  0.936978  1.000000    0.081110   \n",
       "Popularity  0.200710  0.095161   0.013373  0.093002  0.081110    1.000000   \n",
       "Price       0.591439  0.745852   0.389049 -0.121262 -0.197330    0.113604   \n",
       "\n",
       "               Price  \n",
       "Year        0.591439  \n",
       "HP          0.745852  \n",
       "Cylinders   0.389049  \n",
       "MPG-H      -0.121262  \n",
       "MPG-C      -0.197330  \n",
       "Popularity  0.113604  \n",
       "Price       1.000000  "
      ]
     },
     "execution_count": 29,
     "metadata": {},
     "output_type": "execute_result"
    }
   ],
   "source": [
    "df.corr() #FINDING THE CORRELATION MATRIX FROM HERE "
   ]
  },
  {
   "cell_type": "markdown",
   "execution_count": null,
   "metadata": {
    "papermill": {
     "duration": 0.03395,
     "end_time": "2020-08-22T07:04:28.997178",
     "exception": false,
     "start_time": "2020-08-22T07:04:28.963228",
     "status": "completed"
    },
    "tags": []
   },
   "source": [
    "# step 7\n",
    "\n",
    "# DOCUMENTING INSIGHTS ****  \n",
    "\n",
    "from the above it is concluded that price is positively depends on HP and Years . even they two are positiviely depend on each others .\n",
    "MPG-h and MPG-C are negatively strong correlation with cylinders.\n",
    "\n",
    "positive correlation holds directly proportion relation and negative coorealtion holds inversely relation with thier respeccitve factors affecting them . \n"
   ]
  },
  {
   "cell_type": "markdown",
   "execution_count": null,
   "metadata": {
    "papermill": {
     "duration": 0.034017,
     "end_time": "2020-08-22T07:04:29.065747",
     "exception": false,
     "start_time": "2020-08-22T07:04:29.031730",
     "status": "completed"
    },
    "tags": []
   },
   "source": [
    "# GRAPHING HEAT MAP FOR A LITTLE ANALYSIS OF CORRELATION MATRIX"
   ]
  },
  {
   "cell_type": "code",
   "execution_count": 30,
   "metadata": {
    "execution": {
     "iopub.execute_input": "2020-08-22T07:04:29.140730Z",
     "iopub.status.busy": "2020-08-22T07:04:29.139856Z",
     "iopub.status.idle": "2020-08-22T07:04:29.652503Z",
     "shell.execute_reply": "2020-08-22T07:04:29.651754Z"
    },
    "papermill": {
     "duration": 0.552643,
     "end_time": "2020-08-22T07:04:29.652646",
     "exception": false,
     "start_time": "2020-08-22T07:04:29.100003",
     "status": "completed"
    },
    "tags": []
   },
   "outputs": [
    {
     "data": {
      "text/plain": [
       "<matplotlib.axes._subplots.AxesSubplot at 0x7ff3f3ea3a50>"
      ]
     },
     "execution_count": 30,
     "metadata": {},
     "output_type": "execute_result"
    },
    {
     "data": {
      "image/png": "[encoded data removed]",
      "text/plain": [
       "<Figure size 432x288 with 2 Axes>"
      ]
     },
     "metadata": {},
     "output_type": "display_data"
    }
   ],
   "source": [
    "corrMatrix = df.corr()\n",
    "sns.heatmap(corrMatrix,annot=True)"
   ]
  },
  {
   "cell_type": "markdown",
   "execution_count": null,
   "metadata": {
    "papermill": {
     "duration": 0.035116,
     "end_time": "2020-08-22T07:04:29.723251",
     "exception": false,
     "start_time": "2020-08-22T07:04:29.688135",
     "status": "completed"
    },
    "tags": []
   },
   "source": [
    "# INSIGHTS FROM HEAT MAP\n",
    "*There is a +ve correlation between:\n",
    "\n",
    "Engine HP and Engine Cylinders //\n",
    "Engine HP and MSRP //\n",
    "Engine Cylinders and MSRP //\n",
    "MPG-H and MPG-C //\n",
    "\n",
    "There is Strong -ve correlation between :\n",
    "\n",
    "MPG-H and Cylinders\n",
    "MPG-C and Cylinders*****"
   ]
  },
  {
   "cell_type": "markdown",
   "execution_count": null,
   "metadata": {
    "papermill": {
     "duration": 0.034797,
     "end_time": "2020-08-22T07:04:29.793423",
     "exception": false,
     "start_time": "2020-08-22T07:04:29.758626",
     "status": "completed"
    },
    "tags": []
   },
   "source": [
    "# step 8 plotting diff graphs and also checking how other variable affect the price of the car (EDA)"
   ]
  },
  {
   "cell_type": "code",
   "execution_count": 31,
   "metadata": {
    "execution": {
     "iopub.execute_input": "2020-08-22T07:04:29.872277Z",
     "iopub.status.busy": "2020-08-22T07:04:29.869724Z",
     "iopub.status.idle": "2020-08-22T07:04:31.302541Z",
     "shell.execute_reply": "2020-08-22T07:04:31.301690Z"
    },
    "papermill": {
     "duration": 1.473819,
     "end_time": "2020-08-22T07:04:31.302707",
     "exception": false,
     "start_time": "2020-08-22T07:04:29.828888",
     "status": "completed"
    },
    "tags": []
   },
   "outputs": [
    {
     "data": {
      "text/plain": [
       "<matplotlib.axes._subplots.AxesSubplot at 0x7ff3f3c225d0>"
      ]
     },
     "execution_count": 31,
     "metadata": {},
     "output_type": "execute_result"
    },
    {
     "data": {
      "image/png": "[encoded data removed]",
      "text/plain": [
       "<Figure size 432x288 with 1 Axes>"
      ]
     },
     "metadata": {},
     "output_type": "display_data"
    }
   ],
   "source": [
    "sns.barplot(df['Year'],df['Price'])"
   ]
  },
  {
   "cell_type": "markdown",
   "execution_count": null,
   "metadata": {
    "papermill": {
     "duration": 0.035297,
     "end_time": "2020-08-22T07:04:31.373776",
     "exception": false,
     "start_time": "2020-08-22T07:04:31.338479",
     "status": "completed"
    },
    "tags": []
   },
   "source": [
    "In this graph (YEAR VS PRICE) in the starting years it was gradualy incrementing as well as decrementing but as the year is increasing the price of the cars increasing .** ...**** DOUCUMENT INSIGHTS OF GRAPH."
   ]
  },
  {
   "cell_type": "code",
   "execution_count": 32,
   "metadata": {
    "execution": {
     "iopub.execute_input": "2020-08-22T07:04:31.452892Z",
     "iopub.status.busy": "2020-08-22T07:04:31.452056Z",
     "iopub.status.idle": "2020-08-22T07:04:31.877044Z",
     "shell.execute_reply": "2020-08-22T07:04:31.876244Z"
    },
    "papermill": {
     "duration": 0.468065,
     "end_time": "2020-08-22T07:04:31.877178",
     "exception": false,
     "start_time": "2020-08-22T07:04:31.409113",
     "status": "completed"
    },
    "tags": []
   },
   "outputs": [
    {
     "data": {
      "text/plain": [
       "<matplotlib.axes._subplots.AxesSubplot at 0x7ff3f3c79210>"
      ]
     },
     "execution_count": 32,
     "metadata": {},
     "output_type": "execute_result"
    },
    {
     "data": {
      "image/png": "[encoded data removed]",
      "text/plain": [
       "<Figure size 432x288 with 1 Axes>"
      ]
     },
     "metadata": {},
     "output_type": "display_data"
    }
   ],
   "source": [
    "sns.barplot(df['Cylinders'],df['Price'])"
   ]
  },
  {
   "cell_type": "markdown",
   "execution_count": null,
   "metadata": {
    "papermill": {
     "duration": 0.035313,
     "end_time": "2020-08-22T07:04:31.948009",
     "exception": false,
     "start_time": "2020-08-22T07:04:31.912696",
     "status": "completed"
    },
    "tags": []
   },
   "source": [
    "In this graph (CYLINDERS VS PRICE) IT shows that subtotals changes with each addition category  and provide us with better understanding of data  .** ...**** DOUCUMENT INSIGHTS OF GRAPH."
   ]
  },
  {
   "cell_type": "code",
   "execution_count": 33,
   "metadata": {
    "execution": {
     "iopub.execute_input": "2020-08-22T07:04:32.028606Z",
     "iopub.status.busy": "2020-08-22T07:04:32.027782Z",
     "iopub.status.idle": "2020-08-22T07:04:33.787943Z",
     "shell.execute_reply": "2020-08-22T07:04:33.787120Z"
    },
    "papermill": {
     "duration": 1.803735,
     "end_time": "2020-08-22T07:04:33.788076",
     "exception": false,
     "start_time": "2020-08-22T07:04:31.984341",
     "status": "completed"
    },
    "tags": []
   },
   "outputs": [
    {
     "data": {
      "text/plain": [
       "<matplotlib.axes._subplots.AxesSubplot at 0x7ff3f3aafdd0>"
      ]
     },
     "execution_count": 33,
     "metadata": {},
     "output_type": "execute_result"
    },
    {
     "data": {
      "image/png": "[encoded data removed]",
      "text/plain": [
       "<Figure size 432x288 with 1 Axes>"
      ]
     },
     "metadata": {},
     "output_type": "display_data"
    }
   ],
   "source": [
    "sns.barplot(df['MPG-H'],df['Price'])"
   ]
  },
  {
   "cell_type": "markdown",
   "execution_count": null,
   "metadata": {
    "papermill": {
     "duration": 0.035751,
     "end_time": "2020-08-22T07:04:33.860422",
     "exception": false,
     "start_time": "2020-08-22T07:04:33.824671",
     "status": "completed"
    },
    "tags": []
   },
   "source": [
    "In this graph (MPG-H VS PRICE) It accomodates the occurence of values far away from the mean  by representing the bigger part of a total ** ...**** DOUCUMENT INSIGHTS OF GRAPH."
   ]
  },
  {
   "cell_type": "code",
   "execution_count": 34,
   "metadata": {
    "execution": {
     "iopub.execute_input": "2020-08-22T07:04:33.941123Z",
     "iopub.status.busy": "2020-08-22T07:04:33.940325Z",
     "iopub.status.idle": "2020-08-22T07:04:35.221001Z",
     "shell.execute_reply": "2020-08-22T07:04:35.220161Z"
    },
    "papermill": {
     "duration": 1.324421,
     "end_time": "2020-08-22T07:04:35.221154",
     "exception": false,
     "start_time": "2020-08-22T07:04:33.896733",
     "status": "completed"
    },
    "tags": []
   },
   "outputs": [
    {
     "data": {
      "text/plain": [
       "<matplotlib.axes._subplots.AxesSubplot at 0x7ff3f3910490>"
      ]
     },
     "execution_count": 34,
     "metadata": {},
     "output_type": "execute_result"
    },
    {
     "data": {
      "image/png": "[encoded data removed]",
      "text/plain": [
       "<Figure size 432x288 with 1 Axes>"
      ]
     },
     "metadata": {},
     "output_type": "display_data"
    }
   ],
   "source": [
    "sns.barplot(df['MPG-C'],df['Price'])"
   ]
  },
  {
   "cell_type": "code",
   "execution_count": 35,
   "metadata": {
    "execution": {
     "iopub.execute_input": "2020-08-22T07:04:35.305055Z",
     "iopub.status.busy": "2020-08-22T07:04:35.303939Z",
     "iopub.status.idle": "2020-08-22T07:04:37.462290Z",
     "shell.execute_reply": "2020-08-22T07:04:37.461521Z"
    },
    "papermill": {
     "duration": 2.203145,
     "end_time": "2020-08-22T07:04:37.462427",
     "exception": false,
     "start_time": "2020-08-22T07:04:35.259282",
     "status": "completed"
    },
    "tags": []
   },
   "outputs": [
    {
     "data": {
      "text/plain": [
       "<matplotlib.axes._subplots.AxesSubplot at 0x7ff3f3ff4890>"
      ]
     },
     "execution_count": 35,
     "metadata": {},
     "output_type": "execute_result"
    },
    {
     "data": {
      "image/png": "[encoded data removed]",
      "text/plain": [
       "<Figure size 432x288 with 1 Axes>"
      ]
     },
     "metadata": {},
     "output_type": "display_data"
    }
   ],
   "source": [
    "sns.barplot(df['Popularity'],df['Price'])"
   ]
  },
  {
   "cell_type": "markdown",
   "execution_count": null,
   "metadata": {
    "papermill": {
     "duration": 0.037184,
     "end_time": "2020-08-22T07:04:37.537998",
     "exception": false,
     "start_time": "2020-08-22T07:04:37.500814",
     "status": "completed"
    },
    "tags": []
   },
   "source": [
    "# OVERALL DOCUMENTING INSIGHTS\n",
    "\n",
    "****# some important  insights..: \n",
    "> # 1. Car price increased after year 2000\n",
    "> # 2. More the no the cylinders, more is the price\n",
    "> # 3. For MPG-H 13, price is maximum and for MPG-H 15, price is lowest.\n",
    "> # 4. For MPG-C 10, price is maximum and for MPG-C 31, price is minimum"
   ]
  },
  {
   "cell_type": "code",
   "execution_count": 36,
   "metadata": {
    "execution": {
     "iopub.execute_input": "2020-08-22T07:04:37.618959Z",
     "iopub.status.busy": "2020-08-22T07:04:37.617999Z",
     "iopub.status.idle": "2020-08-22T07:04:37.995922Z",
     "shell.execute_reply": "2020-08-22T07:04:37.995139Z"
    },
    "papermill": {
     "duration": 0.420732,
     "end_time": "2020-08-22T07:04:37.996058",
     "exception": false,
     "start_time": "2020-08-22T07:04:37.575326",
     "status": "completed"
    },
    "tags": []
   },
   "outputs": [
    {
     "data": {
      "text/plain": [
       "Text(0.5, 0, 'Price')"
      ]
     },
     "execution_count": 36,
     "metadata": {},
     "output_type": "execute_result"
    },
    {
     "data": {
      "image/png": "[encoded data removed]",
      "text/plain": [
       "<Figure size 432x288 with 1 Axes>"
      ]
     },
     "metadata": {},
     "output_type": "display_data"
    }
   ],
   "source": [
    "df['Price'].plot.hist()\n",
    "plt.xlabel('Price', fontsize=12)"
   ]
  },
  {
   "cell_type": "code",
   "execution_count": 37,
   "metadata": {
    "execution": {
     "iopub.execute_input": "2020-08-22T07:04:38.079178Z",
     "iopub.status.busy": "2020-08-22T07:04:38.078009Z",
     "iopub.status.idle": "2020-08-22T07:04:38.460366Z",
     "shell.execute_reply": "2020-08-22T07:04:38.459505Z"
    },
    "papermill": {
     "duration": 0.426289,
     "end_time": "2020-08-22T07:04:38.460541",
     "exception": false,
     "start_time": "2020-08-22T07:04:38.034252",
     "status": "completed"
    },
    "tags": []
   },
   "outputs": [
    {
     "data": {
      "text/plain": [
       "<matplotlib.axes._subplots.AxesSubplot at 0x7ff3f36ab490>"
      ]
     },
     "execution_count": 37,
     "metadata": {},
     "output_type": "execute_result"
    },
    {
     "data": {
      "image/png": "[encoded data removed]",
      "text/plain": [
       "<Figure size 432x288 with 1 Axes>"
      ]
     },
     "metadata": {},
     "output_type": "display_data"
    }
   ],
   "source": [
    "(df['Price'].loc[df['Price']<4.223125e+04 ]).plot.hist()"
   ]
  },
  {
   "cell_type": "code",
   "execution_count": 38,
   "metadata": {
    "execution": {
     "iopub.execute_input": "2020-08-22T07:04:38.544775Z",
     "iopub.status.busy": "2020-08-22T07:04:38.543975Z",
     "iopub.status.idle": "2020-08-22T07:04:38.872313Z",
     "shell.execute_reply": "2020-08-22T07:04:38.871538Z"
    },
    "papermill": {
     "duration": 0.372641,
     "end_time": "2020-08-22T07:04:38.872461",
     "exception": false,
     "start_time": "2020-08-22T07:04:38.499820",
     "status": "completed"
    },
    "tags": []
   },
   "outputs": [
    {
     "data": {
      "text/plain": [
       "Text(0.5, 0, 'Car Year')"
      ]
     },
     "execution_count": 38,
     "metadata": {},
     "output_type": "execute_result"
    },
    {
     "data": {
      "image/png": "[encoded data removed]",
      "text/plain": [
       "<Figure size 432x288 with 1 Axes>"
      ]
     },
     "metadata": {},
     "output_type": "display_data"
    }
   ],
   "source": [
    "df['Year'].plot.hist()\n",
    "plt.xlabel('Car Year', fontsize=12)"
   ]
  },
  {
   "cell_type": "code",
   "execution_count": 39,
   "metadata": {
    "execution": {
     "iopub.execute_input": "2020-08-22T07:04:38.957739Z",
     "iopub.status.busy": "2020-08-22T07:04:38.956493Z",
     "iopub.status.idle": "2020-08-22T07:04:39.340045Z",
     "shell.execute_reply": "2020-08-22T07:04:39.339311Z"
    },
    "papermill": {
     "duration": 0.428446,
     "end_time": "2020-08-22T07:04:39.340174",
     "exception": false,
     "start_time": "2020-08-22T07:04:38.911728",
     "status": "completed"
    },
    "tags": []
   },
   "outputs": [
    {
     "data": {
      "text/plain": [
       "Text(0.5, 0, 'Popularity of the Car')"
      ]
     },
     "execution_count": 39,
     "metadata": {},
     "output_type": "execute_result"
    },
    {
     "data": {
      "image/png": "[encoded data removed]",
      "text/plain": [
       "<Figure size 432x288 with 1 Axes>"
      ]
     },
     "metadata": {},
     "output_type": "display_data"
    }
   ],
   "source": [
    "df['Popularity'].plot.hist()\n",
    "plt.xlabel('Popularity of the Car', fontsize=12)"
   ]
  },
  {
   "cell_type": "code",
   "execution_count": 40,
   "metadata": {
    "execution": {
     "iopub.execute_input": "2020-08-22T07:04:39.431060Z",
     "iopub.status.busy": "2020-08-22T07:04:39.424998Z",
     "iopub.status.idle": "2020-08-22T07:04:39.744184Z",
     "shell.execute_reply": "2020-08-22T07:04:39.743535Z"
    },
    "papermill": {
     "duration": 0.365132,
     "end_time": "2020-08-22T07:04:39.744321",
     "exception": false,
     "start_time": "2020-08-22T07:04:39.379189",
     "status": "completed"
    },
    "tags": []
   },
   "outputs": [
    {
     "data": {
      "image/png": "[encoded data removed]",
      "text/plain": [
       "<Figure size 360x360 with 1 Axes>"
      ]
     },
     "metadata": {},
     "output_type": "display_data"
    }
   ],
   "source": [
    "fig, ax=plt.subplots(figsize=(5,5))\n",
    "ax.scatter(df['Popularity'],df['Price'])\n",
    "plt.title('Scatter between price and popularity')\n",
    "ax.set_xlabel=('Popularity')\n",
    "ax.st_ylabel=('Price')\n",
    "plt.show()\n"
   ]
  },
  {
   "cell_type": "markdown",
   "execution_count": null,
   "metadata": {
    "papermill": {
     "duration": 0.03906,
     "end_time": "2020-08-22T07:04:39.822784",
     "exception": false,
     "start_time": "2020-08-22T07:04:39.783724",
     "status": "completed"
    },
    "tags": []
   },
   "source": [
    "Majority of the popularity lies from 0 to 500 ."
   ]
  },
  {
   "cell_type": "code",
   "execution_count": 41,
   "metadata": {
    "execution": {
     "iopub.execute_input": "2020-08-22T07:04:39.917219Z",
     "iopub.status.busy": "2020-08-22T07:04:39.916103Z",
     "iopub.status.idle": "2020-08-22T07:04:40.239917Z",
     "shell.execute_reply": "2020-08-22T07:04:40.239153Z"
    },
    "papermill": {
     "duration": 0.378046,
     "end_time": "2020-08-22T07:04:40.240050",
     "exception": false,
     "start_time": "2020-08-22T07:04:39.862004",
     "status": "completed"
    },
    "tags": []
   },
   "outputs": [
    {
     "data": {
      "image/png": "[encoded data removed]",
      "text/plain": [
       "<Figure size 360x360 with 1 Axes>"
      ]
     },
     "metadata": {},
     "output_type": "display_data"
    }
   ],
   "source": [
    "fig, ax=plt.subplots(figsize=(5,5))\n",
    "ax.scatter(df['Cylinders'],df['Price'])\n",
    "plt.title('Scatter between price and cylinders')\n",
    "ax.set_xlabel=('Cylinders')\n",
    "ax.st_ylabel=('Price')\n",
    "plt.show()"
   ]
  },
  {
   "cell_type": "markdown",
   "execution_count": null,
   "metadata": {
    "papermill": {
     "duration": 0.040868,
     "end_time": "2020-08-22T07:04:40.321949",
     "exception": false,
     "start_time": "2020-08-22T07:04:40.281081",
     "status": "completed"
    },
    "tags": []
   },
   "source": [
    "Majority are with no of cylinder 4 . "
   ]
  },
  {
   "cell_type": "code",
   "execution_count": 42,
   "metadata": {
    "execution": {
     "iopub.execute_input": "2020-08-22T07:04:40.418752Z",
     "iopub.status.busy": "2020-08-22T07:04:40.417805Z",
     "iopub.status.idle": "2020-08-22T07:04:40.731841Z",
     "shell.execute_reply": "2020-08-22T07:04:40.731078Z"
    },
    "papermill": {
     "duration": 0.36914,
     "end_time": "2020-08-22T07:04:40.731987",
     "exception": false,
     "start_time": "2020-08-22T07:04:40.362847",
     "status": "completed"
    },
    "tags": []
   },
   "outputs": [
    {
     "data": {
      "image/png": "[encoded data removed]",
      "text/plain": [
       "<Figure size 360x360 with 1 Axes>"
      ]
     },
     "metadata": {},
     "output_type": "display_data"
    }
   ],
   "source": [
    "fig, ax=plt.subplots(figsize=(5,5))\n",
    "ax.scatter(df['Cylinders'],df['Price'])\n",
    "plt.title('Scatter between price and cylinders')\n",
    "ax.set_xlabel=('Cylinders')\n",
    "ax.st_ylabel=('Price')\n",
    "plt.show()"
   ]
  },
  {
   "cell_type": "code",
   "execution_count": 43,
   "metadata": {
    "execution": {
     "iopub.execute_input": "2020-08-22T07:04:40.826744Z",
     "iopub.status.busy": "2020-08-22T07:04:40.825782Z",
     "iopub.status.idle": "2020-08-22T07:04:41.129966Z",
     "shell.execute_reply": "2020-08-22T07:04:41.129336Z"
    },
    "papermill": {
     "duration": 0.357517,
     "end_time": "2020-08-22T07:04:41.130152",
     "exception": false,
     "start_time": "2020-08-22T07:04:40.772635",
     "status": "completed"
    },
    "tags": []
   },
   "outputs": [
    {
     "data": {
      "image/png": "[encoded data removed]",
      "text/plain": [
       "<Figure size 360x360 with 1 Axes>"
      ]
     },
     "metadata": {},
     "output_type": "display_data"
    }
   ],
   "source": [
    "fig, ax=plt.subplots(figsize=(5,5))\n",
    "ax.scatter(df['MPG-C'],df['Price'])\n",
    "plt.title('Scatter between MPG-C and Price')\n",
    "ax.set_xlabel=('MPG-C')\n",
    "ax.st_ylabel=('Price')\n",
    "plt.show()"
   ]
  },
  {
   "cell_type": "markdown",
   "execution_count": null,
   "metadata": {
    "papermill": {
     "duration": 0.040349,
     "end_time": "2020-08-22T07:04:41.212369",
     "exception": false,
     "start_time": "2020-08-22T07:04:41.172020",
     "status": "completed"
    },
    "tags": []
   },
   "source": [
    "# step 9 Just Splitting Data set In 80:20 using Pareto principle .\n",
    "\n"
   ]
  },
  {
   "cell_type": "markdown",
   "execution_count": null,
   "metadata": {
    "papermill": {
     "duration": 0.041172,
     "end_time": "2020-08-22T07:04:41.294372",
     "exception": false,
     "start_time": "2020-08-22T07:04:41.253200",
     "status": "completed"
    },
    "tags": []
   },
   "source": [
    "# What Is the Pareto Principle? for splitting \n",
    "\n",
    "\n",
    "> ** The Pareto Principle, named after esteemed economist Vilfredo Pareto, specifies that 80% of consequences come from 20% of the causes, asserting an unequal relationship between inputs and outputs. This principle serves as a general reminder that the relationship between inputs and outputs is not balanced. The Pareto Principle is also known as the Pareto Rule or the 80/20 Rule.****"
   ]
  },
  {
   "cell_type": "markdown",
   "execution_count": null,
   "metadata": {
    "papermill": {
     "duration": 0.040521,
     "end_time": "2020-08-22T07:04:41.375973",
     "exception": false,
     "start_time": "2020-08-22T07:04:41.335452",
     "status": "completed"
    },
    "tags": []
   },
   "source": [
    "# 9.1 To select all numeric types use the numpy dtype numpy.number as the data consist of categorical data . "
   ]
  },
  {
   "cell_type": "code",
   "execution_count": 44,
   "metadata": {
    "execution": {
     "iopub.execute_input": "2020-08-22T07:04:41.480098Z",
     "iopub.status.busy": "2020-08-22T07:04:41.479072Z",
     "iopub.status.idle": "2020-08-22T07:04:41.484380Z",
     "shell.execute_reply": "2020-08-22T07:04:41.483614Z"
    },
    "papermill": {
     "duration": 0.067659,
     "end_time": "2020-08-22T07:04:41.484513",
     "exception": false,
     "start_time": "2020-08-22T07:04:41.416854",
     "status": "completed"
    },
    "tags": []
   },
   "outputs": [
    {
     "data": {
      "text/html": [
       "<div>\n",
       "<style scoped>\n",
       "    .dataframe tbody tr th:only-of-type {\n",
       "        vertical-align: middle;\n",
       "    }\n",
       "\n",
       "    .dataframe tbody tr th {\n",
       "        vertical-align: top;\n",
       "    }\n",
       "\n",
       "    .dataframe thead th {\n",
       "        text-align: right;\n",
       "    }\n",
       "</style>\n",
       "<table border=\"1\" class=\"dataframe\">\n",
       "  <thead>\n",
       "    <tr style=\"text-align: right;\">\n",
       "      <th></th>\n",
       "      <th>Make</th>\n",
       "      <th>Model</th>\n",
       "      <th>Transmission</th>\n",
       "      <th>Drive Mode</th>\n",
       "      <th>Vehicle Size</th>\n",
       "      <th>Vehicle Style</th>\n",
       "    </tr>\n",
       "  </thead>\n",
       "  <tbody>\n",
       "    <tr>\n",
       "      <th>0</th>\n",
       "      <td>BMW</td>\n",
       "      <td>1 Series M</td>\n",
       "      <td>MANUAL</td>\n",
       "      <td>rear wheel drive</td>\n",
       "      <td>Compact</td>\n",
       "      <td>Coupe</td>\n",
       "    </tr>\n",
       "    <tr>\n",
       "      <th>1</th>\n",
       "      <td>BMW</td>\n",
       "      <td>1 Series</td>\n",
       "      <td>MANUAL</td>\n",
       "      <td>rear wheel drive</td>\n",
       "      <td>Compact</td>\n",
       "      <td>Convertible</td>\n",
       "    </tr>\n",
       "    <tr>\n",
       "      <th>2</th>\n",
       "      <td>BMW</td>\n",
       "      <td>1 Series</td>\n",
       "      <td>MANUAL</td>\n",
       "      <td>rear wheel drive</td>\n",
       "      <td>Compact</td>\n",
       "      <td>Coupe</td>\n",
       "    </tr>\n",
       "    <tr>\n",
       "      <th>3</th>\n",
       "      <td>BMW</td>\n",
       "      <td>1 Series</td>\n",
       "      <td>MANUAL</td>\n",
       "      <td>rear wheel drive</td>\n",
       "      <td>Compact</td>\n",
       "      <td>Coupe</td>\n",
       "    </tr>\n",
       "    <tr>\n",
       "      <th>4</th>\n",
       "      <td>BMW</td>\n",
       "      <td>1 Series</td>\n",
       "      <td>MANUAL</td>\n",
       "      <td>rear wheel drive</td>\n",
       "      <td>Compact</td>\n",
       "      <td>Convertible</td>\n",
       "    </tr>\n",
       "    <tr>\n",
       "      <th>...</th>\n",
       "      <td>...</td>\n",
       "      <td>...</td>\n",
       "      <td>...</td>\n",
       "      <td>...</td>\n",
       "      <td>...</td>\n",
       "      <td>...</td>\n",
       "    </tr>\n",
       "    <tr>\n",
       "      <th>11909</th>\n",
       "      <td>Acura</td>\n",
       "      <td>ZDX</td>\n",
       "      <td>AUTOMATIC</td>\n",
       "      <td>all wheel drive</td>\n",
       "      <td>Midsize</td>\n",
       "      <td>4dr Hatchback</td>\n",
       "    </tr>\n",
       "    <tr>\n",
       "      <th>11910</th>\n",
       "      <td>Acura</td>\n",
       "      <td>ZDX</td>\n",
       "      <td>AUTOMATIC</td>\n",
       "      <td>all wheel drive</td>\n",
       "      <td>Midsize</td>\n",
       "      <td>4dr Hatchback</td>\n",
       "    </tr>\n",
       "    <tr>\n",
       "      <th>11911</th>\n",
       "      <td>Acura</td>\n",
       "      <td>ZDX</td>\n",
       "      <td>AUTOMATIC</td>\n",
       "      <td>all wheel drive</td>\n",
       "      <td>Midsize</td>\n",
       "      <td>4dr Hatchback</td>\n",
       "    </tr>\n",
       "    <tr>\n",
       "      <th>11912</th>\n",
       "      <td>Acura</td>\n",
       "      <td>ZDX</td>\n",
       "      <td>AUTOMATIC</td>\n",
       "      <td>all wheel drive</td>\n",
       "      <td>Midsize</td>\n",
       "      <td>4dr Hatchback</td>\n",
       "    </tr>\n",
       "    <tr>\n",
       "      <th>11913</th>\n",
       "      <td>Lincoln</td>\n",
       "      <td>Zephyr</td>\n",
       "      <td>AUTOMATIC</td>\n",
       "      <td>front wheel drive</td>\n",
       "      <td>Midsize</td>\n",
       "      <td>Sedan</td>\n",
       "    </tr>\n",
       "  </tbody>\n",
       "</table>\n",
       "<p>8546 rows × 6 columns</p>\n",
       "</div>"
      ],
      "text/plain": [
       "          Make       Model Transmission         Drive Mode Vehicle Size  \\\n",
       "0          BMW  1 Series M       MANUAL   rear wheel drive      Compact   \n",
       "1          BMW    1 Series       MANUAL   rear wheel drive      Compact   \n",
       "2          BMW    1 Series       MANUAL   rear wheel drive      Compact   \n",
       "3          BMW    1 Series       MANUAL   rear wheel drive      Compact   \n",
       "4          BMW    1 Series       MANUAL   rear wheel drive      Compact   \n",
       "...        ...         ...          ...                ...          ...   \n",
       "11909    Acura         ZDX    AUTOMATIC    all wheel drive      Midsize   \n",
       "11910    Acura         ZDX    AUTOMATIC    all wheel drive      Midsize   \n",
       "11911    Acura         ZDX    AUTOMATIC    all wheel drive      Midsize   \n",
       "11912    Acura         ZDX    AUTOMATIC    all wheel drive      Midsize   \n",
       "11913  Lincoln      Zephyr    AUTOMATIC  front wheel drive      Midsize   \n",
       "\n",
       "       Vehicle Style  \n",
       "0              Coupe  \n",
       "1        Convertible  \n",
       "2              Coupe  \n",
       "3              Coupe  \n",
       "4        Convertible  \n",
       "...              ...  \n",
       "11909  4dr Hatchback  \n",
       "11910  4dr Hatchback  \n",
       "11911  4dr Hatchback  \n",
       "11912  4dr Hatchback  \n",
       "11913          Sedan  \n",
       "\n",
       "[8546 rows x 6 columns]"
      ]
     },
     "execution_count": 44,
     "metadata": {},
     "output_type": "execute_result"
    }
   ],
   "source": [
    "akm = df.select_dtypes(exclude=[np.number]) \n",
    "akm"
   ]
  },
  {
   "cell_type": "markdown",
   "execution_count": null,
   "metadata": {
    "papermill": {
     "duration": 0.04061,
     "end_time": "2020-08-22T07:04:41.566012",
     "exception": false,
     "start_time": "2020-08-22T07:04:41.525402",
     "status": "completed"
    },
    "tags": []
   },
   "source": [
    "> It can also be used to transform non-numerical labels (as long as they are hashable and comparable) to numerical labels9.2 Encode target labels with value between 0 and n_classes-1.\n",
    "> \n",
    "# This transformer should be used to encode target values, i.e. y, and not the input X.  It can also be used to transform non-numerical labels (as long as they are hashable and comparable) to numerical labels"
   ]
  },
  {
   "cell_type": "code",
   "execution_count": 45,
   "metadata": {
    "execution": {
     "iopub.execute_input": "2020-08-22T07:04:41.674499Z",
     "iopub.status.busy": "2020-08-22T07:04:41.665389Z",
     "iopub.status.idle": "2020-08-22T07:04:41.704766Z",
     "shell.execute_reply": "2020-08-22T07:04:41.704120Z"
    },
    "papermill": {
     "duration": 0.097797,
     "end_time": "2020-08-22T07:04:41.704897",
     "exception": false,
     "start_time": "2020-08-22T07:04:41.607100",
     "status": "completed"
    },
    "tags": []
   },
   "outputs": [
    {
     "name": "stdout",
     "output_type": "stream",
     "text": [
      "Label Encoded Data\n"
     ]
    },
    {
     "data": {
      "text/html": [
       "<div>\n",
       "<style scoped>\n",
       "    .dataframe tbody tr th:only-of-type {\n",
       "        vertical-align: middle;\n",
       "    }\n",
       "\n",
       "    .dataframe tbody tr th {\n",
       "        vertical-align: top;\n",
       "    }\n",
       "\n",
       "    .dataframe thead th {\n",
       "        text-align: right;\n",
       "    }\n",
       "</style>\n",
       "<table border=\"1\" class=\"dataframe\">\n",
       "  <thead>\n",
       "    <tr style=\"text-align: right;\">\n",
       "      <th></th>\n",
       "      <th>Make</th>\n",
       "      <th>Model</th>\n",
       "      <th>Year</th>\n",
       "      <th>HP</th>\n",
       "      <th>Cylinders</th>\n",
       "      <th>Transmission</th>\n",
       "      <th>Drive Mode</th>\n",
       "      <th>Vehicle Size</th>\n",
       "      <th>Vehicle Style</th>\n",
       "      <th>MPG-H</th>\n",
       "      <th>MPG-C</th>\n",
       "      <th>Popularity</th>\n",
       "      <th>Price</th>\n",
       "    </tr>\n",
       "  </thead>\n",
       "  <tbody>\n",
       "    <tr>\n",
       "      <th>0</th>\n",
       "      <td>3</td>\n",
       "      <td>1</td>\n",
       "      <td>2011</td>\n",
       "      <td>335.0</td>\n",
       "      <td>6.0</td>\n",
       "      <td>2</td>\n",
       "      <td>3</td>\n",
       "      <td>0</td>\n",
       "      <td>8</td>\n",
       "      <td>26</td>\n",
       "      <td>19</td>\n",
       "      <td>3916</td>\n",
       "      <td>46135</td>\n",
       "    </tr>\n",
       "    <tr>\n",
       "      <th>1</th>\n",
       "      <td>3</td>\n",
       "      <td>0</td>\n",
       "      <td>2011</td>\n",
       "      <td>300.0</td>\n",
       "      <td>6.0</td>\n",
       "      <td>2</td>\n",
       "      <td>3</td>\n",
       "      <td>0</td>\n",
       "      <td>6</td>\n",
       "      <td>28</td>\n",
       "      <td>19</td>\n",
       "      <td>3916</td>\n",
       "      <td>40650</td>\n",
       "    </tr>\n",
       "    <tr>\n",
       "      <th>2</th>\n",
       "      <td>3</td>\n",
       "      <td>0</td>\n",
       "      <td>2011</td>\n",
       "      <td>300.0</td>\n",
       "      <td>6.0</td>\n",
       "      <td>2</td>\n",
       "      <td>3</td>\n",
       "      <td>0</td>\n",
       "      <td>8</td>\n",
       "      <td>28</td>\n",
       "      <td>20</td>\n",
       "      <td>3916</td>\n",
       "      <td>36350</td>\n",
       "    </tr>\n",
       "    <tr>\n",
       "      <th>3</th>\n",
       "      <td>3</td>\n",
       "      <td>0</td>\n",
       "      <td>2011</td>\n",
       "      <td>230.0</td>\n",
       "      <td>6.0</td>\n",
       "      <td>2</td>\n",
       "      <td>3</td>\n",
       "      <td>0</td>\n",
       "      <td>8</td>\n",
       "      <td>28</td>\n",
       "      <td>18</td>\n",
       "      <td>3916</td>\n",
       "      <td>29450</td>\n",
       "    </tr>\n",
       "    <tr>\n",
       "      <th>4</th>\n",
       "      <td>3</td>\n",
       "      <td>0</td>\n",
       "      <td>2011</td>\n",
       "      <td>230.0</td>\n",
       "      <td>6.0</td>\n",
       "      <td>2</td>\n",
       "      <td>3</td>\n",
       "      <td>0</td>\n",
       "      <td>6</td>\n",
       "      <td>28</td>\n",
       "      <td>18</td>\n",
       "      <td>3916</td>\n",
       "      <td>34500</td>\n",
       "    </tr>\n",
       "  </tbody>\n",
       "</table>\n",
       "</div>"
      ],
      "text/plain": [
       "   Make  Model  Year     HP  Cylinders  Transmission  Drive Mode  \\\n",
       "0     3      1  2011  335.0        6.0             2           3   \n",
       "1     3      0  2011  300.0        6.0             2           3   \n",
       "2     3      0  2011  300.0        6.0             2           3   \n",
       "3     3      0  2011  230.0        6.0             2           3   \n",
       "4     3      0  2011  230.0        6.0             2           3   \n",
       "\n",
       "   Vehicle Size  Vehicle Style  MPG-H  MPG-C  Popularity  Price  \n",
       "0             0              8     26     19        3916  46135  \n",
       "1             0              6     28     19        3916  40650  \n",
       "2             0              8     28     20        3916  36350  \n",
       "3             0              8     28     18        3916  29450  \n",
       "4             0              6     28     18        3916  34500  "
      ]
     },
     "execution_count": 45,
     "metadata": {},
     "output_type": "execute_result"
    }
   ],
   "source": [
    "from sklearn.preprocessing import LabelEncoder\n",
    "label_enc = LabelEncoder()\n",
    "for i in akm:\n",
    "  df[i] = label_enc.fit_transform(df[i])\n",
    "print('Label Encoded Data')\n",
    "df.head()"
   ]
  },
  {
   "cell_type": "markdown",
   "execution_count": null,
   "metadata": {
    "papermill": {
     "duration": 0.041142,
     "end_time": "2020-08-22T07:04:41.787433",
     "exception": false,
     "start_time": "2020-08-22T07:04:41.746291",
     "status": "completed"
    },
    "tags": []
   },
   "source": [
    "# 9.3 PREPROCESSSING THE DATA BEFORE SPLITTING"
   ]
  },
  {
   "cell_type": "markdown",
   "execution_count": null,
   "metadata": {
    "papermill": {
     "duration": 0.041397,
     "end_time": "2020-08-22T07:04:41.870615",
     "exception": false,
     "start_time": "2020-08-22T07:04:41.829218",
     "status": "completed"
    },
    "tags": []
   },
   "source": [
    "> Need of Data Preprocessing\n",
    "> • For achieving better results from the applied model in Machine Learning projects the format of the data has to be in a proper manner. Some specified Machine Learning model needs information in a specified format, for example, Random Forest algorithm does not support null values, therefore to execute random forest algorithm null values have to be managed from the original raw data set.\n",
    "> > • Another aspect is that data set should be formatted in such a way that more than one Machine Learning and Deep Learning algorithms are executed in one data set, and best out of them is chosen."
   ]
  },
  {
   "cell_type": "code",
   "execution_count": 46,
   "metadata": {
    "execution": {
     "iopub.execute_input": "2020-08-22T07:04:41.961274Z",
     "iopub.status.busy": "2020-08-22T07:04:41.960364Z",
     "iopub.status.idle": "2020-08-22T07:04:42.051058Z",
     "shell.execute_reply": "2020-08-22T07:04:42.050211Z"
    },
    "papermill": {
     "duration": 0.138909,
     "end_time": "2020-08-22T07:04:42.051202",
     "exception": false,
     "start_time": "2020-08-22T07:04:41.912293",
     "status": "completed"
    },
    "tags": []
   },
   "outputs": [
    {
     "ename": "NameError",
     "evalue": "name 'dcode' is not defined",
     "output_type": "error",
     "traceback": [
      "\u001b[0;31m---------------------------------------------------------------------------\u001b[0m",
      "\u001b[0;31mNameError\u001b[0m                                 Traceback (most recent call last)",
      "\u001b[0;32m<ipython-input-46-1d73fcf0a3a5>\u001b[0m in \u001b[0;36m<module>\u001b[0;34m\u001b[0m\n\u001b[1;32m      1\u001b[0m \u001b[0;32mfrom\u001b[0m \u001b[0msklearn\u001b[0m \u001b[0;32mimport\u001b[0m \u001b[0mpreprocessing\u001b[0m\u001b[0;34m\u001b[0m\u001b[0;34m\u001b[0m\u001b[0m\n\u001b[0;32m----> 2\u001b[0;31m \u001b[0mX\u001b[0m \u001b[0;34m=\u001b[0m \u001b[0mnp\u001b[0m\u001b[0;34m.\u001b[0m\u001b[0masarray\u001b[0m\u001b[0;34m(\u001b[0m\u001b[0mdcode\u001b[0m\u001b[0;34m[\u001b[0m\u001b[0;34m[\u001b[0m\u001b[0;34m'Make'\u001b[0m\u001b[0;34m,\u001b[0m \u001b[0;34m'Model'\u001b[0m\u001b[0;34m,\u001b[0m \u001b[0;34m'Transmission'\u001b[0m\u001b[0;34m,\u001b[0m \u001b[0;34m'Drive Mode'\u001b[0m\u001b[0;34m,\u001b[0m\u001b[0;34m'Vehicle Size'\u001b[0m\u001b[0;34m,\u001b[0m\u001b[0;34m'Vehicle Style'\u001b[0m\u001b[0;34m]\u001b[0m\u001b[0;34m]\u001b[0m\u001b[0;34m)\u001b[0m\u001b[0;34m\u001b[0m\u001b[0;34m\u001b[0m\u001b[0m\n\u001b[0m\u001b[1;32m      3\u001b[0m \u001b[0my\u001b[0m \u001b[0;34m=\u001b[0m \u001b[0mnp\u001b[0m\u001b[0;34m.\u001b[0m\u001b[0masarray\u001b[0m\u001b[0;34m(\u001b[0m\u001b[0mdcode\u001b[0m\u001b[0;34m[\u001b[0m\u001b[0;34m'Price'\u001b[0m\u001b[0;34m]\u001b[0m\u001b[0;34m)\u001b[0m\u001b[0;34m\u001b[0m\u001b[0;34m\u001b[0m\u001b[0m\n\u001b[1;32m      4\u001b[0m \u001b[0mX\u001b[0m \u001b[0;34m=\u001b[0m \u001b[0mpreprocessing\u001b[0m\u001b[0;34m.\u001b[0m\u001b[0mStandardScaler\u001b[0m\u001b[0;34m(\u001b[0m\u001b[0;34m)\u001b[0m\u001b[0;34m.\u001b[0m\u001b[0mfit\u001b[0m\u001b[0;34m(\u001b[0m\u001b[0mX\u001b[0m\u001b[0;34m)\u001b[0m\u001b[0;34m.\u001b[0m\u001b[0mtransform\u001b[0m\u001b[0;34m(\u001b[0m\u001b[0mX\u001b[0m\u001b[0;34m)\u001b[0m\u001b[0;34m\u001b[0m\u001b[0;34m\u001b[0m\u001b[0m\n",
      "\u001b[0;31mNameError\u001b[0m: name 'dcode' is not defined"
     ]
    }
   ],
   "source": [
    "from sklearn import preprocessing\n",
    "X = np.asarray(dcode[['Make', 'Model', 'Transmission', 'Drive Mode','Vehicle Size','Vehicle Style']])\n",
    "y = np.asarray(dcode['Price'])\n",
    "X = preprocessing.StandardScaler().fit(X).transform(X)"
   ]
  },
  {
   "cell_type": "markdown",
   "execution_count": null,
   "metadata": {
    "papermill": {
     "duration": 0.042361,
     "end_time": "2020-08-22T07:04:42.138294",
     "exception": false,
     "start_time": "2020-08-22T07:04:42.095933",
     "status": "completed"
    },
    "tags": []
   },
   "source": [
    "# 9.4 SPLITTING OF DATA FOR BUILDING MODELS"
   ]
  },
  {
   "cell_type": "markdown",
   "execution_count": null,
   "metadata": {
    "papermill": {
     "duration": 0.042145,
     "end_time": "2020-08-22T07:04:42.223078",
     "exception": false,
     "start_time": "2020-08-22T07:04:42.180933",
     "status": "completed"
    },
    "tags": []
   },
   "source": [
    "Make sure that your test set meets the following two conditions:\n",
    "\n",
    "Is large enough to yield statistically meaningful results.\n",
    "Is representative of the data set as a whole. In other words, don't pick a test set with different characteristics than the training set.\n",
    "Assuming that your test set meets the preceding two conditions, your goal is to create a model that generalizes well to new data. Our test set serves as a proxy for new data. For example, consider the following figure. Notice that the model learned for the training data is very simple. This model doesn't do a perfect job—a few predictions are wrong. However, this model does about as well on the test data as it does on the training data. In other words, this simple model does not overfit the training data.\n",
    "\n"
   ]
  },
  {
   "cell_type": "code",
   "execution_count": 47,
   "metadata": {
    "execution": {
     "iopub.execute_input": "2020-08-22T07:04:42.326151Z",
     "iopub.status.busy": "2020-08-22T07:04:42.324882Z",
     "iopub.status.idle": "2020-08-22T07:04:42.330546Z",
     "shell.execute_reply": "2020-08-22T07:04:42.329748Z"
    },
    "papermill": {
     "duration": 0.065422,
     "end_time": "2020-08-22T07:04:42.330676",
     "exception": false,
     "start_time": "2020-08-22T07:04:42.265254",
     "status": "completed"
    },
    "tags": []
   },
   "outputs": [
    {
     "ename": "NameError",
     "evalue": "name 'X' is not defined",
     "output_type": "error",
     "traceback": [
      "\u001b[0;31m---------------------------------------------------------------------------\u001b[0m",
      "\u001b[0;31mNameError\u001b[0m                                 Traceback (most recent call last)",
      "\u001b[0;32m<ipython-input-47-ce1bd191eead>\u001b[0m in \u001b[0;36m<module>\u001b[0;34m\u001b[0m\n\u001b[1;32m      1\u001b[0m \u001b[0;32mfrom\u001b[0m \u001b[0msklearn\u001b[0m\u001b[0;34m.\u001b[0m\u001b[0mmodel_selection\u001b[0m \u001b[0;32mimport\u001b[0m \u001b[0mtrain_test_split\u001b[0m\u001b[0;34m\u001b[0m\u001b[0;34m\u001b[0m\u001b[0m\n\u001b[0;32m----> 2\u001b[0;31m \u001b[0mX_train\u001b[0m\u001b[0;34m,\u001b[0m \u001b[0mX_test\u001b[0m\u001b[0;34m,\u001b[0m \u001b[0my_train\u001b[0m\u001b[0;34m,\u001b[0m \u001b[0my_test\u001b[0m \u001b[0;34m=\u001b[0m \u001b[0mtrain_test_split\u001b[0m\u001b[0;34m(\u001b[0m \u001b[0mX\u001b[0m\u001b[0;34m,\u001b[0m \u001b[0my\u001b[0m\u001b[0;34m,\u001b[0m \u001b[0mtest_size\u001b[0m\u001b[0;34m=\u001b[0m\u001b[0;36m0.2\u001b[0m\u001b[0;34m,\u001b[0m \u001b[0mrandom_state\u001b[0m\u001b[0;34m=\u001b[0m\u001b[0;36m44\u001b[0m\u001b[0;34m)\u001b[0m\u001b[0;34m\u001b[0m\u001b[0;34m\u001b[0m\u001b[0m\n\u001b[0m\u001b[1;32m      3\u001b[0m \u001b[0mprint\u001b[0m\u001b[0;34m(\u001b[0m\u001b[0mX_train\u001b[0m\u001b[0;34m.\u001b[0m\u001b[0mshape\u001b[0m\u001b[0;34m,\u001b[0m \u001b[0my_train\u001b[0m\u001b[0;34m.\u001b[0m\u001b[0mshape\u001b[0m\u001b[0;34m)\u001b[0m\u001b[0;34m\u001b[0m\u001b[0;34m\u001b[0m\u001b[0m\n\u001b[1;32m      4\u001b[0m \u001b[0mprint\u001b[0m\u001b[0;34m(\u001b[0m\u001b[0mX_test\u001b[0m\u001b[0;34m.\u001b[0m\u001b[0mshape\u001b[0m\u001b[0;34m,\u001b[0m \u001b[0my_test\u001b[0m\u001b[0;34m.\u001b[0m\u001b[0mshape\u001b[0m\u001b[0;34m)\u001b[0m\u001b[0;34m\u001b[0m\u001b[0;34m\u001b[0m\u001b[0m\n",
      "\u001b[0;31mNameError\u001b[0m: name 'X' is not defined"
     ]
    }
   ],
   "source": [
    "from sklearn.model_selection import train_test_split\n",
    "X_train, X_test, y_train, y_test = train_test_split( X, y, test_size=0.2, random_state=44)\n",
    "print(X_train.shape, y_train.shape)\n",
    "print(X_test.shape, y_test.shape)"
   ]
  },
  {
   "cell_type": "markdown",
   "execution_count": null,
   "metadata": {
    "papermill": {
     "duration": 0.041653,
     "end_time": "2020-08-22T07:04:42.414539",
     "exception": false,
     "start_time": "2020-08-22T07:04:42.372886",
     "status": "completed"
    },
    "tags": []
   },
   "source": [
    "# 9.4 LINEAR REGRESSION MODEL WITH PRICE AS A TARGET VARIABLE "
   ]
  },
  {
   "cell_type": "markdown",
   "execution_count": null,
   "metadata": {
    "papermill": {
     "duration": 0.041591,
     "end_time": "2020-08-22T07:04:42.498069",
     "exception": false,
     "start_time": "2020-08-22T07:04:42.456478",
     "status": "completed"
    },
    "tags": []
   },
   "source": [
    "> \n",
    "> • Our algorithm should be helping us to draw a\n",
    "> regression line to predict the cities which can provide\n",
    "> the best profitability\n",
    "> • We will use scikitlearn’s Linear Regression to train our\n",
    "> model on both the training and test"
   ]
  },
  {
   "cell_type": "code",
   "execution_count": 48,
   "metadata": {
    "execution": {
     "iopub.execute_input": "2020-08-22T07:04:42.600871Z",
     "iopub.status.busy": "2020-08-22T07:04:42.599360Z",
     "iopub.status.idle": "2020-08-22T07:04:42.606627Z",
     "shell.execute_reply": "2020-08-22T07:04:42.605802Z"
    },
    "papermill": {
     "duration": 0.066276,
     "end_time": "2020-08-22T07:04:42.606763",
     "exception": false,
     "start_time": "2020-08-22T07:04:42.540487",
     "status": "completed"
    },
    "tags": []
   },
   "outputs": [
    {
     "ename": "NameError",
     "evalue": "name 'X_train' is not defined",
     "output_type": "error",
     "traceback": [
      "\u001b[0;31m---------------------------------------------------------------------------\u001b[0m",
      "\u001b[0;31mNameError\u001b[0m                                 Traceback (most recent call last)",
      "\u001b[0;32m<ipython-input-48-dd8f56f256db>\u001b[0m in \u001b[0;36m<module>\u001b[0;34m\u001b[0m\n\u001b[1;32m      1\u001b[0m \u001b[0;32mfrom\u001b[0m \u001b[0msklearn\u001b[0m \u001b[0;32mimport\u001b[0m \u001b[0mlinear_model\u001b[0m\u001b[0;34m\u001b[0m\u001b[0;34m\u001b[0m\u001b[0m\n\u001b[1;32m      2\u001b[0m \u001b[0mlm\u001b[0m \u001b[0;34m=\u001b[0m \u001b[0mlinear_model\u001b[0m\u001b[0;34m.\u001b[0m\u001b[0mLinearRegression\u001b[0m\u001b[0;34m(\u001b[0m\u001b[0;34m)\u001b[0m\u001b[0;34m\u001b[0m\u001b[0;34m\u001b[0m\u001b[0m\n\u001b[0;32m----> 3\u001b[0;31m \u001b[0mmodel\u001b[0m \u001b[0;34m=\u001b[0m \u001b[0mlm\u001b[0m\u001b[0;34m.\u001b[0m\u001b[0mfit\u001b[0m\u001b[0;34m(\u001b[0m\u001b[0mX_train\u001b[0m\u001b[0;34m,\u001b[0m\u001b[0my_train\u001b[0m\u001b[0;34m)\u001b[0m\u001b[0;34m\u001b[0m\u001b[0;34m\u001b[0m\u001b[0m\n\u001b[0m\u001b[1;32m      4\u001b[0m \u001b[0mpredictions\u001b[0m \u001b[0;34m=\u001b[0m \u001b[0mlm\u001b[0m\u001b[0;34m.\u001b[0m\u001b[0mpredict\u001b[0m\u001b[0;34m(\u001b[0m\u001b[0mX_test\u001b[0m\u001b[0;34m)\u001b[0m\u001b[0;34m\u001b[0m\u001b[0;34m\u001b[0m\u001b[0m\n",
      "\u001b[0;31mNameError\u001b[0m: name 'X_train' is not defined"
     ]
    }
   ],
   "source": [
    "from sklearn import linear_model\n",
    "lm = linear_model.LinearRegression()\n",
    "model = lm.fit(X_train,y_train)\n",
    "predictions = lm.predict(X_test)"
   ]
  },
  {
   "cell_type": "code",
   "execution_count": 49,
   "metadata": {
    "execution": {
     "iopub.execute_input": "2020-08-22T07:04:42.710589Z",
     "iopub.status.busy": "2020-08-22T07:04:42.709553Z",
     "iopub.status.idle": "2020-08-22T07:04:42.715637Z",
     "shell.execute_reply": "2020-08-22T07:04:42.714807Z"
    },
    "papermill": {
     "duration": 0.066159,
     "end_time": "2020-08-22T07:04:42.715771",
     "exception": false,
     "start_time": "2020-08-22T07:04:42.649612",
     "status": "completed"
    },
    "tags": []
   },
   "outputs": [
    {
     "ename": "NameError",
     "evalue": "name 'X_train' is not defined",
     "output_type": "error",
     "traceback": [
      "\u001b[0;31m---------------------------------------------------------------------------\u001b[0m",
      "\u001b[0;31mNameError\u001b[0m                                 Traceback (most recent call last)",
      "\u001b[0;32m<ipython-input-49-97531097809c>\u001b[0m in \u001b[0;36m<module>\u001b[0;34m\u001b[0m\n\u001b[1;32m      1\u001b[0m \u001b[0;32mfrom\u001b[0m \u001b[0msklearn\u001b[0m\u001b[0;34m.\u001b[0m\u001b[0mlinear_model\u001b[0m \u001b[0;32mimport\u001b[0m \u001b[0mLinearRegression\u001b[0m\u001b[0;34m\u001b[0m\u001b[0;34m\u001b[0m\u001b[0m\n\u001b[0;32m----> 2\u001b[0;31m \u001b[0mmodel\u001b[0m \u001b[0;34m=\u001b[0m \u001b[0mLinearRegression\u001b[0m\u001b[0;34m(\u001b[0m\u001b[0;34m)\u001b[0m\u001b[0;34m.\u001b[0m\u001b[0mfit\u001b[0m\u001b[0;34m(\u001b[0m\u001b[0mX_train\u001b[0m\u001b[0;34m,\u001b[0m\u001b[0my_train\u001b[0m\u001b[0;34m)\u001b[0m\u001b[0;34m\u001b[0m\u001b[0;34m\u001b[0m\u001b[0m\n\u001b[0m\u001b[1;32m      3\u001b[0m \u001b[0my_pred\u001b[0m \u001b[0;34m=\u001b[0m \u001b[0mmodel\u001b[0m\u001b[0;34m.\u001b[0m\u001b[0mpredict\u001b[0m\u001b[0;34m(\u001b[0m\u001b[0mX_test\u001b[0m\u001b[0;34m)\u001b[0m\u001b[0;34m\u001b[0m\u001b[0;34m\u001b[0m\u001b[0m\n\u001b[1;32m      4\u001b[0m \u001b[0mmodel\u001b[0m\u001b[0;34m.\u001b[0m\u001b[0mscore\u001b[0m\u001b[0;34m(\u001b[0m\u001b[0mX_test\u001b[0m\u001b[0;34m,\u001b[0m\u001b[0my_pred\u001b[0m\u001b[0;34m)\u001b[0m\u001b[0;34m\u001b[0m\u001b[0;34m\u001b[0m\u001b[0m\n",
      "\u001b[0;31mNameError\u001b[0m: name 'X_train' is not defined"
     ]
    }
   ],
   "source": [
    "from sklearn.linear_model import LinearRegression\n",
    "model = LinearRegression().fit(X_train,y_train)\n",
    "y_pred = model.predict(X_test)\n",
    "model.score(X_test,y_pred)"
   ]
  },
  {
   "cell_type": "markdown",
   "execution_count": null,
   "metadata": {
    "papermill": {
     "duration": 0.042892,
     "end_time": "2020-08-22T07:04:42.801259",
     "exception": false,
     "start_time": "2020-08-22T07:04:42.758367",
     "status": "completed"
    },
    "tags": []
   },
   "source": [
    "# AFTER FITTING THE MODEL"
   ]
  },
  {
   "cell_type": "code",
   "execution_count": 50,
   "metadata": {
    "execution": {
     "iopub.execute_input": "2020-08-22T07:04:42.893929Z",
     "iopub.status.busy": "2020-08-22T07:04:42.893148Z",
     "iopub.status.idle": "2020-08-22T07:04:43.018230Z",
     "shell.execute_reply": "2020-08-22T07:04:43.017333Z"
    },
    "papermill": {
     "duration": 0.174664,
     "end_time": "2020-08-22T07:04:43.018391",
     "exception": false,
     "start_time": "2020-08-22T07:04:42.843727",
     "status": "completed"
    },
    "tags": []
   },
   "outputs": [
    {
     "ename": "NameError",
     "evalue": "name 'X_train' is not defined",
     "output_type": "error",
     "traceback": [
      "\u001b[0;31m---------------------------------------------------------------------------\u001b[0m",
      "\u001b[0;31mNameError\u001b[0m                                 Traceback (most recent call last)",
      "\u001b[0;32m<ipython-input-50-be5e89102447>\u001b[0m in \u001b[0;36m<module>\u001b[0;34m\u001b[0m\n\u001b[1;32m      2\u001b[0m \u001b[0;32mfrom\u001b[0m \u001b[0msklearn\u001b[0m\u001b[0;34m.\u001b[0m\u001b[0mmetrics\u001b[0m \u001b[0;32mimport\u001b[0m \u001b[0maccuracy_score\u001b[0m\u001b[0;34m,\u001b[0m \u001b[0mconfusion_matrix\u001b[0m\u001b[0;34m,\u001b[0m \u001b[0mclassification_report\u001b[0m\u001b[0;34m\u001b[0m\u001b[0;34m\u001b[0m\u001b[0m\n\u001b[1;32m      3\u001b[0m \u001b[0md_m\u001b[0m \u001b[0;34m=\u001b[0m \u001b[0mDecisionTreeClassifier\u001b[0m\u001b[0;34m(\u001b[0m\u001b[0mrandom_state\u001b[0m \u001b[0;34m=\u001b[0m \u001b[0;36m0\u001b[0m\u001b[0;34m)\u001b[0m\u001b[0;34m\u001b[0m\u001b[0;34m\u001b[0m\u001b[0m\n\u001b[0;32m----> 4\u001b[0;31m \u001b[0md_m\u001b[0m\u001b[0;34m.\u001b[0m\u001b[0mfit\u001b[0m\u001b[0;34m(\u001b[0m\u001b[0mX_train\u001b[0m\u001b[0;34m,\u001b[0m\u001b[0my_train\u001b[0m\u001b[0;34m)\u001b[0m\u001b[0;34m\u001b[0m\u001b[0;34m\u001b[0m\u001b[0m\n\u001b[0m\u001b[1;32m      5\u001b[0m \u001b[0my_pred\u001b[0m \u001b[0;34m=\u001b[0m \u001b[0md_m\u001b[0m\u001b[0;34m.\u001b[0m\u001b[0mpredict\u001b[0m\u001b[0;34m(\u001b[0m\u001b[0mX_test\u001b[0m\u001b[0;34m)\u001b[0m\u001b[0;34m\u001b[0m\u001b[0;34m\u001b[0m\u001b[0m\n\u001b[1;32m      6\u001b[0m \u001b[0mprint\u001b[0m\u001b[0;34m(\u001b[0m\u001b[0;34m\"Confusion Matrix:\\n\\n\"\u001b[0m\u001b[0;34m,\u001b[0m \u001b[0mconfusion_matrix\u001b[0m\u001b[0;34m(\u001b[0m\u001b[0my_test\u001b[0m\u001b[0;34m,\u001b[0m \u001b[0my_pred\u001b[0m\u001b[0;34m)\u001b[0m\u001b[0;34m)\u001b[0m\u001b[0;34m\u001b[0m\u001b[0;34m\u001b[0m\u001b[0m\n",
      "\u001b[0;31mNameError\u001b[0m: name 'X_train' is not defined"
     ]
    }
   ],
   "source": [
    "from sklearn.tree import DecisionTreeClassifier \n",
    "from sklearn.metrics import accuracy_score, confusion_matrix, classification_report \n",
    "d_m = DecisionTreeClassifier(random_state = 0)\n",
    "d_m.fit(X_train,y_train)\n",
    "y_pred = d_m.predict(X_test)\n",
    "print(\"Confusion Matrix:\\n\\n\", confusion_matrix(y_test, y_pred)) \n",
    "print (\"\\nAccuracy : \", accuracy_score(y_test,y_pred)*100)"
   ]
  },
  {
   "cell_type": "markdown",
   "execution_count": null,
   "metadata": {
    "papermill": {
     "duration": 0.043137,
     "end_time": "2020-08-22T07:04:43.105602",
     "exception": false,
     "start_time": "2020-08-22T07:04:43.062465",
     "status": "completed"
    },
    "tags": []
   },
   "source": [
    "> After fitting the model, you can play it in the folowing ways:"
   ]
  },
  {
   "cell_type": "markdown",
   "execution_count": null,
   "metadata": {
    "papermill": {
     "duration": 0.043614,
     "end_time": "2020-08-22T07:04:43.192664",
     "exception": false,
     "start_time": "2020-08-22T07:04:43.149050",
     "status": "completed"
    },
    "tags": []
   },
   "source": [
    "# Get the coefficients, beta"
   ]
  },
  {
   "cell_type": "code",
   "execution_count": 51,
   "metadata": {
    "execution": {
     "iopub.execute_input": "2020-08-22T07:04:43.294687Z",
     "iopub.status.busy": "2020-08-22T07:04:43.293658Z",
     "iopub.status.idle": "2020-08-22T07:04:43.299228Z",
     "shell.execute_reply": "2020-08-22T07:04:43.298620Z"
    },
    "papermill": {
     "duration": 0.063699,
     "end_time": "2020-08-22T07:04:43.299370",
     "exception": false,
     "start_time": "2020-08-22T07:04:43.235671",
     "status": "completed"
    },
    "tags": []
   },
   "outputs": [
    {
     "ename": "NameError",
     "evalue": "name 'model' is not defined",
     "output_type": "error",
     "traceback": [
      "\u001b[0;31m---------------------------------------------------------------------------\u001b[0m",
      "\u001b[0;31mNameError\u001b[0m                                 Traceback (most recent call last)",
      "\u001b[0;32m<ipython-input-51-4650e3f7c16c>\u001b[0m in \u001b[0;36m<module>\u001b[0;34m\u001b[0m\n\u001b[0;32m----> 1\u001b[0;31m \u001b[0mmodel\u001b[0m\u001b[0;34m.\u001b[0m\u001b[0mcoef_\u001b[0m\u001b[0;34m\u001b[0m\u001b[0;34m\u001b[0m\u001b[0m\n\u001b[0m",
      "\u001b[0;31mNameError\u001b[0m: name 'model' is not defined"
     ]
    }
   ],
   "source": [
    "model.coef_"
   ]
  },
  {
   "cell_type": "markdown",
   "execution_count": null,
   "metadata": {
    "papermill": {
     "duration": 0.042688,
     "end_time": "2020-08-22T07:04:43.385962",
     "exception": false,
     "start_time": "2020-08-22T07:04:43.343274",
     "status": "completed"
    },
    "tags": []
   },
   "source": [
    "# Get the intercept, c"
   ]
  },
  {
   "cell_type": "code",
   "execution_count": 52,
   "metadata": {
    "execution": {
     "iopub.execute_input": "2020-08-22T07:04:43.486402Z",
     "iopub.status.busy": "2020-08-22T07:04:43.485221Z",
     "iopub.status.idle": "2020-08-22T07:04:43.490344Z",
     "shell.execute_reply": "2020-08-22T07:04:43.489536Z"
    },
    "papermill": {
     "duration": 0.062115,
     "end_time": "2020-08-22T07:04:43.490489",
     "exception": false,
     "start_time": "2020-08-22T07:04:43.428374",
     "status": "completed"
    },
    "tags": []
   },
   "outputs": [
    {
     "ename": "NameError",
     "evalue": "name 'model' is not defined",
     "output_type": "error",
     "traceback": [
      "\u001b[0;31m---------------------------------------------------------------------------\u001b[0m",
      "\u001b[0;31mNameError\u001b[0m                                 Traceback (most recent call last)",
      "\u001b[0;32m<ipython-input-52-031264c44f4d>\u001b[0m in \u001b[0;36m<module>\u001b[0;34m\u001b[0m\n\u001b[0;32m----> 1\u001b[0;31m \u001b[0mmodel\u001b[0m\u001b[0;34m.\u001b[0m\u001b[0mintercept_\u001b[0m\u001b[0;34m\u001b[0m\u001b[0;34m\u001b[0m\u001b[0m\n\u001b[0m",
      "\u001b[0;31mNameError\u001b[0m: name 'model' is not defined"
     ]
    }
   ],
   "source": [
    "model.intercept_ "
   ]
  },
  {
   "cell_type": "markdown",
   "execution_count": null,
   "metadata": {
    "papermill": {
     "duration": 0.042522,
     "end_time": "2020-08-22T07:04:43.575825",
     "exception": false,
     "start_time": "2020-08-22T07:04:43.533303",
     "status": "completed"
    },
    "tags": []
   },
   "source": [
    "# Predict unknown data"
   ]
  },
  {
   "cell_type": "code",
   "execution_count": 53,
   "metadata": {
    "execution": {
     "iopub.execute_input": "2020-08-22T07:04:43.678212Z",
     "iopub.status.busy": "2020-08-22T07:04:43.677343Z",
     "iopub.status.idle": "2020-08-22T07:04:43.682179Z",
     "shell.execute_reply": "2020-08-22T07:04:43.681550Z"
    },
    "papermill": {
     "duration": 0.064052,
     "end_time": "2020-08-22T07:04:43.682320",
     "exception": false,
     "start_time": "2020-08-22T07:04:43.618268",
     "status": "completed"
    },
    "tags": []
   },
   "outputs": [
    {
     "ename": "NameError",
     "evalue": "name 'model' is not defined",
     "output_type": "error",
     "traceback": [
      "\u001b[0;31m---------------------------------------------------------------------------\u001b[0m",
      "\u001b[0;31mNameError\u001b[0m                                 Traceback (most recent call last)",
      "\u001b[0;32m<ipython-input-53-decd67bbf386>\u001b[0m in \u001b[0;36m<module>\u001b[0;34m\u001b[0m\n\u001b[0;32m----> 1\u001b[0;31m \u001b[0mmodel\u001b[0m\u001b[0;34m.\u001b[0m\u001b[0mpredict\u001b[0m\u001b[0;34m(\u001b[0m\u001b[0mX_test\u001b[0m\u001b[0;34m)\u001b[0m\u001b[0;34m\u001b[0m\u001b[0;34m\u001b[0m\u001b[0m\n\u001b[0m",
      "\u001b[0;31mNameError\u001b[0m: name 'model' is not defined"
     ]
    }
   ],
   "source": [
    "model.predict(X_test)"
   ]
  },
  {
   "cell_type": "markdown",
   "execution_count": null,
   "metadata": {
    "papermill": {
     "duration": 0.042126,
     "end_time": "2020-08-22T07:04:43.767081",
     "exception": false,
     "start_time": "2020-08-22T07:04:43.724955",
     "status": "completed"
    },
    "tags": []
   },
   "source": [
    "# plot prediction and actual data"
   ]
  },
  {
   "cell_type": "markdown",
   "execution_count": null,
   "metadata": {
    "papermill": {
     "duration": 0.042184,
     "end_time": "2020-08-22T07:04:43.852078",
     "exception": false,
     "start_time": "2020-08-22T07:04:43.809894",
     "status": "completed"
    },
    "tags": []
   },
   "source": [
    "> To better understand why the prediction and actual are different , you can plot it in the following way:"
   ]
  },
  {
   "cell_type": "code",
   "execution_count": 54,
   "metadata": {
    "execution": {
     "iopub.execute_input": "2020-08-22T07:04:43.957164Z",
     "iopub.status.busy": "2020-08-22T07:04:43.956166Z",
     "iopub.status.idle": "2020-08-22T07:04:43.961176Z",
     "shell.execute_reply": "2020-08-22T07:04:43.960390Z"
    },
    "papermill": {
     "duration": 0.066564,
     "end_time": "2020-08-22T07:04:43.961311",
     "exception": false,
     "start_time": "2020-08-22T07:04:43.894747",
     "status": "completed"
    },
    "tags": []
   },
   "outputs": [
    {
     "ename": "NameError",
     "evalue": "name 'model' is not defined",
     "output_type": "error",
     "traceback": [
      "\u001b[0;31m---------------------------------------------------------------------------\u001b[0m",
      "\u001b[0;31mNameError\u001b[0m                                 Traceback (most recent call last)",
      "\u001b[0;32m<ipython-input-54-e499c5ea0827>\u001b[0m in \u001b[0;36m<module>\u001b[0;34m\u001b[0m\n\u001b[0;32m----> 1\u001b[0;31m \u001b[0my_pred\u001b[0m \u001b[0;34m=\u001b[0m \u001b[0mmodel\u001b[0m\u001b[0;34m.\u001b[0m\u001b[0mpredict\u001b[0m\u001b[0;34m(\u001b[0m\u001b[0mX_test\u001b[0m\u001b[0;34m)\u001b[0m\u001b[0;34m\u001b[0m\u001b[0;34m\u001b[0m\u001b[0m\n\u001b[0m\u001b[1;32m      2\u001b[0m \u001b[0mplt\u001b[0m\u001b[0;34m.\u001b[0m\u001b[0mplot\u001b[0m\u001b[0;34m(\u001b[0m\u001b[0my_test\u001b[0m\u001b[0;34m,\u001b[0m \u001b[0my_pred\u001b[0m\u001b[0;34m,\u001b[0m \u001b[0;34m'.'\u001b[0m\u001b[0;34m)\u001b[0m\u001b[0;34m\u001b[0m\u001b[0;34m\u001b[0m\u001b[0m\n\u001b[1;32m      3\u001b[0m \u001b[0;34m\u001b[0m\u001b[0m\n\u001b[1;32m      4\u001b[0m \u001b[0;31m# plot a line, a perfit predict would all fall on this line\u001b[0m\u001b[0;34m\u001b[0m\u001b[0;34m\u001b[0m\u001b[0;34m\u001b[0m\u001b[0m\n\u001b[1;32m      5\u001b[0m \u001b[0mx\u001b[0m \u001b[0;34m=\u001b[0m \u001b[0mnp\u001b[0m\u001b[0;34m.\u001b[0m\u001b[0mlinspace\u001b[0m\u001b[0;34m(\u001b[0m\u001b[0;36m0\u001b[0m\u001b[0;34m,\u001b[0m \u001b[0;36m330\u001b[0m\u001b[0;34m,\u001b[0m \u001b[0;36m100\u001b[0m\u001b[0;34m)\u001b[0m\u001b[0;34m\u001b[0m\u001b[0;34m\u001b[0m\u001b[0m\n",
      "\u001b[0;31mNameError\u001b[0m: name 'model' is not defined"
     ]
    }
   ],
   "source": [
    "y_pred = model.predict(X_test) \n",
    "plt.plot(y_test, y_pred, '.')\n",
    "\n",
    "# plot a line, a perfit predict would all fall on this line\n",
    "x = np.linspace(0, 330, 100)\n",
    "y = x\n",
    "plt.plot(x, y)\n",
    "plt.show()"
   ]
  },
  {
   "cell_type": "markdown",
   "execution_count": null,
   "metadata": {
    "papermill": {
     "duration": 0.043606,
     "end_time": "2020-08-22T07:04:44.049295",
     "exception": false,
     "start_time": "2020-08-22T07:04:44.005689",
     "status": "completed"
    },
    "tags": []
   },
   "source": [
    "# 10.Try different algorithms and check their performance over metrics like R square, RMSE, MAE etc and document your findings"
   ]
  },
  {
   "cell_type": "markdown",
   "execution_count": null,
   "metadata": {
    "papermill": {
     "duration": 0.04397,
     "end_time": "2020-08-22T07:04:44.137052",
     "exception": false,
     "start_time": "2020-08-22T07:04:44.093082",
     "status": "completed"
    },
    "tags": []
   },
   "source": [
    "# r2 score \n",
    "—varies between 0 and 100%. It is closely related to the MSE (see below), but not the same. Wikipedia defines r2 like this, ” … is the proportion of the variance in the dependent variable that is predictable from the independent variable(s).” Another definition is “(total variance explained by model) / total variance.” So if it is 100%, the two variables are perfectly correlated, i.e., with no variance at all. A low value would show a low level of correlation, meaning a regression model that is not valid, but not in all cases.\n",
    "\n",
    "Reading the code below, we do this calculation in three steps to make it easier to understand. g is the sum of the differences between the observed values and the predicted ones. (ytest[i] – preds[i]) **2. y is each observed value y[i] minus the average of observed values np.mean(ytest). And then the results are printed thus:"
   ]
  },
  {
   "cell_type": "markdown",
   "execution_count": null,
   "metadata": {
    "papermill": {
     "duration": 0.042814,
     "end_time": "2020-08-22T07:04:44.223099",
     "exception": false,
     "start_time": "2020-08-22T07:04:44.180285",
     "status": "completed"
    },
    "tags": []
   },
   "source": [
    "# mean square error (MSE)—\n",
    "is the average of the square of the errors. The larger the number the larger the error. Error in this case means the difference between the observed values y1, y2, y3, … and the predicted ones pred(y1), pred(y2), pred(y3), … We square each difference (pred(yn) – yn)) ** 2 so that negative and positive values do not cancel each other out."
   ]
  },
  {
   "cell_type": "markdown",
   "execution_count": null,
   "metadata": {
    "papermill": {
     "duration": 0.042912,
     "end_time": "2020-08-22T07:04:44.309764",
     "exception": false,
     "start_time": "2020-08-22T07:04:44.266852",
     "status": "completed"
    },
    "tags": []
   },
   "source": [
    "# Mean Absolute Error or MAE\n",
    "We know that an error basically is the absolute difference between the actual or true values and the values that are predicted. Absolute difference means that if the result has a negative sign, it is ignored.\n",
    "\n",
    "Hence, MAE = True values – Predicted values\n",
    "\n",
    "MAE takes the average of this error from every sample in a dataset and gives the output.\n",
    "But this value might not be the relevant aspect that can be considered while dealing with a real-life situation because the data we use to build the model as well as evaluate it is the same, which means the model has no exposure to real, never-seen-before data. So, it may perform extremely well on seen data but might fail miserably when it encounters real, unseen data.\n",
    "\n",
    "The concepts of underfitting and overfitting can be pondered over, from here:\n",
    "\n",
    "Underfitting: The scenario when a machine learning model almost exactly matches the training data but performs very poorly when it encounters new data or validation set.\n",
    "\n",
    "Overfitting: The scenario when a machine learning model is unable to capture the important patterns and insights from the data, which results in the model performing poorly on training data itself.\n",
    "\n",
    "This can be implemented using sklearn’s mean_absolute_error method:"
   ]
  },
  {
   "cell_type": "markdown",
   "execution_count": null,
   "metadata": {
    "papermill": {
     "duration": 0.04323,
     "end_time": "2020-08-22T07:04:44.397057",
     "exception": false,
     "start_time": "2020-08-22T07:04:44.353827",
     "status": "completed"
    },
    "tags": []
   },
   "source": [
    "# Where to use which Metric to determine the Performance of a Machine Learning Model?\n",
    "\n",
    "MAE: It is not very sensitive to outliers in comparison to MSE since it doesn't punish huge errors. It is usually used when the performance is measured on continuous variable data. It gives a linear value, which averages the weighted individual differences equally. The lower the value, better is the model's performance.\n",
    "\n",
    "MSE: It is one of the most commonly used metrics, but least useful when a single bad prediction would ruin the entire model's predicting abilities, i.e when the dataset contains a lot of noise. It is most useful when the dataset contains outliers, or unexpected values (too high or too low values).\n",
    "\n",
    "RMSE: In RMSE, the errors are squared before they are averaged. This basically implies that RMSE assigns a higher weight to larger errors. This indicates that RMSE is much more useful when large errors are present and they drastically affect the model's performance. It avoids taking the absolute value of the error and this trait is useful in many mathematical calculations. In this metric also, lower the value, better is the performance of the model."
   ]
  },
  {
   "cell_type": "code",
   "execution_count": 55,
   "metadata": {
    "execution": {
     "iopub.execute_input": "2020-08-22T07:04:44.503880Z",
     "iopub.status.busy": "2020-08-22T07:04:44.502979Z",
     "iopub.status.idle": "2020-08-22T07:04:44.507921Z",
     "shell.execute_reply": "2020-08-22T07:04:44.507254Z"
    },
    "papermill": {
     "duration": 0.067618,
     "end_time": "2020-08-22T07:04:44.508062",
     "exception": false,
     "start_time": "2020-08-22T07:04:44.440444",
     "status": "completed"
    },
    "tags": []
   },
   "outputs": [
    {
     "ename": "NameError",
     "evalue": "name 'y_test' is not defined",
     "output_type": "error",
     "traceback": [
      "\u001b[0;31m---------------------------------------------------------------------------\u001b[0m",
      "\u001b[0;31mNameError\u001b[0m                                 Traceback (most recent call last)",
      "\u001b[0;32m<ipython-input-55-6fc714a05ed3>\u001b[0m in \u001b[0;36m<module>\u001b[0;34m\u001b[0m\n\u001b[1;32m      2\u001b[0m \u001b[0;32mimport\u001b[0m \u001b[0mmath\u001b[0m\u001b[0;34m\u001b[0m\u001b[0;34m\u001b[0m\u001b[0m\n\u001b[1;32m      3\u001b[0m \u001b[0;34m\u001b[0m\u001b[0m\n\u001b[0;32m----> 4\u001b[0;31m \u001b[0mprint\u001b[0m\u001b[0;34m(\u001b[0m\u001b[0;34m'MSE: %.2f'\u001b[0m \u001b[0;34m%\u001b[0m \u001b[0mmean_squared_error\u001b[0m\u001b[0;34m(\u001b[0m\u001b[0my_test\u001b[0m\u001b[0;34m,\u001b[0m \u001b[0my_pred\u001b[0m\u001b[0;34m)\u001b[0m\u001b[0;34m)\u001b[0m\u001b[0;34m\u001b[0m\u001b[0;34m\u001b[0m\u001b[0m\n\u001b[0m\u001b[1;32m      5\u001b[0m \u001b[0mprint\u001b[0m\u001b[0;34m(\u001b[0m\u001b[0;34m'R Squared : %.2f'\u001b[0m \u001b[0;34m%\u001b[0m \u001b[0mr2_score\u001b[0m\u001b[0;34m(\u001b[0m\u001b[0my_test\u001b[0m\u001b[0;34m,\u001b[0m \u001b[0my_pred\u001b[0m\u001b[0;34m)\u001b[0m\u001b[0;34m)\u001b[0m\u001b[0;34m\u001b[0m\u001b[0;34m\u001b[0m\u001b[0m\n\u001b[1;32m      6\u001b[0m \u001b[0mprint\u001b[0m\u001b[0;34m(\u001b[0m\u001b[0;34m'MAE :%.2f'\u001b[0m \u001b[0;34m%\u001b[0m \u001b[0mmean_absolute_error\u001b[0m\u001b[0;34m(\u001b[0m\u001b[0my_test\u001b[0m\u001b[0;34m,\u001b[0m \u001b[0my_pred\u001b[0m\u001b[0;34m)\u001b[0m\u001b[0;34m)\u001b[0m\u001b[0;34m\u001b[0m\u001b[0;34m\u001b[0m\u001b[0m\n",
      "\u001b[0;31mNameError\u001b[0m: name 'y_test' is not defined"
     ]
    }
   ],
   "source": [
    "from sklearn.metrics import mean_squared_error, r2_score, mean_absolute_error\n",
    "import math\n",
    "\n",
    "print('MSE: %.2f' % mean_squared_error(y_test, y_pred))\n",
    "print('R Squared : %.2f' % r2_score(y_test, y_pred))\n",
    "print('MAE :%.2f' % mean_absolute_error(y_test, y_pred))\n",
    "print('RMSE : %.2f' % math.sqrt(mean_squared_error(y_test, y_pred)))"
   ]
  },
  {
   "cell_type": "markdown",
   "execution_count": null,
   "metadata": {
    "papermill": {
     "duration": 0.042832,
     "end_time": "2020-08-22T07:04:44.594507",
     "exception": false,
     "start_time": "2020-08-22T07:04:44.551675",
     "status": "completed"
    },
    "tags": []
   },
   "source": [
    "# 10.2 document my findings\n",
    "There is no correct value for MSE. Simply put, the lower the value the better and 0 means the model is perfect. Since there is no correct answer, the MSE’s basic value is in selecting one prediction model over another.\n",
    "\n",
    "Similarly, there is also no correct answer as to what R2 should be. 100% means perfect correlation. Yet, there are models with a low R2 that are still good models.\n",
    "\n",
    "Our take away message here is that you cannot look at these metrics in isolation in sizing up your model. You have to look at other metrics as well, plus understand the underlying math."
   ]
  }
 ],
 "metadata": {
  "kernelspec": {
   "display_name": "Python 3",
   "language": "python",
   "name": "python3"
  },
  "language_info": {
   "codemirror_mode": {
    "name": "ipython",
    "version": 3
   },
   "file_extension": ".py",
   "mimetype": "text/x-python",
   "name": "python",
   "nbconvert_exporter": "python",
   "pygments_lexer": "ipython3",
   "version": "3.7.6"
  },
  "papermill": {
   "duration": 28.753456,
   "end_time": "2020-08-22T07:04:44.746281",
   "environment_variables": {},
   "exception": null,
   "input_path": "__notebook__.ipynb",
   "output_path": "__notebook__.ipynb",
   "parameters": {},
   "start_time": "2020-08-22T07:04:15.992825",
   "version": "2.1.0"
  }
 },
 "nbformat": 4,
 "nbformat_minor": 4
}
